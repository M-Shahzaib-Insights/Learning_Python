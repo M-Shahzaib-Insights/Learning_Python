{
 "cells": [
  {
   "cell_type": "markdown",
   "id": "e3b68147-0028-4ec8-ac0a-e974c72e443b",
   "metadata": {},
   "source": [
    "# List in List"
   ]
  },
  {
   "cell_type": "code",
   "execution_count": 1,
   "id": "d15d6c4d-87d9-43bc-8d6c-62a8426cd909",
   "metadata": {},
   "outputs": [],
   "source": [
    "numbers = [2,3,4,5,[11,12,13,14],7,8]"
   ]
  },
  {
   "cell_type": "code",
   "execution_count": 2,
   "id": "630ccd4b-32f6-4401-8aac-73f97d0d383e",
   "metadata": {},
   "outputs": [
    {
     "data": {
      "text/plain": [
       "[2, 3, 4, 5, [11, 12, 13, 14], 7, 8]"
      ]
     },
     "execution_count": 2,
     "metadata": {},
     "output_type": "execute_result"
    }
   ],
   "source": [
    "numbers"
   ]
  },
  {
   "cell_type": "code",
   "execution_count": 3,
   "id": "12ccbf70-524e-4395-9482-fe54c6b6b326",
   "metadata": {},
   "outputs": [
    {
     "data": {
      "text/plain": [
       "7"
      ]
     },
     "execution_count": 3,
     "metadata": {},
     "output_type": "execute_result"
    }
   ],
   "source": [
    "len(numbers)"
   ]
  },
  {
   "cell_type": "code",
   "execution_count": 4,
   "id": "e0031a5b-843f-4f16-9e08-feb1a3a987ee",
   "metadata": {},
   "outputs": [
    {
     "data": {
      "text/plain": [
       "[11, 12, 13, 14]"
      ]
     },
     "execution_count": 4,
     "metadata": {},
     "output_type": "execute_result"
    }
   ],
   "source": [
    "numbers[4]"
   ]
  },
  {
   "cell_type": "code",
   "execution_count": 5,
   "id": "ee987713-b907-49d6-b519-244e80a84c99",
   "metadata": {},
   "outputs": [
    {
     "data": {
      "text/plain": [
       "13"
      ]
     },
     "execution_count": 5,
     "metadata": {},
     "output_type": "execute_result"
    }
   ],
   "source": [
    "#To access list in list\n",
    "numbers [4][2]"
   ]
  },
  {
   "cell_type": "code",
   "execution_count": 6,
   "id": "d8e4b7e3-3366-4cf0-a451-6c40da281b90",
   "metadata": {},
   "outputs": [],
   "source": [
    "numbers.append(\"Pakistan\")"
   ]
  },
  {
   "cell_type": "code",
   "execution_count": 7,
   "id": "592ae17e-0ffa-4ba4-a08d-67a7bb9bb7b5",
   "metadata": {},
   "outputs": [
    {
     "data": {
      "text/plain": [
       "[2, 3, 4, 5, [11, 12, 13, 14], 7, 8, 'Pakistan']"
      ]
     },
     "execution_count": 7,
     "metadata": {},
     "output_type": "execute_result"
    }
   ],
   "source": [
    "numbers"
   ]
  },
  {
   "cell_type": "code",
   "execution_count": 10,
   "id": "1c056cb6-218e-4805-b78f-b3a9c0141e88",
   "metadata": {},
   "outputs": [
    {
     "data": {
      "text/plain": [
       "'n'"
      ]
     },
     "execution_count": 10,
     "metadata": {},
     "output_type": "execute_result"
    }
   ],
   "source": [
    "numbers[-1][-1]"
   ]
  },
  {
   "cell_type": "code",
   "execution_count": 11,
   "id": "c9a5121c-9d34-4c52-8121-3f5dc1ae07d3",
   "metadata": {},
   "outputs": [
    {
     "data": {
      "text/plain": [
       "'kist'"
      ]
     },
     "execution_count": 11,
     "metadata": {},
     "output_type": "execute_result"
    }
   ],
   "source": [
    "numbers[-1][2:6]"
   ]
  },
  {
   "cell_type": "code",
   "execution_count": 21,
   "id": "2accaa3d-ad48-4e8b-8365-fe971018b426",
   "metadata": {},
   "outputs": [
    {
     "data": {
      "text/plain": [
       "[2, 3, 4, 5, [11, 12, 13, 14], 800, 8, 'Pakistan']"
      ]
     },
     "execution_count": 21,
     "metadata": {},
     "output_type": "execute_result"
    }
   ],
   "source": [
    "#replace the value to the assigned index\n",
    "numbers[-3] = 800\n",
    "numbers"
   ]
  },
  {
   "cell_type": "code",
   "execution_count": 12,
   "id": "9b02ed34-971a-477d-a7f4-832bd23981e2",
   "metadata": {},
   "outputs": [
    {
     "data": {
      "text/plain": [
       "'atsik'"
      ]
     },
     "execution_count": 12,
     "metadata": {},
     "output_type": "execute_result"
    }
   ],
   "source": [
    "numbers[-1][6:1:-1]"
   ]
  },
  {
   "cell_type": "markdown",
   "id": "71b1f208-2f11-47a2-bcfa-c6e0ee2a61fd",
   "metadata": {},
   "source": [
    "# Dictionary\n",
    "- {key:value}\n",
    "- Mutable\n",
    "- Iterable\n",
    "- More descriptive than a list"
   ]
  },
  {
   "cell_type": "code",
   "execution_count": 13,
   "id": "6af4a421-e0d5-49e5-b8fe-8235a8988cb9",
   "metadata": {},
   "outputs": [],
   "source": [
    "profile = {}"
   ]
  },
  {
   "cell_type": "code",
   "execution_count": 14,
   "id": "f9094fcf-e5a9-4f6f-9f7c-ca1a6c3c4348",
   "metadata": {},
   "outputs": [
    {
     "data": {
      "text/plain": [
       "dict"
      ]
     },
     "execution_count": 14,
     "metadata": {},
     "output_type": "execute_result"
    }
   ],
   "source": [
    "type(profile)"
   ]
  },
  {
   "cell_type": "code",
   "execution_count": 15,
   "id": "dae3153f-5247-49b8-8c52-70b3d797abb4",
   "metadata": {},
   "outputs": [
    {
     "data": {
      "text/plain": [
       "0"
      ]
     },
     "execution_count": 15,
     "metadata": {},
     "output_type": "execute_result"
    }
   ],
   "source": [
    "len(profile)"
   ]
  },
  {
   "cell_type": "code",
   "execution_count": 16,
   "id": "60046f12-20ac-4bd0-bd7f-4aa0ca534bd5",
   "metadata": {},
   "outputs": [],
   "source": [
    "#Note: Keys can be string, int, tuple or anything that is immutable.\n",
    "#Values: int, float, string, boolean, list, dictionary, tuple, set\n",
    "profile = {'name':'Ali', 'age':28, 'height':5.8, 'weight':60, 'qualification':'Graduation'}"
   ]
  },
  {
   "cell_type": "code",
   "execution_count": 17,
   "id": "2922624c-2f8d-4a7b-8de3-a7c4a23681f0",
   "metadata": {},
   "outputs": [
    {
     "data": {
      "text/plain": [
       "5"
      ]
     },
     "execution_count": 17,
     "metadata": {},
     "output_type": "execute_result"
    }
   ],
   "source": [
    "len(profile)"
   ]
  },
  {
   "cell_type": "markdown",
   "id": "63c04b60-dcba-449b-8fd6-8ac0e63bab3d",
   "metadata": {},
   "source": [
    "# Accessing Member in a Dictionary"
   ]
  },
  {
   "cell_type": "code",
   "execution_count": 18,
   "id": "22df2c69-cc69-4e02-af7d-f4dc4026ac3a",
   "metadata": {},
   "outputs": [
    {
     "data": {
      "text/plain": [
       "'Ali'"
      ]
     },
     "execution_count": 18,
     "metadata": {},
     "output_type": "execute_result"
    }
   ],
   "source": [
    "profile['name']"
   ]
  },
  {
   "cell_type": "code",
   "execution_count": 20,
   "id": "5e785a59-e3f0-4d40-87c8-5b25ca339bba",
   "metadata": {},
   "outputs": [
    {
     "data": {
      "text/plain": [
       "5.8"
      ]
     },
     "execution_count": 20,
     "metadata": {},
     "output_type": "execute_result"
    }
   ],
   "source": [
    "profile['height']"
   ]
  },
  {
   "cell_type": "markdown",
   "id": "de9c098b-74e8-4a9f-87bc-81b1641c734b",
   "metadata": {},
   "source": [
    "# Adding member in existing deictionary"
   ]
  },
  {
   "cell_type": "code",
   "execution_count": 22,
   "id": "0cef34c9-0e48-449c-9507-1f59ddcdf535",
   "metadata": {},
   "outputs": [
    {
     "data": {
      "text/plain": [
       "{'name': 'Ali',\n",
       " 'age': 28,\n",
       " 'height': 5.8,\n",
       " 'weight': 60,\n",
       " 'qualification': 'Graduation',\n",
       " 'email': 'abc@gmail.com'}"
      ]
     },
     "execution_count": 22,
     "metadata": {},
     "output_type": "execute_result"
    }
   ],
   "source": [
    "#if key exists, it will replace the value with new value\n",
    "#if key does not exist, it will create a new key in the dictionary\n",
    "profile['email'] = 'abc@gmail.com'\n",
    "profile"
   ]
  },
  {
   "cell_type": "code",
   "execution_count": 23,
   "id": "eadaf137-e8de-48a0-816c-ad3a7d49d442",
   "metadata": {},
   "outputs": [
    {
     "data": {
      "text/plain": [
       "dict_keys(['name', 'age', 'height', 'weight', 'qualification', 'email'])"
      ]
     },
     "execution_count": 23,
     "metadata": {},
     "output_type": "execute_result"
    }
   ],
   "source": [
    "profile.keys()"
   ]
  },
  {
   "cell_type": "code",
   "execution_count": 24,
   "id": "92c1d368-85f6-4673-8a42-984e6e77e17f",
   "metadata": {},
   "outputs": [
    {
     "data": {
      "text/plain": [
       "dict_values(['Ali', 28, 5.8, 60, 'Graduation', 'abc@gmail.com'])"
      ]
     },
     "execution_count": 24,
     "metadata": {},
     "output_type": "execute_result"
    }
   ],
   "source": [
    "profile.values()"
   ]
  },
  {
   "cell_type": "code",
   "execution_count": 25,
   "id": "223085b7-ffbd-4f5d-a1a6-4faf77db246d",
   "metadata": {},
   "outputs": [
    {
     "data": {
      "text/plain": [
       "dict_items([('name', 'Ali'), ('age', 28), ('height', 5.8), ('weight', 60), ('qualification', 'Graduation'), ('email', 'abc@gmail.com')])"
      ]
     },
     "execution_count": 25,
     "metadata": {},
     "output_type": "execute_result"
    }
   ],
   "source": [
    "profile.items()"
   ]
  },
  {
   "cell_type": "code",
   "execution_count": 26,
   "id": "8cabd4f5-ed6d-4f17-9b64-79c0c139e968",
   "metadata": {},
   "outputs": [
    {
     "ename": "TypeError",
     "evalue": "pop expected at least 1 argument, got 0",
     "output_type": "error",
     "traceback": [
      "\u001b[1;31m---------------------------------------------------------------------------\u001b[0m",
      "\u001b[1;31mTypeError\u001b[0m                                 Traceback (most recent call last)",
      "Cell \u001b[1;32mIn[26], line 1\u001b[0m\n\u001b[1;32m----> 1\u001b[0m profile\u001b[38;5;241m.\u001b[39mpop()\n",
      "\u001b[1;31mTypeError\u001b[0m: pop expected at least 1 argument, got 0"
     ]
    }
   ],
   "source": [
    "profile.pop()"
   ]
  },
  {
   "cell_type": "code",
   "execution_count": 27,
   "id": "32f05537-b467-44ac-a381-8476060bc6e0",
   "metadata": {},
   "outputs": [
    {
     "data": {
      "text/plain": [
       "60"
      ]
     },
     "execution_count": 27,
     "metadata": {},
     "output_type": "execute_result"
    }
   ],
   "source": [
    "profile.pop('weight')"
   ]
  },
  {
   "cell_type": "code",
   "execution_count": 28,
   "id": "1d0fafb5-5b75-4372-92d0-1d3901d09130",
   "metadata": {},
   "outputs": [
    {
     "data": {
      "text/plain": [
       "{'name': 'Ali',\n",
       " 'age': 28,\n",
       " 'height': 5.8,\n",
       " 'qualification': 'Graduation',\n",
       " 'email': 'abc@gmail.com'}"
      ]
     },
     "execution_count": 28,
     "metadata": {},
     "output_type": "execute_result"
    }
   ],
   "source": [
    "profile"
   ]
  },
  {
   "cell_type": "code",
   "execution_count": 29,
   "id": "2022bdaf-6184-45a5-9985-89d66da6ba25",
   "metadata": {},
   "outputs": [
    {
     "data": {
      "text/plain": [
       "('email', 'abc@gmail.com')"
      ]
     },
     "execution_count": 29,
     "metadata": {},
     "output_type": "execute_result"
    }
   ],
   "source": [
    "#popitem will remove the last key that was added in the dict.\n",
    "profile.popitem()"
   ]
  },
  {
   "cell_type": "code",
   "execution_count": 30,
   "id": "3c9ac950-a494-4cc5-a3e2-8201870b5fda",
   "metadata": {},
   "outputs": [
    {
     "data": {
      "text/plain": [
       "{'name': 'Ali', 'age': 28, 'height': 5.8, 'qualification': 'Graduation'}"
      ]
     },
     "execution_count": 30,
     "metadata": {},
     "output_type": "execute_result"
    }
   ],
   "source": [
    "profile"
   ]
  },
  {
   "cell_type": "code",
   "execution_count": 31,
   "id": "ad1220a3-0ea9-4cc0-83f4-e10bcdc85aee",
   "metadata": {},
   "outputs": [],
   "source": [
    "researche_areas = {'CompSc':'AI', 'Phy':'QuantumTheory'}"
   ]
  },
  {
   "cell_type": "code",
   "execution_count": 32,
   "id": "74696ceb-6280-44d5-b589-88674c0d5733",
   "metadata": {},
   "outputs": [
    {
     "data": {
      "text/plain": [
       "{'CompSc': 'AI', 'Phy': 'QuantumTheory'}"
      ]
     },
     "execution_count": 32,
     "metadata": {},
     "output_type": "execute_result"
    }
   ],
   "source": [
    "researche_areas"
   ]
  },
  {
   "cell_type": "code",
   "execution_count": 33,
   "id": "625e34b3-dd1e-4fd0-9901-8b1e635d270f",
   "metadata": {},
   "outputs": [
    {
     "data": {
      "text/plain": [
       "{'name': 'Ali',\n",
       " 'age': 28,\n",
       " 'height': 5.8,\n",
       " 'qualification': 'Graduation',\n",
       " 'research': {'CompSc': 'AI', 'Phy': 'QuantumTheory'}}"
      ]
     },
     "execution_count": 33,
     "metadata": {},
     "output_type": "execute_result"
    }
   ],
   "source": [
    "#Added the whole dict as it was.\n",
    "profile['research'] = researche_areas\n",
    "profile"
   ]
  },
  {
   "cell_type": "code",
   "execution_count": 36,
   "id": "e34b341c-b1ec-472c-985a-f87b9845d9a9",
   "metadata": {},
   "outputs": [
    {
     "data": {
      "text/plain": [
       "{'name': 'Ali',\n",
       " 'age': 28,\n",
       " 'height': 5.8,\n",
       " 'qualification': 'Graduation',\n",
       " 'research': {'CompSc': 'AI', 'Phy': 'QuantumTheory'},\n",
       " 'CompSc': 'AI',\n",
       " 'Phy': 'QuantumTheory'}"
      ]
     },
     "execution_count": 36,
     "metadata": {},
     "output_type": "execute_result"
    }
   ],
   "source": [
    "#Added the dict as separate keys and values\n",
    "profile.update(researche_areas)\n",
    "profile"
   ]
  },
  {
   "cell_type": "code",
   "execution_count": 37,
   "id": "f22552d2-d374-4b43-bec4-1163ccbdbe58",
   "metadata": {},
   "outputs": [
    {
     "data": {
      "text/plain": [
       "{'name': 'Ali',\n",
       " 'age': 28,\n",
       " 'height': 5.8,\n",
       " 'qualification': 'Graduation',\n",
       " 'CompSc': 'AI',\n",
       " 'Phy': 'QuantumTheory'}"
      ]
     },
     "execution_count": 37,
     "metadata": {},
     "output_type": "execute_result"
    }
   ],
   "source": [
    "del profile['research']\n",
    "profile"
   ]
  },
  {
   "cell_type": "markdown",
   "id": "ea4f75ed-5084-4184-b86b-7d9474c4b1b5",
   "metadata": {},
   "source": [
    "# List in a Dictionary\n",
    "# Dictionary in a List\n",
    "# Dictionary in a Dictionary"
   ]
  },
  {
   "cell_type": "markdown",
   "id": "60d87b07-d5b4-4164-b159-32f8490e56c1",
   "metadata": {},
   "source": [
    "### List in a Dictionary"
   ]
  },
  {
   "cell_type": "code",
   "execution_count": 38,
   "id": "1310af24-32c9-4f0f-819d-3a4e9ed9135b",
   "metadata": {},
   "outputs": [],
   "source": [
    "report = {'name':['Asad', 'Ali', 'Danish', 'Anas', 'Raza', 'Nasir'],\n",
    "          'roll':[1,2,3,4,5,6],\n",
    "          'course':['Python','Stats','AI','ML', 'Pyhton'],\n",
    "          'marks':[90,67,75,63,99]}"
   ]
  },
  {
   "cell_type": "code",
   "execution_count": 39,
   "id": "768d368b-1a58-4019-8a61-2a72092d924e",
   "metadata": {},
   "outputs": [
    {
     "data": {
      "text/plain": [
       "{'name': ['Asad', 'Ali', 'Danish', 'Anas', 'Raza', 'Nasir'],\n",
       " 'roll': [1, 2, 3, 4, 5, 6],\n",
       " 'course': ['Python', 'Stats', 'AI', 'ML', 'Pyhton'],\n",
       " 'marks': [90, 67, 75, 63, 99]}"
      ]
     },
     "execution_count": 39,
     "metadata": {},
     "output_type": "execute_result"
    }
   ],
   "source": [
    "report"
   ]
  },
  {
   "cell_type": "code",
   "execution_count": 40,
   "id": "1a2fc4f3-8e21-4a8c-88e4-cf9a1dfa4580",
   "metadata": {},
   "outputs": [
    {
     "data": {
      "text/plain": [
       "'AI'"
      ]
     },
     "execution_count": 40,
     "metadata": {},
     "output_type": "execute_result"
    }
   ],
   "source": [
    "report['course'][2]"
   ]
  },
  {
   "cell_type": "code",
   "execution_count": 41,
   "id": "6a3a82eb-eff4-421a-9a26-b146349fb8f9",
   "metadata": {},
   "outputs": [
    {
     "data": {
      "text/plain": [
       "'Danish'"
      ]
     },
     "execution_count": 41,
     "metadata": {},
     "output_type": "execute_result"
    }
   ],
   "source": [
    "report['name'][2]"
   ]
  },
  {
   "cell_type": "markdown",
   "id": "5f806c1c-5626-45b5-b8f6-88f999208c96",
   "metadata": {},
   "source": [
    "### Dictionary in a List"
   ]
  },
  {
   "cell_type": "code",
   "execution_count": 56,
   "id": "a4e9b574-f947-41c3-b615-c64a35b8a127",
   "metadata": {},
   "outputs": [],
   "source": [
    "students = [{'name':'Asad','roll':123,'course':'Python'},\n",
    "            {'name':'Danial','roll':124,'course':'AI'},\n",
    "            {'name':'Yasir','roll':100,'course':'ML'},\n",
    "            {'name':'Ahmed','roll':113,'course':'SQL'}]"
   ]
  },
  {
   "cell_type": "code",
   "execution_count": 57,
   "id": "aca99d08-81d3-40fe-88cc-60ec5528d858",
   "metadata": {},
   "outputs": [
    {
     "data": {
      "text/plain": [
       "4"
      ]
     },
     "execution_count": 57,
     "metadata": {},
     "output_type": "execute_result"
    }
   ],
   "source": [
    "len(students)"
   ]
  },
  {
   "cell_type": "code",
   "execution_count": 58,
   "id": "87e3ccc7-2013-408c-ade9-94c50aa97f21",
   "metadata": {},
   "outputs": [
    {
     "data": {
      "text/plain": [
       "3"
      ]
     },
     "execution_count": 58,
     "metadata": {},
     "output_type": "execute_result"
    }
   ],
   "source": [
    "len(students[2])"
   ]
  },
  {
   "cell_type": "code",
   "execution_count": 59,
   "id": "2d7c848f-ed2a-4569-9757-8d0602a20d6a",
   "metadata": {},
   "outputs": [
    {
     "data": {
      "text/plain": [
       "'Ahmed'"
      ]
     },
     "execution_count": 59,
     "metadata": {},
     "output_type": "execute_result"
    }
   ],
   "source": [
    "students[3]['name']"
   ]
  },
  {
   "cell_type": "code",
   "execution_count": 60,
   "id": "3119bb0d-9da5-4af8-8974-9ed8a5d782c9",
   "metadata": {},
   "outputs": [
    {
     "data": {
      "text/plain": [
       "[{'name': 'Yasir', 'roll': 100, 'course': 'ML'},\n",
       " {'name': 'Ahmed', 'roll': 113, 'course': 'SQL'}]"
      ]
     },
     "execution_count": 60,
     "metadata": {},
     "output_type": "execute_result"
    }
   ],
   "source": [
    "students[2:4]"
   ]
  },
  {
   "cell_type": "markdown",
   "id": "c1f384f6-24c1-4ff1-bbd0-bd570561c0bc",
   "metadata": {},
   "source": [
    "### Dictionary in a Dictionary"
   ]
  },
  {
   "cell_type": "code",
   "execution_count": 61,
   "id": "9248cb53-c4c0-43e0-95cf-28213a692cbf",
   "metadata": {},
   "outputs": [],
   "source": [
    "students = {\n",
    "                \"name\":{'first_name':'Nasir', 'last_name':'Hussain'},\n",
    "                \"course\":{'enrolled':'Python', 'dropped':'AI'},\n",
    "                 \"emails\":{'current':'abc@gmail.com','previous':'xyz@gmail.com'}\n",
    "             }"
   ]
  },
  {
   "cell_type": "code",
   "execution_count": 62,
   "id": "e446a721-8b23-472b-bcd3-b70b19ed4f74",
   "metadata": {},
   "outputs": [
    {
     "data": {
      "text/plain": [
       "3"
      ]
     },
     "execution_count": 62,
     "metadata": {},
     "output_type": "execute_result"
    }
   ],
   "source": [
    "len(students)"
   ]
  },
  {
   "cell_type": "code",
   "execution_count": 63,
   "id": "93e855f4-e837-4693-80cc-32e08c4f9888",
   "metadata": {},
   "outputs": [
    {
     "data": {
      "text/plain": [
       "'AI'"
      ]
     },
     "execution_count": 63,
     "metadata": {},
     "output_type": "execute_result"
    }
   ],
   "source": [
    "students['course']['dropped']"
   ]
  },
  {
   "cell_type": "markdown",
   "id": "55af9285-e940-4867-96d4-476c10e556b6",
   "metadata": {},
   "source": [
    "## Operators:\n",
    "### in: membership checking operator\n",
    "### is: identity check operator\n",
    "### not: negation\n",
    "### and: logical and\n",
    "### or: logical"
   ]
  },
  {
   "cell_type": "code",
   "execution_count": 66,
   "id": "b40805ac-82a1-40be-b9b3-d3eef8b692ef",
   "metadata": {},
   "outputs": [],
   "source": [
    "name = ['Asad', 'Ali', 'Danish', 'Anas', 'Raza', 'Nasir']"
   ]
  },
  {
   "cell_type": "code",
   "execution_count": 67,
   "id": "8e0a2465-d1c4-4f90-bcbb-4b20631a9629",
   "metadata": {},
   "outputs": [
    {
     "data": {
      "text/plain": [
       "['Asad', 'Ali', 'Danish', 'Anas', 'Raza', 'Nasir']"
      ]
     },
     "execution_count": 67,
     "metadata": {},
     "output_type": "execute_result"
    }
   ],
   "source": [
    "name"
   ]
  },
  {
   "cell_type": "markdown",
   "id": "7c03805f-dd97-4aa1-bfaa-63716c7d291d",
   "metadata": {},
   "source": [
    "## in operator:"
   ]
  },
  {
   "cell_type": "code",
   "execution_count": 68,
   "id": "5dba51f0-099e-465f-9183-feca2e80d086",
   "metadata": {},
   "outputs": [
    {
     "data": {
      "text/plain": [
       "True"
      ]
     },
     "execution_count": 68,
     "metadata": {},
     "output_type": "execute_result"
    }
   ],
   "source": [
    "\"Anas\" in name"
   ]
  },
  {
   "cell_type": "code",
   "execution_count": 69,
   "id": "d5a133d2-88dd-41b3-8628-9c8a6c717534",
   "metadata": {},
   "outputs": [
    {
     "data": {
      "text/plain": [
       "False"
      ]
     },
     "execution_count": 69,
     "metadata": {},
     "output_type": "execute_result"
    }
   ],
   "source": [
    "\"Anas\" not in name"
   ]
  },
  {
   "cell_type": "code",
   "execution_count": 70,
   "id": "e966782f-f6b9-4bb9-8074-4a3582102dfc",
   "metadata": {},
   "outputs": [
    {
     "data": {
      "text/plain": [
       "True"
      ]
     },
     "execution_count": 70,
     "metadata": {},
     "output_type": "execute_result"
    }
   ],
   "source": [
    "\"a\" in name[3]"
   ]
  },
  {
   "cell_type": "code",
   "execution_count": 72,
   "id": "5fdb651d-f119-46d9-9d30-06ac2fb42fac",
   "metadata": {},
   "outputs": [
    {
     "data": {
      "text/plain": [
       "True"
      ]
     },
     "execution_count": 72,
     "metadata": {},
     "output_type": "execute_result"
    }
   ],
   "source": [
    "'emails' in students"
   ]
  },
  {
   "cell_type": "code",
   "execution_count": 74,
   "id": "4f1804ea-74ab-463e-885c-640e9f0f95c5",
   "metadata": {},
   "outputs": [
    {
     "data": {
      "text/plain": [
       "False"
      ]
     },
     "execution_count": 74,
     "metadata": {},
     "output_type": "execute_result"
    }
   ],
   "source": [
    "'dropped' in students"
   ]
  },
  {
   "cell_type": "code",
   "execution_count": 76,
   "id": "0037a0cd-7e28-4a02-92ab-73b652fd699b",
   "metadata": {},
   "outputs": [
    {
     "data": {
      "text/plain": [
       "True"
      ]
     },
     "execution_count": 76,
     "metadata": {},
     "output_type": "execute_result"
    }
   ],
   "source": [
    "'dropped' in students['course']"
   ]
  },
  {
   "cell_type": "markdown",
   "id": "4abdd4d4-d838-410b-b1fb-28158a29d33e",
   "metadata": {},
   "source": [
    "## is operator"
   ]
  },
  {
   "cell_type": "code",
   "execution_count": 77,
   "id": "0811bb44-4eca-4eaf-b56f-534df5313685",
   "metadata": {},
   "outputs": [],
   "source": [
    "a = 10"
   ]
  },
  {
   "cell_type": "code",
   "execution_count": 78,
   "id": "859f4bb0-078a-45c4-bea6-c357b3895850",
   "metadata": {},
   "outputs": [],
   "source": [
    "b = 20"
   ]
  },
  {
   "cell_type": "code",
   "execution_count": 79,
   "id": "bafdc8db-6b76-4fa7-9a1d-786bb25684ce",
   "metadata": {},
   "outputs": [
    {
     "data": {
      "text/plain": [
       "False"
      ]
     },
     "execution_count": 79,
     "metadata": {},
     "output_type": "execute_result"
    }
   ],
   "source": [
    "a is b"
   ]
  },
  {
   "cell_type": "code",
   "execution_count": 81,
   "id": "c325927f-408f-4456-a01e-84b106d2cb90",
   "metadata": {},
   "outputs": [],
   "source": [
    "c = a"
   ]
  },
  {
   "cell_type": "code",
   "execution_count": 99,
   "id": "aab18752-ea16-4de9-9b74-12ae2702d44d",
   "metadata": {},
   "outputs": [
    {
     "data": {
      "text/plain": [
       "False"
      ]
     },
     "execution_count": 99,
     "metadata": {},
     "output_type": "execute_result"
    }
   ],
   "source": [
    "a is c"
   ]
  },
  {
   "cell_type": "code",
   "execution_count": 100,
   "id": "7f84cc53-773b-443a-843c-6e82b2f3e3f0",
   "metadata": {},
   "outputs": [],
   "source": [
    "d = 20"
   ]
  },
  {
   "cell_type": "code",
   "execution_count": 101,
   "id": "db6bc0e3-758d-4c31-a799-d46515fbdeb2",
   "metadata": {},
   "outputs": [
    {
     "data": {
      "text/plain": [
       "True"
      ]
     },
     "execution_count": 101,
     "metadata": {},
     "output_type": "execute_result"
    }
   ],
   "source": [
    "b is d"
   ]
  },
  {
   "cell_type": "code",
   "execution_count": 102,
   "id": "e7484c41-331a-45f5-a74f-dc105587b944",
   "metadata": {},
   "outputs": [],
   "source": [
    "a = 9\n",
    "c = a"
   ]
  },
  {
   "cell_type": "code",
   "execution_count": 103,
   "id": "c3402d87-606b-496a-a737-e8a81e7ddf4f",
   "metadata": {},
   "outputs": [],
   "source": [
    "a = 10"
   ]
  },
  {
   "cell_type": "code",
   "execution_count": 104,
   "id": "69c75348-946f-4acf-a6be-82fbe272ed75",
   "metadata": {},
   "outputs": [
    {
     "data": {
      "text/plain": [
       "9"
      ]
     },
     "execution_count": 104,
     "metadata": {},
     "output_type": "execute_result"
    }
   ],
   "source": [
    "c"
   ]
  },
  {
   "cell_type": "code",
   "execution_count": 105,
   "id": "7ca366d9-199d-4c2c-9c4c-49415ad3d595",
   "metadata": {},
   "outputs": [
    {
     "data": {
      "text/plain": [
       "140731791059672"
      ]
     },
     "execution_count": 105,
     "metadata": {},
     "output_type": "execute_result"
    }
   ],
   "source": [
    "id(a)"
   ]
  },
  {
   "cell_type": "code",
   "execution_count": 106,
   "id": "fde52412-d86a-4b89-9f43-13a3ea782dcc",
   "metadata": {},
   "outputs": [
    {
     "data": {
      "text/plain": [
       "140731791059640"
      ]
     },
     "execution_count": 106,
     "metadata": {},
     "output_type": "execute_result"
    }
   ],
   "source": [
    "id(c)"
   ]
  },
  {
   "cell_type": "markdown",
   "id": "c34165cd-8ced-4f6d-9246-8c56c1ca91ef",
   "metadata": {},
   "source": [
    "### and operator\n",
    "- All conditions must be true\n",
    "\n",
    "### or Operator\n",
    "- Any single condition can be true"
   ]
  },
  {
   "cell_type": "code",
   "execution_count": 108,
   "id": "4593293a-1a5d-4cf2-883a-6591264c8b29",
   "metadata": {},
   "outputs": [
    {
     "data": {
      "text/plain": [
       "True"
      ]
     },
     "execution_count": 108,
     "metadata": {},
     "output_type": "execute_result"
    }
   ],
   "source": [
    "a = 100\n",
    "b = 200\n",
    "c = 300\n",
    "\n",
    "a<b or c<b"
   ]
  },
  {
   "cell_type": "code",
   "execution_count": 109,
   "id": "bbba88e1-e730-4998-a23c-f86985ad24ec",
   "metadata": {},
   "outputs": [
    {
     "data": {
      "text/plain": [
       "True"
      ]
     },
     "execution_count": 109,
     "metadata": {},
     "output_type": "execute_result"
    }
   ],
   "source": [
    "b>a and c>b"
   ]
  },
  {
   "cell_type": "code",
   "execution_count": 110,
   "id": "6867ddcf-6252-406a-866b-4174126d1350",
   "metadata": {},
   "outputs": [
    {
     "data": {
      "text/plain": [
       "False"
      ]
     },
     "execution_count": 110,
     "metadata": {},
     "output_type": "execute_result"
    }
   ],
   "source": [
    "a>b or b>c"
   ]
  },
  {
   "cell_type": "code",
   "execution_count": 111,
   "id": "44939cc1-0349-44f9-91b8-da8ab59075ad",
   "metadata": {},
   "outputs": [
    {
     "data": {
      "text/plain": [
       "False"
      ]
     },
     "execution_count": 111,
     "metadata": {},
     "output_type": "execute_result"
    }
   ],
   "source": [
    "b>a and b>c"
   ]
  },
  {
   "cell_type": "code",
   "execution_count": 113,
   "id": "4d80ffce-c8dd-4ae2-8359-fa46eb93c11e",
   "metadata": {},
   "outputs": [
    {
     "data": {
      "text/plain": [
       "12"
      ]
     },
     "execution_count": 113,
     "metadata": {},
     "output_type": "execute_result"
    }
   ],
   "source": [
    "12 or 59 or 22"
   ]
  },
  {
   "cell_type": "code",
   "execution_count": 114,
   "id": "bf6a54ca-3466-42e9-a5dc-df69138ce8d7",
   "metadata": {},
   "outputs": [
    {
     "data": {
      "text/plain": [
       "22"
      ]
     },
     "execution_count": 114,
     "metadata": {},
     "output_type": "execute_result"
    }
   ],
   "source": [
    "12 and 59 and 22"
   ]
  },
  {
   "cell_type": "markdown",
   "id": "8e9fb1ae-5bd8-4d21-bf48-478c58276fd4",
   "metadata": {},
   "source": [
    "## Truthy: Every value has truthy value or boolean representation\n",
    "- If any value is not present, it has no truthy"
   ]
  },
  {
   "cell_type": "code",
   "execution_count": 115,
   "id": "74866f31-d9e1-4732-8fb3-6f77c3ffdf66",
   "metadata": {},
   "outputs": [
    {
     "data": {
      "text/plain": [
       "'hello'"
      ]
     },
     "execution_count": 115,
     "metadata": {},
     "output_type": "execute_result"
    }
   ],
   "source": [
    "'hello'"
   ]
  },
  {
   "cell_type": "code",
   "execution_count": 116,
   "id": "bd4612db-dcc3-44d3-bd43-84f3e54896d1",
   "metadata": {},
   "outputs": [
    {
     "data": {
      "text/plain": [
       "True"
      ]
     },
     "execution_count": 116,
     "metadata": {},
     "output_type": "execute_result"
    }
   ],
   "source": [
    "bool('hello')"
   ]
  },
  {
   "cell_type": "code",
   "execution_count": 117,
   "id": "2345608d-1eaf-49bb-b8e3-fb2b5b7f38b4",
   "metadata": {},
   "outputs": [
    {
     "data": {
      "text/plain": [
       "False"
      ]
     },
     "execution_count": 117,
     "metadata": {},
     "output_type": "execute_result"
    }
   ],
   "source": [
    "bool(\"\")"
   ]
  },
  {
   "cell_type": "code",
   "execution_count": 118,
   "id": "7ed4a4e8-7dfe-49d3-8f10-afd4cb570239",
   "metadata": {},
   "outputs": [
    {
     "data": {
      "text/plain": [
       "True"
      ]
     },
     "execution_count": 118,
     "metadata": {},
     "output_type": "execute_result"
    }
   ],
   "source": [
    "bool(12)"
   ]
  },
  {
   "cell_type": "code",
   "execution_count": 119,
   "id": "c058caaf-45b1-4a92-8044-8d8932083412",
   "metadata": {},
   "outputs": [
    {
     "data": {
      "text/plain": [
       "True"
      ]
     },
     "execution_count": 119,
     "metadata": {},
     "output_type": "execute_result"
    }
   ],
   "source": [
    "bool([1,3])"
   ]
  },
  {
   "cell_type": "code",
   "execution_count": 120,
   "id": "7fef7156-4b9a-4499-9335-46ef762a5bf7",
   "metadata": {},
   "outputs": [
    {
     "data": {
      "text/plain": [
       "False"
      ]
     },
     "execution_count": 120,
     "metadata": {},
     "output_type": "execute_result"
    }
   ],
   "source": [
    "bool([])"
   ]
  },
  {
   "cell_type": "code",
   "execution_count": null,
   "id": "c66459cf-1877-4716-8cc5-f9fc1edddf36",
   "metadata": {},
   "outputs": [],
   "source": []
  }
 ],
 "metadata": {
  "kernelspec": {
   "display_name": "Python 3 (ipykernel)",
   "language": "python",
   "name": "python3"
  },
  "language_info": {
   "codemirror_mode": {
    "name": "ipython",
    "version": 3
   },
   "file_extension": ".py",
   "mimetype": "text/x-python",
   "name": "python",
   "nbconvert_exporter": "python",
   "pygments_lexer": "ipython3",
   "version": "3.12.7"
  }
 },
 "nbformat": 4,
 "nbformat_minor": 5
}
