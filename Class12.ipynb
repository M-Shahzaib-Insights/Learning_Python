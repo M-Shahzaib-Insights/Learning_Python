{
 "cells": [
  {
   "cell_type": "code",
   "execution_count": 6,
   "id": "c1f26c27-22b4-4e86-8487-0d5f578d9458",
   "metadata": {},
   "outputs": [],
   "source": [
    "def calculate_exponent(num,exp):\n",
    "    s = 1\n",
    "    for a in range(1,exp+1):\n",
    "        s = s * num  \n",
    "    return s"
   ]
  },
  {
   "cell_type": "code",
   "execution_count": 8,
   "id": "cea9e105-9619-4d3c-8132-a3d0d97e0492",
   "metadata": {},
   "outputs": [
    {
     "data": {
      "text/plain": [
       "625"
      ]
     },
     "execution_count": 8,
     "metadata": {},
     "output_type": "execute_result"
    }
   ],
   "source": [
    "calculate_exponent(5,4)"
   ]
  },
  {
   "cell_type": "markdown",
   "id": "ab479715-c592-4583-a1b4-925c2bf6a883",
   "metadata": {},
   "source": [
    "## File: Reading and Writing I/O Text Files"
   ]
  },
  {
   "cell_type": "code",
   "execution_count": 27,
   "id": "11052636-73e5-427a-9652-e4bc8a496c5e",
   "metadata": {},
   "outputs": [
    {
     "name": "stdout",
     "output_type": "stream",
     "text": [
      "Marvel Comics is a New York City-based comic book publisher, a property of The Walt Disney Company since December 31, 2009, and a subsidiary of Disney Publishing Worldwide since March 2023. Marvel was founded in 1939 by Martin Goodman as Timely Comics,[3] and by 1951 had generally become known as Atlas Comics. The Marvel era began in August 1961 with the launch of The Fantastic Four and other superhero titles created by Stan Lee, Jack Kirby, Steve Ditko, and numerous others. The Marvel brand, which had been used over the years and decades, was solidified as the company's primary brand.\n"
     ]
    }
   ],
   "source": [
    "try:\n",
    "    f = open('Sample.txt', 'r') #r is for read\n",
    "    cont = f.read()\n",
    "    print(cont)\n",
    "    \n",
    "except FileNotFoundError:\n",
    "    print(\"The file you are looking for is not in this directory\")\n",
    "finally:\n",
    "    f.close()"
   ]
  },
  {
   "cell_type": "code",
   "execution_count": 28,
   "id": "83179934-2de7-4564-af15-b5447cdfe90f",
   "metadata": {},
   "outputs": [],
   "source": [
    "try:\n",
    "    f = open('Sample.txt', 'w') #w is for overwrite\n",
    "    f.write(\"Ironman \\n\")\n",
    "    \n",
    "except FileNotFoundError:\n",
    "    print(\"The file you are looking for is not in this directory\")\n",
    "finally:\n",
    "    f.close()"
   ]
  },
  {
   "cell_type": "code",
   "execution_count": 29,
   "id": "3e3f1393-30d9-44b6-b33b-be864e415663",
   "metadata": {},
   "outputs": [
    {
     "name": "stdout",
     "output_type": "stream",
     "text": [
      "Ironman \n",
      "\n"
     ]
    }
   ],
   "source": [
    "try:\n",
    "    f = open('Sample.txt', 'r')\n",
    "    cont = f.read()\n",
    "    print(cont)\n",
    "    \n",
    "except FileNotFoundError:\n",
    "    print(\"The file you are looking for is not in this directory\")\n",
    "finally:\n",
    "    f.close()"
   ]
  },
  {
   "cell_type": "code",
   "execution_count": null,
   "id": "51c2cf8f-7b16-4da0-8713-b2756a1d9542",
   "metadata": {},
   "outputs": [],
   "source": []
  },
  {
   "cell_type": "code",
   "execution_count": null,
   "id": "63a816f8-f3f6-4b03-90aa-1b1d4d7c3d19",
   "metadata": {},
   "outputs": [],
   "source": []
  },
  {
   "cell_type": "code",
   "execution_count": null,
   "id": "9ea370ca-bf2c-4439-b474-cf2f4dde4f92",
   "metadata": {},
   "outputs": [],
   "source": []
  },
  {
   "cell_type": "markdown",
   "id": "cd79c222-b660-4c66-9ebb-792fb38eebfa",
   "metadata": {},
   "source": [
    "# Context Manager"
   ]
  },
  {
   "cell_type": "code",
   "execution_count": 21,
   "id": "68e7a701-0dd0-4b00-a3d3-0f63acd198ea",
   "metadata": {},
   "outputs": [],
   "source": [
    "with open(\"Samplefile3.txt\",\"w\") as f:\n",
    "    f.write(\"Hello1 \\n\")\n",
    "    f.write(\"Hello2 \\n\")\n",
    "    f.write(\"Hello3 \\n\")\n",
    "    f.write(\"Hello4 \\n\")\n",
    "    f.write(\"Hello5 \\n\")"
   ]
  },
  {
   "cell_type": "code",
   "execution_count": 30,
   "id": "98be3825-1361-4475-bf33-88cde77fd364",
   "metadata": {},
   "outputs": [
    {
     "name": "stdout",
     "output_type": "stream",
     "text": [
      "Hello1 \n",
      "Hello2 \n",
      "Hello3 \n",
      "Hello4 \n",
      "Hello5 \n",
      "\n"
     ]
    }
   ],
   "source": [
    "with open(\"Samplefile3.txt\",\"r\") as f:\n",
    "    print(f.read())"
   ]
  },
  {
   "cell_type": "code",
   "execution_count": 31,
   "id": "f2fdb8f0-4e2c-4a56-9c2b-0ef15f1dbe0d",
   "metadata": {},
   "outputs": [],
   "source": [
    "with open(\"Samplefile3.txt\",\"a\") as f: #a is for append\n",
    "    f.write(\"This Hello6\")"
   ]
  },
  {
   "cell_type": "code",
   "execution_count": 32,
   "id": "8e3ce092-00f0-49dc-80a2-b952f436f59f",
   "metadata": {},
   "outputs": [
    {
     "name": "stdout",
     "output_type": "stream",
     "text": [
      "Hello1 \n",
      "Hello2 \n",
      "Hello3 \n",
      "Hello4 \n",
      "Hello5 \n",
      "This Hello6\n"
     ]
    }
   ],
   "source": [
    "with open(\"Samplefile3.txt\",\"r\") as f:\n",
    "    print(f.read())"
   ]
  },
  {
   "cell_type": "code",
   "execution_count": 33,
   "id": "170d8455-e246-488a-9bd7-fe1bfb05bfbc",
   "metadata": {},
   "outputs": [
    {
     "name": "stdout",
     "output_type": "stream",
     "text": [
      "Hello1 \n",
      "\n"
     ]
    }
   ],
   "source": [
    "with open(\"Samplefile3.txt\",\"r\") as f:\n",
    "    print(f.readline())"
   ]
  },
  {
   "cell_type": "code",
   "execution_count": 48,
   "id": "3ca9775a-2f2d-4c98-8a82-2034c5de6254",
   "metadata": {},
   "outputs": [
    {
     "name": "stdout",
     "output_type": "stream",
     "text": [
      "['Hello1 \\n', 'Hello2 \\n', 'Hello3 \\n', 'Hello4 \\n', 'Hello5 \\n', 'This Hello6say1\\n', 'say2\\n', 'say3\\n', 'say1\\n', 'say2\\n', 'say3\\n', '\\n', ' This is line 2\\n', ' This is line 3']\n"
     ]
    }
   ],
   "source": [
    "with open(\"Samplefile3.txt\",\"r\") as f:\n",
    "    print(f.readlines())"
   ]
  },
  {
   "cell_type": "code",
   "execution_count": 49,
   "id": "039b3310-c97a-4442-9ede-1671c125b35e",
   "metadata": {},
   "outputs": [
    {
     "name": "stdout",
     "output_type": "stream",
     "text": [
      "Hello1 \n",
      "Hello2 \n",
      "Hello3 \n",
      "Hello4 \n",
      "Hello5 \n",
      "This Hello6say1\n",
      "say2\n",
      "say3\n",
      "say1\n",
      "say2\n",
      "say3\n",
      "\n",
      " This is line 2\n",
      " This is line 3"
     ]
    }
   ],
   "source": [
    "with open(\"Samplefile3.txt\",\"r\") as f:\n",
    "    for line in f:\n",
    "        print(line, end ='')"
   ]
  },
  {
   "cell_type": "code",
   "execution_count": 50,
   "id": "b36100f3-0538-452a-a28b-ade5b42f92e5",
   "metadata": {},
   "outputs": [
    {
     "name": "stdout",
     "output_type": "stream",
     "text": [
      "Hello1 \n",
      "Hello2 \n",
      "Hello3 \n",
      "Hello4 \n",
      "This Hello6say1\n",
      "say2\n",
      "say3\n",
      "say1\n",
      "say2\n",
      "say3\n",
      "\n",
      " This is line 2\n",
      " This is line 3"
     ]
    }
   ],
   "source": [
    "with open(\"Samplefile3.txt\",\"r\") as f:\n",
    "    for line in f:\n",
    "        if \"5\" in line:\n",
    "            continue\n",
    "        print(line, end ='')"
   ]
  },
  {
   "cell_type": "code",
   "execution_count": 51,
   "id": "3c771ccc-bf9d-498d-bf76-40006fa91dd3",
   "metadata": {},
   "outputs": [],
   "source": [
    "with open(\"Samplefile3.txt\",\"a\") as f:\n",
    "    f.writelines(['say1\\n','say2\\n','say3\\n'])"
   ]
  },
  {
   "cell_type": "code",
   "execution_count": 52,
   "id": "600e2098-ece8-47a4-95cc-a8fece51f04c",
   "metadata": {},
   "outputs": [
    {
     "name": "stdout",
     "output_type": "stream",
     "text": [
      "Hello1 \n",
      "Hello2 \n",
      "Hello3 \n",
      "Hello4 \n",
      "Hello5 \n",
      "This Hello6say1\n",
      "say2\n",
      "say3\n",
      "say1\n",
      "say2\n",
      "say3\n",
      "\n",
      " This is line 2\n",
      " This is line 3say1\n",
      "say2\n",
      "say3\n",
      "\n"
     ]
    }
   ],
   "source": [
    "with open(\"Samplefile3.txt\",\"r\") as f:\n",
    "    print(f.read())"
   ]
  },
  {
   "cell_type": "code",
   "execution_count": 53,
   "id": "67f05e34-0d3d-4bc2-aa1d-8cfc04f702d7",
   "metadata": {},
   "outputs": [
    {
     "name": "stdout",
     "output_type": "stream",
     "text": [
      "Hello1 \n",
      "Hello2 \n",
      "Hello3 \n",
      "Hello4 \n",
      "Hello5 \n",
      "This Hello6say1\n",
      "say2\n",
      "say3\n",
      "say1\n",
      "say2\n",
      "say3\n",
      "\n",
      " This is line 2\n",
      " This is line 3say1\n",
      "say2\n",
      "say3\n",
      "\n",
      "\n",
      "\n"
     ]
    }
   ],
   "source": [
    "with open(\"Samplefile3.txt\",\"r+\") as f:\n",
    "    print (f.read())\n",
    "    f.write(\"\\n This is line 2\")\n",
    "    print (f.read())\n",
    "    f.write(\"\\n This is line 3\")\n",
    "    print (f.read())"
   ]
  },
  {
   "cell_type": "code",
   "execution_count": 54,
   "id": "3e7baf74-936c-402f-b139-7874257202c7",
   "metadata": {},
   "outputs": [
    {
     "name": "stdout",
     "output_type": "stream",
     "text": [
      "\n"
     ]
    }
   ],
   "source": [
    "with open(\"Samplefile4.txt\",\"w+\") as f:\n",
    "    f.write(\"This is new sample line 1\")\n",
    "    print (f.read())"
   ]
  },
  {
   "cell_type": "code",
   "execution_count": 55,
   "id": "b4a75a3b-66e2-4adf-89cb-917494a57201",
   "metadata": {},
   "outputs": [
    {
     "name": "stdout",
     "output_type": "stream",
     "text": [
      "This is new sample line 1\n"
     ]
    }
   ],
   "source": [
    "with open(\"Samplefile4.txt\",\"w+\") as f:\n",
    "    f.write(\"This is new sample line 1\")\n",
    "    f.seek(0)\n",
    "    print (f.read())"
   ]
  },
  {
   "cell_type": "raw",
   "id": "fe191a50-d896-4500-8e24-ef30da3fd2d5",
   "metadata": {},
   "source": [
    "Use Case:\n",
    "You are a Hotel Manager:\n",
    "guest check in\n",
    "guest check out"
   ]
  },
  {
   "cell_type": "code",
   "execution_count": 80,
   "id": "3dae5006-104a-49a0-8b85-fa7c88288170",
   "metadata": {},
   "outputs": [
    {
     "name": "stdout",
     "output_type": "stream",
     "text": [
      "1- Ali\n",
      "2- Imran\n",
      "3- Asim\n",
      "4- Bhutto\n",
      "5- Asif\n",
      "\n"
     ]
    }
   ],
   "source": [
    "guests = ['Ali', 'Imran', 'Asim', 'Bhutto','Asif']\n",
    "with open(\"guests.txt\",'w+') as f:\n",
    "    for i,guest in enumerate(guests):\n",
    "        f.write(f\"{i+1}- {guest}\\n\")\n",
    "    f.seek(0)\n",
    "    print(f.read())"
   ]
  },
  {
   "cell_type": "code",
   "execution_count": 81,
   "id": "78162700-b1e4-4704-ab48-4979131810d6",
   "metadata": {},
   "outputs": [
    {
     "name": "stdout",
     "output_type": "stream",
     "text": [
      "Ali\n",
      "Imran\n",
      "Asim\n",
      "Bhutto\n",
      "Asif\n",
      "\n"
     ]
    }
   ],
   "source": [
    "guests = ['Ali', 'Imran', 'Asim', 'Bhutto','Asif']\n",
    "with open(\"guests1.txt\",'w+') as f:\n",
    "    for guest in (guests):\n",
    "        f.write(f\"{guest}\\n\")\n",
    "    f.seek(0)\n",
    "    print(f.read())"
   ]
  },
  {
   "cell_type": "code",
   "execution_count": 82,
   "id": "12fd42a9-c69e-40a0-8d0e-e9d8ff4efcf4",
   "metadata": {},
   "outputs": [],
   "source": [
    "check_out = ['Asif', 'Bhutto']"
   ]
  },
  {
   "cell_type": "code",
   "execution_count": 88,
   "id": "7693721f-ac31-480f-b282-852a8502f505",
   "metadata": {},
   "outputs": [],
   "source": [
    "temp_guests = []\n",
    "with open(\"guests1.txt\",'w+') as f:\n",
    "    for line in f:\n",
    "        temp_guests.append(line)\n",
    "    for guest in temp_guests:\n",
    "        if guest not in check_out:\n",
    "            f.write(f\"{guest}\\n\")"
   ]
  },
  {
   "cell_type": "code",
   "execution_count": 89,
   "id": "b212f1ba-a2be-4347-aa5e-c53fdfcb29f2",
   "metadata": {
    "scrolled": true
   },
   "outputs": [
    {
     "name": "stdout",
     "output_type": "stream",
     "text": [
      "\n"
     ]
    }
   ],
   "source": [
    "with open(\"guests1.txt\",'r+') as f:\n",
    "    print(f.read())"
   ]
  },
  {
   "cell_type": "code",
   "execution_count": 90,
   "id": "71b92e23-2342-41e5-81d7-004b6aff135b",
   "metadata": {},
   "outputs": [
    {
     "name": "stdout",
     "output_type": "stream",
     "text": [
      "Initial Guests in the file:\n",
      "Ali\n",
      "Imran\n",
      "Asim\n",
      "Bhutto\n",
      "Asif\n",
      "\n",
      "Updated Guests in the file (after checkout):\n",
      "Ali\n",
      "Imran\n",
      "Asim\n",
      "\n"
     ]
    }
   ],
   "source": [
    "# Initial guest list\n",
    "guests = ['Ali', 'Imran', 'Asim', 'Bhutto', 'Asif']\n",
    "\n",
    "# Writing initial guest list to file\n",
    "with open(\"guests1.txt\", 'w+') as f:\n",
    "    for guest in guests:\n",
    "        f.write(f\"{guest}\\n\")\n",
    "    \n",
    "    # Move the file pointer back to the start to read the contents\n",
    "    f.seek(0)\n",
    "    print(\"Initial Guests in the file:\")\n",
    "    print(f.read())\n",
    "\n",
    "# List of guests checking out\n",
    "check_out = ['Asif', 'Bhutto']\n",
    "\n",
    "# Filter guests and update the file\n",
    "temp_guests = []\n",
    "with open(\"guests1.txt\", 'r+') as f:\n",
    "    # Read all lines into temp_guests\n",
    "    temp_guests = f.readlines()\n",
    "    \n",
    "    # Move the file pointer back to the start and clear the file\n",
    "    f.seek(0)\n",
    "    f.truncate()  # Clear the file content\n",
    "    \n",
    "    # Write guests that are not in check_out list back to the file\n",
    "    for guest in temp_guests:\n",
    "        if guest.strip() not in check_out:  # Strip newline characters for comparison\n",
    "            f.write(guest)\n",
    "\n",
    "# Read the updated file\n",
    "with open(\"guests1.txt\", 'r') as f:\n",
    "    print(\"Updated Guests in the file (after checkout):\")\n",
    "    print(f.read())\n"
   ]
  },
  {
   "cell_type": "code",
   "execution_count": null,
   "id": "a0cd09f5-fd65-4ca0-b47d-95b732fb19bd",
   "metadata": {},
   "outputs": [],
   "source": []
  },
  {
   "cell_type": "code",
   "execution_count": null,
   "id": "b7177fa9-2a0e-4a56-b88c-9c7799c4ab37",
   "metadata": {},
   "outputs": [],
   "source": []
  },
  {
   "cell_type": "code",
   "execution_count": null,
   "id": "885e06ab-ecde-48df-9ed3-70e12e405ec9",
   "metadata": {},
   "outputs": [],
   "source": []
  },
  {
   "cell_type": "code",
   "execution_count": null,
   "id": "9f506580-0ae6-47a7-8e46-a11be30b002b",
   "metadata": {},
   "outputs": [],
   "source": []
  }
 ],
 "metadata": {
  "kernelspec": {
   "display_name": "Python 3 (ipykernel)",
   "language": "python",
   "name": "python3"
  },
  "language_info": {
   "codemirror_mode": {
    "name": "ipython",
    "version": 3
   },
   "file_extension": ".py",
   "mimetype": "text/x-python",
   "name": "python",
   "nbconvert_exporter": "python",
   "pygments_lexer": "ipython3",
   "version": "3.12.7"
  }
 },
 "nbformat": 4,
 "nbformat_minor": 5
}
