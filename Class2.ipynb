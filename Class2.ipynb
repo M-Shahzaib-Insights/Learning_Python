{
 "cells": [
  {
   "cell_type": "code",
   "execution_count": 1,
   "id": "2e8d1e2f-65e9-4e0f-b5a9-dfd7c21c7510",
   "metadata": {},
   "outputs": [
    {
     "name": "stdout",
     "output_type": "stream",
     "text": [
      "Python Programming Fundamentals\n"
     ]
    }
   ],
   "source": [
    "print(\"Python Programming Fundamentals\")"
   ]
  },
  {
   "cell_type": "code",
   "execution_count": 2,
   "id": "0ece73e0-326f-48e1-b986-2cf9ee8d528c",
   "metadata": {},
   "outputs": [
    {
     "name": "stdout",
     "output_type": "stream",
     "text": [
      "100 200 300\n"
     ]
    }
   ],
   "source": [
    "print(100,200,300)"
   ]
  },
  {
   "cell_type": "code",
   "execution_count": 3,
   "id": "4eb60e4c-0425-437a-b47b-5b40a83854a8",
   "metadata": {},
   "outputs": [
    {
     "name": "stdout",
     "output_type": "stream",
     "text": [
      "100 i am text\n"
     ]
    }
   ],
   "source": [
    "print(100,\"i am text\")"
   ]
  },
  {
   "cell_type": "code",
   "execution_count": 4,
   "id": "9a8cf282-c841-4a49-a2e8-d1379e1ff641",
   "metadata": {},
   "outputs": [
    {
     "name": "stdout",
     "output_type": "stream",
     "text": [
      "100###200###300\n"
     ]
    }
   ],
   "source": [
    "print(100,200,300, sep=\"###\")"
   ]
  },
  {
   "cell_type": "markdown",
   "id": "e9afb481-b892-4dd9-9717-43c185e11c86",
   "metadata": {},
   "source": [
    "# Data\n",
    "- Numbers\n",
    "  - Whole   : integars >>> int\n",
    "  - Decimal : floats   >>> float\n",
    "- Text\n",
    "  -\"Character/word/sentence/paragraph\": strings >>> str\n",
    "- Boolean : true/false : bool (True/False)"
   ]
  },
  {
   "cell_type": "code",
   "execution_count": 6,
   "id": "91c6d12e-7876-4bb1-a06e-cbec0ed5849d",
   "metadata": {},
   "outputs": [
    {
     "name": "stdout",
     "output_type": "stream",
     "text": [
      "string: Hello Everybody\n"
     ]
    }
   ],
   "source": [
    "print(\"string:\", \"Hello Everybody\")\n"
   ]
  },
  {
   "cell_type": "code",
   "execution_count": 7,
   "id": "82aa3735-7558-4436-82b1-c437df558a43",
   "metadata": {},
   "outputs": [
    {
     "name": "stdout",
     "output_type": "stream",
     "text": [
      "Decimal/float: 23.4\n"
     ]
    }
   ],
   "source": [
    "print(\"Decimal/float:\", 23.4)\n"
   ]
  },
  {
   "cell_type": "code",
   "execution_count": 8,
   "id": "8c9df2a5-8540-445f-adc9-0ab2c9556e9a",
   "metadata": {},
   "outputs": [
    {
     "name": "stdout",
     "output_type": "stream",
     "text": [
      "Int: 200\n"
     ]
    }
   ],
   "source": [
    "print(\"Int:\", 200)\n"
   ]
  },
  {
   "cell_type": "code",
   "execution_count": 9,
   "id": "09786000-3923-4bf1-940f-18429ae0443c",
   "metadata": {},
   "outputs": [
    {
     "data": {
      "text/plain": [
       "int"
      ]
     },
     "execution_count": 9,
     "metadata": {},
     "output_type": "execute_result"
    }
   ],
   "source": [
    "type(200)\n"
   ]
  },
  {
   "cell_type": "code",
   "execution_count": 10,
   "id": "f9d590d7-ff72-4f4c-b595-1f84645c1516",
   "metadata": {},
   "outputs": [
    {
     "name": "stdout",
     "output_type": "stream",
     "text": [
      "<class 'int'>\n"
     ]
    }
   ],
   "source": [
    "print(type(200))\n"
   ]
  },
  {
   "cell_type": "code",
   "execution_count": 11,
   "id": "64baf78d-06e0-444f-8531-5ae4a30d032c",
   "metadata": {},
   "outputs": [
    {
     "name": "stdout",
     "output_type": "stream",
     "text": [
      "<class 'float'>\n"
     ]
    }
   ],
   "source": [
    "print(type(23.4))"
   ]
  },
  {
   "cell_type": "code",
   "execution_count": 12,
   "id": "dd23f660-82ae-4173-9c2d-7fdc0fd9eefe",
   "metadata": {},
   "outputs": [
    {
     "name": "stdout",
     "output_type": "stream",
     "text": [
      "<class 'bool'>\n"
     ]
    }
   ],
   "source": [
    "print(type(False))\n"
   ]
  },
  {
   "cell_type": "markdown",
   "id": "267337b0-4b41-4326-95a4-f8ae96710177",
   "metadata": {},
   "source": [
    "# Variables\n"
   ]
  },
  {
   "cell_type": "code",
   "execution_count": 19,
   "id": "16833405-2451-4fe7-80ae-b7ad2c7b7d0c",
   "metadata": {},
   "outputs": [],
   "source": [
    "course = \"AI & Data Science\"\n"
   ]
  },
  {
   "cell_type": "code",
   "execution_count": 15,
   "id": "ef2a2807-7053-4d94-ad68-f370120c664b",
   "metadata": {},
   "outputs": [
    {
     "name": "stdout",
     "output_type": "stream",
     "text": [
      "AI & Data Science\n"
     ]
    }
   ],
   "source": [
    "print(course)"
   ]
  },
  {
   "cell_type": "code",
   "execution_count": 16,
   "id": "8e5d122c-d07d-4f88-ac8f-68fc62cc0e4b",
   "metadata": {},
   "outputs": [
    {
     "data": {
      "text/plain": [
       "'AI & Data Science'"
      ]
     },
     "execution_count": 16,
     "metadata": {},
     "output_type": "execute_result"
    }
   ],
   "source": [
    "course\n"
   ]
  },
  {
   "cell_type": "code",
   "execution_count": 17,
   "id": "f04b4a6d-5e36-4c69-92e7-95fdfbb96797",
   "metadata": {},
   "outputs": [],
   "source": [
    "course = \"Python for AI\"\n"
   ]
  },
  {
   "cell_type": "code",
   "execution_count": 18,
   "id": "f2c8be11-6e42-4145-b9d9-bb1ae5697632",
   "metadata": {},
   "outputs": [
    {
     "name": "stdout",
     "output_type": "stream",
     "text": [
      "Python for AI\n"
     ]
    }
   ],
   "source": [
    "print(course)"
   ]
  },
  {
   "cell_type": "code",
   "execution_count": 20,
   "id": "1fe0fb46-fe20-41a2-be5b-ebe338830432",
   "metadata": {},
   "outputs": [
    {
     "name": "stdout",
     "output_type": "stream",
     "text": [
      "AI & Data Science\n"
     ]
    }
   ],
   "source": [
    "print(course)\n"
   ]
  },
  {
   "cell_type": "code",
   "execution_count": 21,
   "id": "741bd352-3aef-45c1-974b-465881c79d08",
   "metadata": {},
   "outputs": [],
   "source": [
    "marks = 100\n"
   ]
  },
  {
   "cell_type": "code",
   "execution_count": 22,
   "id": "4bff8c30-cf87-4c95-adc7-29805d678427",
   "metadata": {},
   "outputs": [
    {
     "data": {
      "text/plain": [
       "int"
      ]
     },
     "execution_count": 22,
     "metadata": {},
     "output_type": "execute_result"
    }
   ],
   "source": [
    "type(marks)"
   ]
  },
  {
   "attachments": {
    "e162ea75-c52e-4aad-8044-87c05bc0d1c4.png": {
     "image/png": "[encoded data removed]"
    }
   },
   "cell_type": "markdown",
   "id": "d507e933-0c71-487c-b8d4-78f8ac20ea04",
   "metadata": {},
   "source": [
    "# Variable Naming\n",
    " - Variable name should not start with a number: 1student = \"Ali\"\n",
    " - No special characters are allowed : father@name = \"asad\"\n",
    " - Space is not allowed in variable name: father name = \"asad\"\n",
    " - Reserved words can not be used as variable name. \"false, def, if, raise\"\n",
    "   ![image.png](attachment:e162ea75-c52e-4aad-8044-87c05bc0d1c4.png)\n",
    "   "
   ]
  },
  {
   "attachments": {},
   "cell_type": "markdown",
   "id": "8aa0f052-1e9d-4ca1-8908-4f6637c1b273",
   "metadata": {},
   "source": [
    "# Operators\n",
    "## Arithmetic Operators\n",
    " - Subtraction (-)\n",
    " - Addition (+)\n",
    " - Multiplication (*)\n",
    " - Floating Division (/) example: 3.33333335\n",
    " - Floor/Integar Division (//) example: 3\n",
    " - Modulus (%)\n",
    " - Exponent (**)"
   ]
  },
  {
   "cell_type": "code",
   "execution_count": 32,
   "id": "67a28faf-ae1d-4b3f-b6cc-a8da2783367e",
   "metadata": {
    "scrolled": true
   },
   "outputs": [
    {
     "data": {
      "text/plain": [
       "7"
      ]
     },
     "execution_count": 32,
     "metadata": {},
     "output_type": "execute_result"
    }
   ],
   "source": [
    "#Subtraction\n",
    "10-3\n"
   ]
  },
  {
   "cell_type": "code",
   "execution_count": 26,
   "id": "e5712fea-4b71-4e81-9fc4-49019f4d5a0d",
   "metadata": {},
   "outputs": [
    {
     "data": {
      "text/plain": [
       "13"
      ]
     },
     "execution_count": 26,
     "metadata": {},
     "output_type": "execute_result"
    }
   ],
   "source": [
    "#Addition\n",
    "10+3\n"
   ]
  },
  {
   "cell_type": "code",
   "execution_count": 27,
   "id": "7c881567-bee2-46ad-97ee-9381bd0b1f28",
   "metadata": {},
   "outputs": [
    {
     "data": {
      "text/plain": [
       "30"
      ]
     },
     "execution_count": 27,
     "metadata": {},
     "output_type": "execute_result"
    }
   ],
   "source": [
    "#Multiplication\n",
    "10*3\n"
   ]
  },
  {
   "cell_type": "code",
   "execution_count": 28,
   "id": "a95dd2cb-5b5a-47f3-a8aa-403936188003",
   "metadata": {},
   "outputs": [
    {
     "data": {
      "text/plain": [
       "3.3333333333333335"
      ]
     },
     "execution_count": 28,
     "metadata": {},
     "output_type": "execute_result"
    }
   ],
   "source": [
    "#Floating Division\n",
    "10/3\n"
   ]
  },
  {
   "cell_type": "code",
   "execution_count": 29,
   "id": "619c7028-8e69-45e5-9ed1-39b8b21b01e3",
   "metadata": {},
   "outputs": [
    {
     "data": {
      "text/plain": [
       "3"
      ]
     },
     "execution_count": 29,
     "metadata": {},
     "output_type": "execute_result"
    }
   ],
   "source": [
    "#Floor/Int Division\n",
    "10//3\n"
   ]
  },
  {
   "cell_type": "code",
   "execution_count": 33,
   "id": "7ed0b874-f5b2-4680-8651-29bc6581ac9e",
   "metadata": {},
   "outputs": [
    {
     "data": {
      "text/plain": [
       "1"
      ]
     },
     "execution_count": 33,
     "metadata": {},
     "output_type": "execute_result"
    }
   ],
   "source": [
    "#Modulus - remainder\n",
    "10%3\n"
   ]
  },
  {
   "cell_type": "code",
   "execution_count": 31,
   "id": "865bc27b-9d95-4090-9098-0cc88afd8781",
   "metadata": {},
   "outputs": [
    {
     "data": {
      "text/plain": [
       "125"
      ]
     },
     "execution_count": 31,
     "metadata": {},
     "output_type": "execute_result"
    }
   ],
   "source": [
    "#Exponent\n",
    "5**3"
   ]
  },
  {
   "cell_type": "markdown",
   "id": "721de700-02a5-4b80-b22f-6e60f409ed13",
   "metadata": {},
   "source": [
    "# Assignment Operator\n"
   ]
  },
  {
   "cell_type": "code",
   "execution_count": 36,
   "id": "fb0bdb96-4d23-43ca-8333-1ea5fe339667",
   "metadata": {},
   "outputs": [],
   "source": [
    "total = 120\n",
    "# a integar value 120 is assigned to a variable name total"
   ]
  },
  {
   "cell_type": "markdown",
   "id": "2c1278c5-d91c-411c-a9b9-7a23cd0b2d45",
   "metadata": {},
   "source": [
    "# Comparison Operators\n",
    " - Equals to (==)\n",
    " - Not Equals to (!=)\n",
    " - Greater than (>)\n",
    " - Less than (<)\n",
    " - Equal and greater than (>=)\n",
    " - Equal and Less than (=<)\n",
    "   "
   ]
  },
  {
   "cell_type": "code",
   "execution_count": 42,
   "id": "1e52246c-1474-4daf-bbc9-fe9e7208d572",
   "metadata": {},
   "outputs": [],
   "source": [
    "mark = (\"contact\")"
   ]
  },
  {
   "cell_type": "markdown",
   "id": "68c0ffaa-45e2-4c83-bb3d-dc9e48b99cfb",
   "metadata": {},
   "source": [
    "# User Input"
   ]
  },
  {
   "cell_type": "code",
   "execution_count": 1,
   "id": "495c8a48-44e9-4913-b4b1-e310b2407d3b",
   "metadata": {},
   "outputs": [
    {
     "name": "stdin",
     "output_type": "stream",
     "text": [
      "Type your name Shahzaib\n"
     ]
    }
   ],
   "source": [
    "name = input(\"Type your name\")"
   ]
  },
  {
   "cell_type": "markdown",
   "id": "1cd209ff-fd56-4f76-ba4c-7e07f38b7a2e",
   "metadata": {},
   "source": [
    "# Type Casting"
   ]
  },
  {
   "cell_type": "code",
   "execution_count": 46,
   "id": "3078a701-2472-4eb0-862d-84a7ca8cffb8",
   "metadata": {},
   "outputs": [
    {
     "data": {
      "text/plain": [
       "35"
      ]
     },
     "execution_count": 46,
     "metadata": {},
     "output_type": "execute_result"
    }
   ],
   "source": [
    "int(35.5)"
   ]
  },
  {
   "cell_type": "code",
   "execution_count": 47,
   "id": "bef6c86b-f236-4ad3-aa80-1c956555bee4",
   "metadata": {},
   "outputs": [
    {
     "data": {
      "text/plain": [
       "12.0"
      ]
     },
     "execution_count": 47,
     "metadata": {},
     "output_type": "execute_result"
    }
   ],
   "source": [
    "float(12)"
   ]
  },
  {
   "cell_type": "code",
   "execution_count": 48,
   "id": "c3bc5f8d-4631-47c4-8dbb-d430e2e6075f",
   "metadata": {},
   "outputs": [
    {
     "data": {
      "text/plain": [
       "100"
      ]
     },
     "execution_count": 48,
     "metadata": {},
     "output_type": "execute_result"
    }
   ],
   "source": [
    "int(\"100\")"
   ]
  },
  {
   "cell_type": "code",
   "execution_count": 49,
   "id": "be5e395d-93c9-47dd-bf81-dd5497166968",
   "metadata": {},
   "outputs": [
    {
     "data": {
      "text/plain": [
       "'100'"
      ]
     },
     "execution_count": 49,
     "metadata": {},
     "output_type": "execute_result"
    }
   ],
   "source": [
    "str(100)"
   ]
  },
  {
   "cell_type": "code",
   "execution_count": 50,
   "id": "9b673fb6-1496-4af5-a7e3-37689940ad1f",
   "metadata": {},
   "outputs": [
    {
     "data": {
      "text/plain": [
       "45.6"
      ]
     },
     "execution_count": 50,
     "metadata": {},
     "output_type": "execute_result"
    }
   ],
   "source": [
    "float(\"45.6\")"
   ]
  },
  {
   "cell_type": "code",
   "execution_count": 54,
   "id": "bdaeb5ba-a29d-4169-9baf-62a2ce9dc726",
   "metadata": {},
   "outputs": [
    {
     "data": {
      "text/plain": [
       "45"
      ]
     },
     "execution_count": 54,
     "metadata": {},
     "output_type": "execute_result"
    }
   ],
   "source": [
    "#string floating number can not be converted into int directly\n",
    "int(float(\"45.6\"))"
   ]
  },
  {
   "cell_type": "code",
   "execution_count": 7,
   "id": "d59838a3-a276-45f8-a996-f86cb0ea1b4f",
   "metadata": {},
   "outputs": [
    {
     "name": "stdin",
     "output_type": "stream",
     "text": [
      "Enter your age 20\n"
     ]
    }
   ],
   "source": [
    "age = int(input(\"Enter your age\"))\n"
   ]
  },
  {
   "cell_type": "code",
   "execution_count": 9,
   "id": "8a932111-1d9f-4024-a916-ec92bc8a8ad9",
   "metadata": {},
   "outputs": [
    {
     "data": {
      "text/plain": [
       "10"
      ]
     },
     "execution_count": 9,
     "metadata": {},
     "output_type": "execute_result"
    }
   ],
   "source": [
    "age=+10\n",
    "age"
   ]
  },
  {
   "cell_type": "markdown",
   "id": "c6773ef1-1d8a-4a1e-95ae-f0f98221350d",
   "metadata": {},
   "source": [
    "# Increment/Decrement Operator"
   ]
  },
  {
   "cell_type": "code",
   "execution_count": 60,
   "id": "e04bb7e5-fce7-4c47-ac3a-79340d820756",
   "metadata": {},
   "outputs": [],
   "source": [
    "count = 1"
   ]
  },
  {
   "cell_type": "code",
   "execution_count": 62,
   "id": "ffaebfb3-a09f-4919-9003-fbda7e0c8a4b",
   "metadata": {},
   "outputs": [
    {
     "data": {
      "text/plain": [
       "3"
      ]
     },
     "execution_count": 62,
     "metadata": {},
     "output_type": "execute_result"
    }
   ],
   "source": [
    "count = count+1\n",
    "count"
   ]
  },
  {
   "cell_type": "code",
   "execution_count": 77,
   "id": "5e7d54cf-2d34-4ef6-a88c-793b8766d08e",
   "metadata": {},
   "outputs": [
    {
     "data": {
      "text/plain": [
       "15"
      ]
     },
     "execution_count": 77,
     "metadata": {},
     "output_type": "execute_result"
    }
   ],
   "source": [
    "count +=5\n",
    "count"
   ]
  },
  {
   "cell_type": "code",
   "execution_count": 78,
   "id": "62301af5-6a31-4704-84ec-04a294c1adf0",
   "metadata": {},
   "outputs": [
    {
     "data": {
      "text/plain": [
       "10"
      ]
     },
     "execution_count": 78,
     "metadata": {},
     "output_type": "execute_result"
    }
   ],
   "source": [
    "count -=5\n",
    "count"
   ]
  },
  {
   "cell_type": "code",
   "execution_count": null,
   "id": "52fdcc5c-4943-4d29-9bc5-710ef8346c52",
   "metadata": {},
   "outputs": [],
   "source": []
  }
 ],
 "metadata": {
  "kernelspec": {
   "display_name": "Python 3 (ipykernel)",
   "language": "python",
   "name": "python3"
  },
  "language_info": {
   "codemirror_mode": {
    "name": "ipython",
    "version": 3
   },
   "file_extension": ".py",
   "mimetype": "text/x-python",
   "name": "python",
   "nbconvert_exporter": "python",
   "pygments_lexer": "ipython3",
   "version": "3.12.7"
  }
 },
 "nbformat": 4,
 "nbformat_minor": 5
}
