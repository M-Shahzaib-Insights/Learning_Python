{
 "cells": [
  {
   "cell_type": "markdown",
   "id": "c9f3a6e0-2a3c-46e8-81b2-4f73a81b1e15",
   "metadata": {},
   "source": [
    "# Tuple\n",
    "- ()\n",
    "- Immutable (unchangable)\n",
    "- tuple is iterable\n",
    "- index"
   ]
  },
  {
   "cell_type": "code",
   "execution_count": 1,
   "id": "c0fa6ed0-6524-410e-9482-5e8528bef27c",
   "metadata": {},
   "outputs": [],
   "source": [
    "atuple = (11,22,33,44,55,66)"
   ]
  },
  {
   "cell_type": "code",
   "execution_count": 3,
   "id": "69ef5249-5efe-4bc7-b8a4-515cc2d9721a",
   "metadata": {},
   "outputs": [
    {
     "name": "stdout",
     "output_type": "stream",
     "text": [
      "<class 'tuple'>\n"
     ]
    }
   ],
   "source": [
    "print(type(atuple))"
   ]
  },
  {
   "cell_type": "code",
   "execution_count": 4,
   "id": "98fbd986-2177-4b26-b71c-dcef887d6722",
   "metadata": {},
   "outputs": [
    {
     "data": {
      "text/plain": [
       "6"
      ]
     },
     "execution_count": 4,
     "metadata": {},
     "output_type": "execute_result"
    }
   ],
   "source": [
    "len (atuple)"
   ]
  },
  {
   "cell_type": "code",
   "execution_count": 6,
   "id": "d32e95a0-72fd-47f5-904f-82004c3c9942",
   "metadata": {},
   "outputs": [
    {
     "data": {
      "text/plain": [
       "(11, 22, 33, 44)"
      ]
     },
     "execution_count": 6,
     "metadata": {},
     "output_type": "execute_result"
    }
   ],
   "source": [
    "atuple[0:4]"
   ]
  },
  {
   "cell_type": "code",
   "execution_count": 10,
   "id": "20405608-1378-429b-bf97-b2fe4d46c273",
   "metadata": {},
   "outputs": [
    {
     "ename": "TypeError",
     "evalue": "'tuple' object does not support item assignment",
     "output_type": "error",
     "traceback": [
      "\u001b[1;31m---------------------------------------------------------------------------\u001b[0m",
      "\u001b[1;31mTypeError\u001b[0m                                 Traceback (most recent call last)",
      "Cell \u001b[1;32mIn[10], line 1\u001b[0m\n\u001b[1;32m----> 1\u001b[0m atuple [\u001b[38;5;241m0\u001b[39m] \u001b[38;5;241m=\u001b[39m (\u001b[38;5;241m1000\u001b[39m)\n",
      "\u001b[1;31mTypeError\u001b[0m: 'tuple' object does not support item assignment"
     ]
    }
   ],
   "source": [
    "atuple [0] = (1000)"
   ]
  },
  {
   "cell_type": "code",
   "execution_count": 9,
   "id": "b5796511-80d9-472d-ae92-179ea04e576b",
   "metadata": {},
   "outputs": [
    {
     "ename": "TypeError",
     "evalue": "'tuple' object doesn't support item deletion",
     "output_type": "error",
     "traceback": [
      "\u001b[1;31m---------------------------------------------------------------------------\u001b[0m",
      "\u001b[1;31mTypeError\u001b[0m                                 Traceback (most recent call last)",
      "Cell \u001b[1;32mIn[9], line 1\u001b[0m\n\u001b[1;32m----> 1\u001b[0m \u001b[38;5;28;01mdel\u001b[39;00m atuple[\u001b[38;5;241m4\u001b[39m]\n",
      "\u001b[1;31mTypeError\u001b[0m: 'tuple' object doesn't support item deletion"
     ]
    }
   ],
   "source": [
    "del atuple[4]"
   ]
  },
  {
   "cell_type": "code",
   "execution_count": 15,
   "id": "a8e053b2-7b59-49dc-8749-8c2120ba0384",
   "metadata": {},
   "outputs": [],
   "source": [
    "#if () has only one value, it needs to be end with comma ,\n",
    "a = (12,)"
   ]
  },
  {
   "cell_type": "markdown",
   "id": "be739987-b02f-4825-ad41-f452d492771e",
   "metadata": {},
   "source": [
    "# Set\n",
    "- {}\n",
    "- set counts only unique values"
   ]
  },
  {
   "cell_type": "code",
   "execution_count": 16,
   "id": "12262aa5-65a4-4105-8b8a-abc3e23df227",
   "metadata": {},
   "outputs": [],
   "source": [
    "# if curly has value, it's a set\n",
    "aset = {3}"
   ]
  },
  {
   "cell_type": "code",
   "execution_count": 17,
   "id": "203ab464-c985-4830-93b0-f0afa3e8cb86",
   "metadata": {},
   "outputs": [],
   "source": [
    "#if curly has no value, it will be a dictionary\n",
    "aset = {}"
   ]
  },
  {
   "cell_type": "code",
   "execution_count": 18,
   "id": "53d41a1d-3bab-4ffe-8ba1-e72844991617",
   "metadata": {},
   "outputs": [
    {
     "name": "stdout",
     "output_type": "stream",
     "text": [
      "<class 'dict'>\n"
     ]
    }
   ],
   "source": [
    "print(type(aset))"
   ]
  },
  {
   "cell_type": "code",
   "execution_count": 19,
   "id": "1d42c943-0809-428c-b2e9-aea32cf36c19",
   "metadata": {},
   "outputs": [],
   "source": [
    "bset = {1,2,32,3,4,55,6,8,8,8,9}\n"
   ]
  },
  {
   "cell_type": "code",
   "execution_count": 20,
   "id": "4ab61f17-0243-42f6-8d20-0db7e65c248b",
   "metadata": {},
   "outputs": [
    {
     "data": {
      "text/plain": [
       "9"
      ]
     },
     "execution_count": 20,
     "metadata": {},
     "output_type": "execute_result"
    }
   ],
   "source": [
    "len (bset)"
   ]
  },
  {
   "cell_type": "markdown",
   "id": "a0a4ad06-4167-4a74-adf0-0ff3ae29293d",
   "metadata": {},
   "source": [
    "# Conditional Statements / if Clause / Conditionals\n",
    "- if Statement (if :)\n",
    "- if Statement else\n",
    "- elif\n",
    "- nested ifs"
   ]
  },
  {
   "cell_type": "code",
   "execution_count": 24,
   "id": "ac2029b0-f501-448f-91be-91bf95cea960",
   "metadata": {},
   "outputs": [
    {
     "name": "stdin",
     "output_type": "stream",
     "text": [
      "Enter your age 3\n"
     ]
    },
    {
     "name": "stdout",
     "output_type": "stream",
     "text": [
      "Abhi tum chote ho\n",
      "Abhi vote nahi dal Sakte\n",
      "Car drive nahi kar sakte\n"
     ]
    }
   ],
   "source": [
    "age = int(input(\"Enter your age\"))\n",
    "if age < 18 :\n",
    "    print (\"Abhi tum chote ho\")\n",
    "    print (\"Abhi vote nahi dal Sakte\")\n",
    "    print (\"Car drive nahi kar sakte\")"
   ]
  },
  {
   "cell_type": "code",
   "execution_count": 26,
   "id": "460743f4-5980-47a1-82c8-c8e6f17c1494",
   "metadata": {},
   "outputs": [
    {
     "name": "stdin",
     "output_type": "stream",
     "text": [
      "Enter your age 20\n"
     ]
    }
   ],
   "source": [
    "age = int(input(\"Enter your age\"))\n",
    "if age < 18 :\n",
    "    print (\"Abhi tum chote ho\")\n",
    "    print (\"Abhi vote nahi dal Sakte\")\n",
    "    print (\"Car drive nahi kar sakte\")"
   ]
  },
  {
   "cell_type": "code",
   "execution_count": 27,
   "id": "312c7b2f-f89d-464b-8c14-e59937f92da4",
   "metadata": {},
   "outputs": [
    {
     "name": "stdin",
     "output_type": "stream",
     "text": [
      "Enter your age 19\n"
     ]
    },
    {
     "name": "stdout",
     "output_type": "stream",
     "text": [
      "Ab Tum Bade Hogaye Ho\n",
      "Zara Hosh Karo\n",
      "Career p dehan Do\n"
     ]
    }
   ],
   "source": [
    "age = int(input(\"Enter your age\"))\n",
    "if age < 18 :\n",
    "    print (\"Abhi tum chote ho\")\n",
    "    print (\"Abhi vote nahi dal Sakte\")\n",
    "    print (\"Car drive nahi kar sakte\")\n",
    "else:\n",
    "    print (\"Ab Tum Bade Hogaye Ho\")\n",
    "    print (\"Zara Hosh Karo\")\n",
    "    print (\"Career p dehan Do\")"
   ]
  },
  {
   "cell_type": "code",
   "execution_count": 28,
   "id": "6eb1456b-fdb8-4969-a67f-5b70f6b64bd4",
   "metadata": {},
   "outputs": [
    {
     "name": "stdin",
     "output_type": "stream",
     "text": [
      "Enter your age 25\n"
     ]
    },
    {
     "name": "stdout",
     "output_type": "stream",
     "text": [
      "Ab Tum Bade Hogaye Ho\n",
      "Zara Hosh Karo\n",
      "Career p dehan Do\n"
     ]
    }
   ],
   "source": [
    "age = int(input(\"Enter your age\"))\n",
    "if age < 18 :\n",
    "    print (\"Abhi tum chote ho\")\n",
    "    print (\"Abhi vote nahi dal Sakte\")\n",
    "    print (\"Car drive nahi kar sakte\")\n",
    "else:\n",
    "    print (\"Ab Tum Bade Hogaye Ho\")\n",
    "    print (\"Zara Hosh Karo\")\n",
    "    print (\"Career p dehan Do\")"
   ]
  },
  {
   "cell_type": "code",
   "execution_count": 34,
   "id": "f378469a-edbb-4577-bb90-390a869ace4b",
   "metadata": {},
   "outputs": [
    {
     "name": "stdin",
     "output_type": "stream",
     "text": [
      "Enter your numbers in Python Test:  32\n"
     ]
    },
    {
     "name": "stdout",
     "output_type": "stream",
     "text": [
      "Pass\n",
      "Prepare for the next test\n"
     ]
    }
   ],
   "source": [
    "# take a number input and check if the student is pass or fail\n",
    "numbers = int(input(\"Enter your numbers in Python Test: \"))\n",
    "if numbers >= 25:\n",
    "    print(\"Pass\")\n",
    "    print(\"Prepare for the next test\")\n",
    "else:\n",
    "    print(\"Fail\")\n",
    "    "
   ]
  },
  {
   "cell_type": "code",
   "execution_count": 36,
   "id": "3da507c3-30b5-4a27-9738-f6030e5bfd78",
   "metadata": {},
   "outputs": [
    {
     "name": "stdin",
     "output_type": "stream",
     "text": [
      "Enter a number:  10\n"
     ]
    },
    {
     "name": "stdout",
     "output_type": "stream",
     "text": [
      "10 is even\n"
     ]
    }
   ],
   "source": [
    "# take a number input and check if the number is even or odd\n",
    "number = int(input(\"Enter a number: \"))\n",
    "if number % 2 == 0:\n",
    "    print (f\"{number} is even\")\n",
    "else:\n",
    "    print (f\"{number} is odd\")"
   ]
  },
  {
   "cell_type": "code",
   "execution_count": 44,
   "id": "9a1993ab-6a2f-41b7-a4f7-4bf38c4de693",
   "metadata": {},
   "outputs": [
    {
     "name": "stdin",
     "output_type": "stream",
     "text": [
      "Enter the total shopping amount:  15000\n"
     ]
    },
    {
     "name": "stdout",
     "output_type": "stream",
     "text": [
      "\n",
      "    Total Amount: 15000.0\n",
      "    15% discount amount: 2250.0\n",
      "    Total Amount after 15% discount: 12750.0\n"
     ]
    }
   ],
   "source": [
    "# take total shopping amount as input and calculate if the amount is greater than 10000,\n",
    "# calculate 15% discount and show the total and total after discount.\n",
    "total_amount = float(input(\"Enter the total shopping amount: \"))\n",
    "dis_amount = total_amount*0.15\n",
    "total_disamount = total_amount - dis_amount\n",
    "if total_amount > 10000:\n",
    "    print (f\"\"\"\n",
    "    Total Amount: {total_amount}\n",
    "    15% discount amount: {dis_amount}\n",
    "    Total Amount after 15% discount: {total_disamount}\"\"\")\n",
    "else:\n",
    "    print (f\"Total Amount: {total_amount}\")"
   ]
  },
  {
   "cell_type": "code",
   "execution_count": 50,
   "id": "6ed9bb0a-1b2c-43db-a1c1-5d34b752292a",
   "metadata": {},
   "outputs": [],
   "source": [
    "friends_lst = [\"Ali\",\"Bilal\",\"Wajahat\",\"Shani\",\"Raza\"]"
   ]
  },
  {
   "cell_type": "code",
   "execution_count": 54,
   "id": "adb7e8a5-f874-46dc-960a-591594e53bca",
   "metadata": {},
   "outputs": [
    {
     "name": "stdin",
     "output_type": "stream",
     "text": [
      "Please tell me your name: wajahat\n"
     ]
    },
    {
     "name": "stdout",
     "output_type": "stream",
     "text": [
      "You are welcome!\n"
     ]
    }
   ],
   "source": [
    "name = input(\"Please tell me your name:\" ).title()\n",
    "if name in friends_lst:\n",
    "    print(\"You are welcome!\")\n",
    "else:\n",
    "    print(\"Please Wait, Your name is missing\") "
   ]
  },
  {
   "attachments": {},
   "cell_type": "markdown",
   "id": "0de26d91-7482-44e5-9510-5a976194fd63",
   "metadata": {},
   "source": [
    "# Multiple if's (if : elif : else)\n",
    "\n"
   ]
  },
  {
   "cell_type": "raw",
   "id": "7562b7a3-f735-4719-85f9-f65200c255ba",
   "metadata": {},
   "source": [
    "tamator: agr price > 500, mat lena, p > 300, 1/2kg, 200 > 1kg, 100 > 2kg, 5kg"
   ]
  },
  {
   "cell_type": "code",
   "execution_count": 58,
   "id": "ad1ceebd-290d-48fe-bcc2-733465ee939e",
   "metadata": {},
   "outputs": [
    {
     "name": "stdin",
     "output_type": "stream",
     "text": [
      "Tamator kiya hisab hain? 1000\n"
     ]
    },
    {
     "name": "stdout",
     "output_type": "stream",
     "text": [
      "Rehne do\n"
     ]
    }
   ],
   "source": [
    "tomato_price = int(input(\"Tamator kiya hisab hain?\"))\n",
    "if tomato_price >= 500:\n",
    "    print (\"Rehne do\")\n",
    "elif tomato_price >= 300:\n",
    "    print (\"1/2 kg deden\")\n",
    "elif tomato_price >= 200:\n",
    "    print (\"1 kg deden\")\n",
    "elif tomato_price >= 100:\n",
    "    print (\"2 kg deden\")\n",
    "else:\n",
    "    print (\"5 kg deden\")"
   ]
  },
  {
   "cell_type": "code",
   "execution_count": 59,
   "id": "e9e14e19-d022-4242-9cf4-f00093d20ee9",
   "metadata": {},
   "outputs": [
    {
     "name": "stdin",
     "output_type": "stream",
     "text": [
      "Tamator kiya hisab hain? 499\n"
     ]
    },
    {
     "name": "stdout",
     "output_type": "stream",
     "text": [
      "1/2 kg deden\n"
     ]
    }
   ],
   "source": [
    "tomato_price = int(input(\"Tamator kiya hisab hain?\"))\n",
    "if tomato_price >= 500:\n",
    "    print (\"Rehne do\")\n",
    "elif tomato_price >= 300:\n",
    "    print (\"1/2 kg deden\")\n",
    "elif tomato_price >= 200:\n",
    "    print (\"1 kg deden\")\n",
    "elif tomato_price >= 100:\n",
    "    print (\"2 kg deden\")\n",
    "else:\n",
    "    print (\"5 kg deden\")"
   ]
  },
  {
   "cell_type": "code",
   "execution_count": 61,
   "id": "35a00ee5-c0d5-4d45-a981-fefe5ed0ad9e",
   "metadata": {},
   "outputs": [
    {
     "name": "stdin",
     "output_type": "stream",
     "text": [
      "Tamator kiya hisab hain? 200\n"
     ]
    },
    {
     "name": "stdout",
     "output_type": "stream",
     "text": [
      "1 kg deden\n"
     ]
    }
   ],
   "source": [
    "tomato_price = int(input(\"Tamator kiya hisab hain?\"))\n",
    "if tomato_price >= 500:\n",
    "    print (\"Rehne do\")\n",
    "elif tomato_price >= 300:\n",
    "    print (\"1/2 kg deden\")\n",
    "elif tomato_price >= 200:\n",
    "    print (\"1 kg deden\")\n",
    "elif tomato_price >= 100:\n",
    "    print (\"2 kg deden\")\n",
    "else:\n",
    "    print (\"5 kg deden\")"
   ]
  },
  {
   "cell_type": "code",
   "execution_count": 62,
   "id": "dacef921-e778-419a-ae5b-0f1f01c15fcd",
   "metadata": {},
   "outputs": [
    {
     "name": "stdin",
     "output_type": "stream",
     "text": [
      "Tamator kiya hisab hain? 50\n"
     ]
    },
    {
     "name": "stdout",
     "output_type": "stream",
     "text": [
      "5 kg deden\n"
     ]
    }
   ],
   "source": [
    "tomato_price = int(input(\"Tamator kiya hisab hain?\"))\n",
    "if tomato_price >= 500:\n",
    "    print (\"Rehne do\")\n",
    "elif tomato_price >= 300:\n",
    "    print (\"1/2 kg deden\")\n",
    "elif tomato_price >= 200:\n",
    "    print (\"1 kg deden\")\n",
    "elif tomato_price >= 100:\n",
    "    print (\"2 kg deden\")\n",
    "else:\n",
    "    print (\"5 kg deden\")"
   ]
  },
  {
   "cell_type": "raw",
   "id": "9e307677-be30-4883-b8b8-09a92a4eba13",
   "metadata": {},
   "source": [
    "#marks s1, s2, s3, s4, s5\n",
    "#total_obt =\n",
    "#percentage\n",
    "90->A+, 80>A, 70>B, 60>C, , 50>D, Fail"
   ]
  },
  {
   "cell_type": "code",
   "execution_count": 67,
   "id": "90411191-854e-4ef3-add5-7be933fe19fa",
   "metadata": {},
   "outputs": [
    {
     "name": "stdin",
     "output_type": "stream",
     "text": [
      "Enter your subject 1 marks: 52\n",
      "Enter your subject 2 marks: 66\n",
      "Enter your subject 3 marks: 54\n",
      "Enter your subject 4 marks: 23\n",
      "Enter your subject 5 marks: 85\n"
     ]
    },
    {
     "name": "stdout",
     "output_type": "stream",
     "text": [
      "Your total marks are 280.0\n",
      "Your percentage is 56.00000000000001\n",
      "your grade is D\n"
     ]
    }
   ],
   "source": [
    "s1_marks = float(input(\"Enter your subject 1 marks:\"))\n",
    "s2_marks = float(input(\"Enter your subject 2 marks:\"))\n",
    "s3_marks = float(input(\"Enter your subject 3 marks:\"))\n",
    "s4_marks = float(input(\"Enter your subject 4 marks:\"))\n",
    "s5_marks = float(input(\"Enter your subject 5 marks:\"))\n",
    "\n",
    "#Calculation\n",
    "total_obt = s1_marks+s2_marks+s3_marks+s4_marks+s5_marks\n",
    "percentage = (total_obt/500)*100\n",
    "\n",
    "print(f\"Your total marks are {total_obt}\")\n",
    "print(f\"Your percentage is {percentage}\")\n",
    "\n",
    "#Conditional Statment\n",
    "if percentage >= 90:\n",
    "    print (\"your grade is A+\")\n",
    "elif percentage >= 80:\n",
    "    print (\"your grade is A\")\n",
    "elif percentage >= 70:\n",
    "    print (\"your grade is B\")\n",
    "elif percentage >= 60:\n",
    "    print (\"your grade is C\")\n",
    "elif percentage >= 50:\n",
    "    print (\"your grade is D\")\n",
    "else:\n",
    "    print(\"You are Fail\")"
   ]
  },
  {
   "cell_type": "code",
   "execution_count": 71,
   "id": "67e058b7-c857-4b6c-8f71-edacf28af33c",
   "metadata": {},
   "outputs": [
    {
     "name": "stdin",
     "output_type": "stream",
     "text": [
      "Enter your subject 1 marks: 62\n",
      "Enter your subject 2 marks: 55\n",
      "Enter your subject 3 marks: 43\n",
      "Enter your subject 4 marks: 32\n",
      "Enter your subject 5 marks: 22\n"
     ]
    },
    {
     "name": "stdout",
     "output_type": "stream",
     "text": [
      "\n",
      "    Subject 1: 62.0\n",
      "    Subject 2: 55.0\n",
      "    Subject 3: 43.0\n",
      "    Subject 4: 32.0\n",
      "    Subject 5: 22.0\n",
      "\n",
      "    Total Marks: 214.0\n",
      "    Percentage: 43\n",
      "    Grade Acheived: Fail\n",
      "\n"
     ]
    }
   ],
   "source": [
    "s1_marks = float(input(\"Enter your subject 1 marks:\"))\n",
    "s2_marks = float(input(\"Enter your subject 2 marks:\"))\n",
    "s3_marks = float(input(\"Enter your subject 3 marks:\"))\n",
    "s4_marks = float(input(\"Enter your subject 4 marks:\"))\n",
    "s5_marks = float(input(\"Enter your subject 5 marks:\"))\n",
    "\n",
    "#Calculation\n",
    "total_obt = s1_marks+s2_marks+s3_marks+s4_marks+s5_marks\n",
    "total = 500\n",
    "percentage = (total_obt/total)*100\n",
    "grade = None\n",
    "\n",
    "#Conditional Statment\n",
    "if percentage >= 90:\n",
    "    grade = \"A+\"\n",
    "elif percentage >= 80:\n",
    "    grade = \"A\"\n",
    "elif percentage >= 70:\n",
    "    grade = \"B\"\n",
    "elif percentage >= 60:\n",
    "    grade = \"C\"\n",
    "elif percentage >= 50:\n",
    "    grade = \"D\"\n",
    "else:\n",
    "    grade = \"Fail\"\n",
    "\n",
    "#Printing the Result\n",
    "print (f\"\"\"\n",
    "    Subject 1: {s1_marks}\n",
    "    Subject 2: {s2_marks}\n",
    "    Subject 3: {s3_marks}\n",
    "    Subject 4: {s4_marks}\n",
    "    Subject 5: {s5_marks}\n",
    "\n",
    "    Total Marks: {total_obt}\n",
    "    Percentage: {round(percentage)}\n",
    "    Grade Acheived: {grade}\n",
    "\"\"\")"
   ]
  },
  {
   "cell_type": "code",
   "execution_count": null,
   "id": "a8551aaf-ab6b-4d9a-bf97-57e6078fa197",
   "metadata": {},
   "outputs": [],
   "source": []
  },
  {
   "cell_type": "code",
   "execution_count": null,
   "id": "2fa65a6e-c589-4819-baae-cf5ca1705066",
   "metadata": {},
   "outputs": [],
   "source": []
  },
  {
   "cell_type": "code",
   "execution_count": null,
   "id": "aab4d4f5-6d45-4d0e-88b5-b672cb76bd8e",
   "metadata": {},
   "outputs": [],
   "source": []
  },
  {
   "cell_type": "code",
   "execution_count": null,
   "id": "09774d9b-1330-4595-93ef-912cc5238a3d",
   "metadata": {},
   "outputs": [],
   "source": []
  }
 ],
 "metadata": {
  "kernelspec": {
   "display_name": "Python 3 (ipykernel)",
   "language": "python",
   "name": "python3"
  },
  "language_info": {
   "codemirror_mode": {
    "name": "ipython",
    "version": 3
   },
   "file_extension": ".py",
   "mimetype": "text/x-python",
   "name": "python",
   "nbconvert_exporter": "python",
   "pygments_lexer": "ipython3",
   "version": "3.12.7"
  }
 },
 "nbformat": 4,
 "nbformat_minor": 5
}
