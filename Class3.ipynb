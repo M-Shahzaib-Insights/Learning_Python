{
 "cells": [
  {
   "cell_type": "markdown",
   "id": "1e62dfa3-f1fb-4baf-bee8-624e9495ccb0",
   "metadata": {},
   "source": [
    "# String: Data in inverted commas\n",
    "#### String is class\n",
    "#### String is immutable (non changable)"
   ]
  },
  {
   "cell_type": "code",
   "execution_count": 5,
   "id": "ea614fde-c65e-4d83-b883-a8089a34d5be",
   "metadata": {},
   "outputs": [],
   "source": [
    "course = \"artificial intelligence\""
   ]
  },
  {
   "cell_type": "code",
   "execution_count": 6,
   "id": "0bc2ba14-997b-44e8-8b5a-666387d3c70f",
   "metadata": {},
   "outputs": [
    {
     "name": "stdout",
     "output_type": "stream",
     "text": [
      "<class 'str'>\n"
     ]
    }
   ],
   "source": [
    "print(type(course))"
   ]
  },
  {
   "cell_type": "code",
   "execution_count": 7,
   "id": "fdd01c7a-c3b8-4c5f-9302-877777ed6d8c",
   "metadata": {},
   "outputs": [],
   "source": [
    "coursecode = 258"
   ]
  },
  {
   "cell_type": "code",
   "execution_count": 8,
   "id": "58756471-7789-4e94-99ad-0d6a1e2e2fae",
   "metadata": {},
   "outputs": [
    {
     "name": "stdout",
     "output_type": "stream",
     "text": [
      "<class 'int'>\n"
     ]
    }
   ],
   "source": [
    "print(type(coursecode))\n"
   ]
  },
  {
   "cell_type": "code",
   "execution_count": 11,
   "id": "baf21786-14e1-45a5-90c4-821dc31e6129",
   "metadata": {},
   "outputs": [
    {
     "data": {
      "text/plain": [
       "'Artificial intelligence'"
      ]
     },
     "execution_count": 11,
     "metadata": {},
     "output_type": "execute_result"
    }
   ],
   "source": [
    "#first letter capitalization \n",
    "course.capitalize()"
   ]
  },
  {
   "cell_type": "code",
   "execution_count": 12,
   "id": "d7232009-b0ce-4b78-9ee5-a8d1dd9ddb78",
   "metadata": {},
   "outputs": [
    {
     "data": {
      "text/plain": [
       "'ARTIFICIAL INTELLIGENCE'"
      ]
     },
     "execution_count": 12,
     "metadata": {},
     "output_type": "execute_result"
    }
   ],
   "source": [
    "#All words in capital letters\n",
    "course.upper()"
   ]
  },
  {
   "cell_type": "code",
   "execution_count": 13,
   "id": "f4fa8660-3d5a-4c6e-a111-a50000bc2da2",
   "metadata": {},
   "outputs": [
    {
     "data": {
      "text/plain": [
       "'artificial intelligence'"
      ]
     },
     "execution_count": 13,
     "metadata": {},
     "output_type": "execute_result"
    }
   ],
   "source": [
    "#All words in small letters\n",
    "course.lower()"
   ]
  },
  {
   "cell_type": "code",
   "execution_count": 14,
   "id": "5169dab8-3cb4-473d-8a4d-f7687626b271",
   "metadata": {},
   "outputs": [
    {
     "data": {
      "text/plain": [
       "'Artificial Intelligence'"
      ]
     },
     "execution_count": 14,
     "metadata": {},
     "output_type": "execute_result"
    }
   ],
   "source": [
    "#All words in proper letters\n",
    "course.title()"
   ]
  },
  {
   "cell_type": "code",
   "execution_count": 15,
   "id": "8649e299-0341-4c3e-9401-5a636f307a0a",
   "metadata": {},
   "outputs": [
    {
     "data": {
      "text/plain": [
       "3"
      ]
     },
     "execution_count": 15,
     "metadata": {},
     "output_type": "execute_result"
    }
   ],
   "source": [
    "#To Count any letter\n",
    "course.count(\"e\")"
   ]
  },
  {
   "cell_type": "code",
   "execution_count": 16,
   "id": "9298ce41-e5c9-431d-aa01-fab8cd4ac320",
   "metadata": {},
   "outputs": [
    {
     "data": {
      "text/plain": [
       "0"
      ]
     },
     "execution_count": 16,
     "metadata": {},
     "output_type": "execute_result"
    }
   ],
   "source": [
    "course.count(\"E\")"
   ]
  },
  {
   "cell_type": "code",
   "execution_count": 17,
   "id": "29a44a07-d28e-40cf-a5ff-64212ec4f7bf",
   "metadata": {},
   "outputs": [
    {
     "data": {
      "text/plain": [
       "'artificial intelligence'"
      ]
     },
     "execution_count": 17,
     "metadata": {},
     "output_type": "execute_result"
    }
   ],
   "source": [
    "#string does not change in the memory but it shows how it would be if we apply any property\n",
    "course"
   ]
  },
  {
   "cell_type": "code",
   "execution_count": 18,
   "id": "1e3ed113-bac7-493d-be0c-3ab96d89c98c",
   "metadata": {},
   "outputs": [],
   "source": [
    "text = \"The 1st MRC (First Month Rebate and Commission) report is crucial for our clients as it provides detailed insights into the initial activations made by their stores. This report not only highlights the first-time activations but also includes information on rebates associated with the devices sold. Specifically, it indicates whether these rebates have been disbursed or not.\""
   ]
  },
  {
   "cell_type": "code",
   "execution_count": 19,
   "id": "5dc400f2-1542-4896-b1d3-2ddab8181d37",
   "metadata": {},
   "outputs": [
    {
     "data": {
      "text/plain": [
       "False"
      ]
     },
     "execution_count": 19,
     "metadata": {},
     "output_type": "execute_result"
    }
   ],
   "source": [
    "text.endswith(\"not\")"
   ]
  },
  {
   "cell_type": "code",
   "execution_count": 20,
   "id": "9976de6a-0782-4ee1-9774-83f20604ffd4",
   "metadata": {},
   "outputs": [
    {
     "data": {
      "text/plain": [
       "True"
      ]
     },
     "execution_count": 20,
     "metadata": {},
     "output_type": "execute_result"
    }
   ],
   "source": [
    "text.endswith(\"not.\")"
   ]
  },
  {
   "cell_type": "code",
   "execution_count": 21,
   "id": "ca535b45-e65a-4601-a56f-593255219532",
   "metadata": {},
   "outputs": [],
   "source": [
    "marks = \"100\""
   ]
  },
  {
   "cell_type": "code",
   "execution_count": 22,
   "id": "ec11532f-fd79-4af5-bedd-600486834ea4",
   "metadata": {},
   "outputs": [
    {
     "data": {
      "text/plain": [
       "True"
      ]
     },
     "execution_count": 22,
     "metadata": {},
     "output_type": "execute_result"
    }
   ],
   "source": [
    "marks.isalnum()"
   ]
  },
  {
   "cell_type": "code",
   "execution_count": 23,
   "id": "49576800-186a-48c2-88a6-8e656a388528",
   "metadata": {},
   "outputs": [
    {
     "data": {
      "text/plain": [
       "False"
      ]
     },
     "execution_count": 23,
     "metadata": {},
     "output_type": "execute_result"
    }
   ],
   "source": [
    "marks.islower()"
   ]
  },
  {
   "cell_type": "markdown",
   "id": "4d8348ce-0cba-4737-8bd8-25ae1332950b",
   "metadata": {},
   "source": [
    "# String Concatenation: \n",
    "## + operator is concatenation operator"
   ]
  },
  {
   "cell_type": "code",
   "execution_count": 25,
   "id": "070799d1-c21a-48e8-b293-d80219cd3f32",
   "metadata": {},
   "outputs": [],
   "source": [
    "first_name = \"Muhammad\"\n",
    "last_name = \"Shahzaib\""
   ]
  },
  {
   "cell_type": "code",
   "execution_count": 26,
   "id": "c20f8a45-e6bf-45c9-be14-cd86d6d4b5d7",
   "metadata": {},
   "outputs": [
    {
     "data": {
      "text/plain": [
       "'MuhammadShahzaib'"
      ]
     },
     "execution_count": 26,
     "metadata": {},
     "output_type": "execute_result"
    }
   ],
   "source": [
    "first_name+last_name"
   ]
  },
  {
   "cell_type": "code",
   "execution_count": 27,
   "id": "e77736e6-4ac9-4736-874d-f39c59db5631",
   "metadata": {},
   "outputs": [],
   "source": [
    "age = 26\n"
   ]
  },
  {
   "cell_type": "code",
   "execution_count": 28,
   "id": "fed966fc-1718-48c9-bc78-e7ab6724ad7f",
   "metadata": {},
   "outputs": [
    {
     "ename": "TypeError",
     "evalue": "can only concatenate str (not \"int\") to str",
     "output_type": "error",
     "traceback": [
      "\u001b[1;31m---------------------------------------------------------------------------\u001b[0m",
      "\u001b[1;31mTypeError\u001b[0m                                 Traceback (most recent call last)",
      "Cell \u001b[1;32mIn[28], line 1\u001b[0m\n\u001b[1;32m----> 1\u001b[0m first_name\u001b[38;5;241m+\u001b[39mlast_name\u001b[38;5;241m+\u001b[39mage\n",
      "\u001b[1;31mTypeError\u001b[0m: can only concatenate str (not \"int\") to str"
     ]
    }
   ],
   "source": [
    "first_name+last_name+age"
   ]
  },
  {
   "cell_type": "code",
   "execution_count": 29,
   "id": "ee14e963-12e5-4920-a168-065ff2020a30",
   "metadata": {},
   "outputs": [
    {
     "data": {
      "text/plain": [
       "'MuhammadShahzaib26'"
      ]
     },
     "execution_count": 29,
     "metadata": {},
     "output_type": "execute_result"
    }
   ],
   "source": [
    "first_name+last_name+str(age)"
   ]
  },
  {
   "cell_type": "code",
   "execution_count": 31,
   "id": "f67bb32e-ebd2-4210-9434-a98487bf8d52",
   "metadata": {},
   "outputs": [
    {
     "name": "stdin",
     "output_type": "stream",
     "text": [
      "Please tell me your good name:  Muhammad Shahzaib\n",
      "Please enter your father name:  Muhammad Maqsood\n",
      "How old are you?  26\n"
     ]
    },
    {
     "ename": "TypeError",
     "evalue": "can only concatenate str (not \"float\") to str",
     "output_type": "error",
     "traceback": [
      "\u001b[1;31m---------------------------------------------------------------------------\u001b[0m",
      "\u001b[1;31mTypeError\u001b[0m                                 Traceback (most recent call last)",
      "Cell \u001b[1;32mIn[31], line 5\u001b[0m\n\u001b[0;32m      2\u001b[0m fname \u001b[38;5;241m=\u001b[39m \u001b[38;5;28minput\u001b[39m(\u001b[38;5;124m\"\u001b[39m\u001b[38;5;124mPlease enter your father name: \u001b[39m\u001b[38;5;124m\"\u001b[39m)\n\u001b[0;32m      3\u001b[0m age \u001b[38;5;241m=\u001b[39m \u001b[38;5;28mfloat\u001b[39m(\u001b[38;5;28minput\u001b[39m(\u001b[38;5;124m\"\u001b[39m\u001b[38;5;124mHow old are you? \u001b[39m\u001b[38;5;124m\"\u001b[39m))\n\u001b[1;32m----> 5\u001b[0m \u001b[38;5;28mprint\u001b[39m(\u001b[38;5;124m\"\u001b[39m\u001b[38;5;124mMr.\u001b[39m\u001b[38;5;124m\"\u001b[39m\u001b[38;5;241m+\u001b[39mname \u001b[38;5;241m+\u001b[39m \u001b[38;5;124m\"\u001b[39m\u001b[38;5;124ms/o\u001b[39m\u001b[38;5;124m\"\u001b[39m\u001b[38;5;241m+\u001b[39m fname \u001b[38;5;241m+\u001b[39m \u001b[38;5;124m\"\u001b[39m\u001b[38;5;124myou are\u001b[39m\u001b[38;5;124m\"\u001b[39m \u001b[38;5;241m+\u001b[39mage \u001b[38;5;241m+\u001b[39m \u001b[38;5;124m\"\u001b[39m\u001b[38;5;124mold.\u001b[39m\u001b[38;5;124m\"\u001b[39m)\n",
      "\u001b[1;31mTypeError\u001b[0m: can only concatenate str (not \"float\") to str"
     ]
    }
   ],
   "source": [
    "name = input(\"Please tell me your good name: \")\n",
    "fname = input(\"Please enter your father name: \")\n",
    "age = float(input(\"How old are you? \"))\n",
    "\n",
    "print(\"Mr.\"+name + \"s/o\"+ fname + \"you are\" +age + \"old.\")"
   ]
  },
  {
   "cell_type": "code",
   "execution_count": 32,
   "id": "1f74d32b-062b-4d9c-a8e0-302f496739a0",
   "metadata": {},
   "outputs": [
    {
     "name": "stdin",
     "output_type": "stream",
     "text": [
      "Please tell me your good name:  Muhammad Shahzaib\n",
      "Please enter your father name:  Muhammad Maqsood\n",
      "How old are you?  26\n"
     ]
    },
    {
     "name": "stdout",
     "output_type": "stream",
     "text": [
      "Mr.Muhammad Shahzaibs/oMuhammad Maqsoodyou are26.0old.\n"
     ]
    }
   ],
   "source": [
    "name = input(\"Please tell me your good name: \")\n",
    "fname = input(\"Please enter your father name: \")\n",
    "age = float(input(\"How old are you? \"))\n",
    "\n",
    "print(\"Mr.\"+name + \"s/o\"+ fname + \"you are\" +str(age) + \"old.\")"
   ]
  },
  {
   "cell_type": "markdown",
   "id": "bc45c2a6-dca9-409e-b5e3-11e856daef63",
   "metadata": {},
   "source": [
    "# String Formatting"
   ]
  },
  {
   "cell_type": "code",
   "execution_count": 35,
   "id": "7434afa2-35fc-43fa-8080-e771e491a06e",
   "metadata": {},
   "outputs": [
    {
     "name": "stdout",
     "output_type": "stream",
     "text": [
      "Mr. Muhammad Shahzaib S/o Muhammad Maqsood you are 26.0 old.\n"
     ]
    }
   ],
   "source": [
    "#Placeholders: {}\n",
    "print(\"Mr. {} S/o {} you are {} old.\".format(name,fname,age))"
   ]
  },
  {
   "cell_type": "code",
   "execution_count": 37,
   "id": "cd9877c3-4b7d-41ed-8f7b-05270ee4ba72",
   "metadata": {},
   "outputs": [
    {
     "name": "stdout",
     "output_type": "stream",
     "text": [
      "Mr. Muhammad Shahzaib S/o Muhammad Maqsood you are 26.0 old.\n"
     ]
    }
   ],
   "source": [
    "#Formatting short functionality: Starting with \"f\"\n",
    "print(f\"Mr. {name} S/o {fname} you are {age} old.\")"
   ]
  },
  {
   "cell_type": "markdown",
   "id": "a49c569e-45d7-42d2-9604-1a73e2c38df1",
   "metadata": {},
   "source": [
    "# String Indexing and Slicing"
   ]
  },
  {
   "cell_type": "code",
   "execution_count": 40,
   "id": "306915d9-6d24-4070-822f-12d2a4d7d55a",
   "metadata": {},
   "outputs": [],
   "source": [
    "text = \"The 1st MRC report is crucial for our clients as it provides detailed insights into the initial activations made by their stores.\" #double line string"
   ]
  },
  {
   "cell_type": "code",
   "execution_count": 41,
   "id": "4c841b75-7611-4595-b4ff-40e53a8644dd",
   "metadata": {},
   "outputs": [],
   "source": [
    "text = 'The 1st MRC report is crucial for our clients as it provides detailed insights into the initial activations made by their stores.' #single line string"
   ]
  },
  {
   "cell_type": "code",
   "execution_count": 44,
   "id": "a7c74b4f-df16-403e-b519-519ef20db954",
   "metadata": {},
   "outputs": [],
   "source": [
    "text = \"\"\"The 1st MRC report is crucial for our clients as \n",
    "            it provides detailed insights into the \n",
    "            initial activations made by their stores.\"\"\" #multiple line tripple quotes"
   ]
  },
  {
   "cell_type": "code",
   "execution_count": 45,
   "id": "0cc61f03-1be8-4eb7-adf1-5bbd217d3990",
   "metadata": {},
   "outputs": [],
   "source": [
    "text = '''The 1st MRC report is crucial for our clients as \n",
    "            it provides detailed insights into the \n",
    "            initial activations made by their stores.''' #multiple line tripple quotes"
   ]
  },
  {
   "cell_type": "code",
   "execution_count": 55,
   "id": "d6716915-c533-4b68-9dd8-f083f52fef6d",
   "metadata": {},
   "outputs": [],
   "source": [
    "text = \"Pakistan\"\n",
    "#index  01234567\n",
    "#neg index -8-7-6-5-4-3-2-1"
   ]
  },
  {
   "cell_type": "markdown",
   "id": "e044051f-3eed-4d0f-9801-062a944d8b6b",
   "metadata": {},
   "source": [
    "#### length >>>len()"
   ]
  },
  {
   "cell_type": "code",
   "execution_count": 53,
   "id": "c92f51b5-2e96-43b4-a7c9-a5bdfd2b2b51",
   "metadata": {},
   "outputs": [
    {
     "data": {
      "text/plain": [
       "8"
      ]
     },
     "execution_count": 53,
     "metadata": {},
     "output_type": "execute_result"
    }
   ],
   "source": [
    "len(text)"
   ]
  },
  {
   "cell_type": "code",
   "execution_count": 54,
   "id": "0df25098-6667-4146-9ed8-5565348db4c1",
   "metadata": {},
   "outputs": [
    {
     "data": {
      "text/plain": [
       "'P'"
      ]
     },
     "execution_count": 54,
     "metadata": {},
     "output_type": "execute_result"
    }
   ],
   "source": [
    "#square brackets are always used for indexing\n",
    "text[0]"
   ]
  },
  {
   "cell_type": "code",
   "execution_count": 56,
   "id": "d4f706d1-6acf-4413-b52a-4504ca65f6ac",
   "metadata": {},
   "outputs": [
    {
     "data": {
      "text/plain": [
       "'n'"
      ]
     },
     "execution_count": 56,
     "metadata": {},
     "output_type": "execute_result"
    }
   ],
   "source": [
    "text[-1]"
   ]
  },
  {
   "cell_type": "markdown",
   "id": "98b7816d-91c9-43c3-b44f-e9c50c51f369",
   "metadata": {},
   "source": [
    "### Slicing: Sub String"
   ]
  },
  {
   "cell_type": "code",
   "execution_count": 57,
   "id": "3996d5a4-ed78-4821-91ae-104ff3e45c17",
   "metadata": {},
   "outputs": [],
   "source": [
    "text = \"The 1st MRC report is crucial for our clients as it provides detailed insights into the initial activations made by their stores.\" #sub string"
   ]
  },
  {
   "cell_type": "code",
   "execution_count": 65,
   "id": "4a72b56a-834a-4063-95c3-6429e18875a0",
   "metadata": {},
   "outputs": [
    {
     "data": {
      "text/plain": [
       "'The 1st MR'"
      ]
     },
     "execution_count": 65,
     "metadata": {},
     "output_type": "execute_result"
    }
   ],
   "source": [
    "#it does not return the right most value\n",
    "text[0:10] #[start : end]"
   ]
  },
  {
   "cell_type": "code",
   "execution_count": 66,
   "id": "8a536bd6-38cb-48d1-a7d1-c870505aeaba",
   "metadata": {},
   "outputs": [
    {
     "data": {
      "text/plain": [
       "'1st MRC report'"
      ]
     },
     "execution_count": 66,
     "metadata": {},
     "output_type": "execute_result"
    }
   ],
   "source": [
    "text[4:18] "
   ]
  },
  {
   "cell_type": "code",
   "execution_count": 67,
   "id": "f41d6022-145b-4f13-9231-68bf4f04d121",
   "metadata": {},
   "outputs": [],
   "source": [
    "country = \"Pakistan\""
   ]
  },
  {
   "cell_type": "code",
   "execution_count": 68,
   "id": "cca0047b-dbb7-4534-af4d-89669b60a77d",
   "metadata": {},
   "outputs": [
    {
     "data": {
      "text/plain": [
       "'Pakist'"
      ]
     },
     "execution_count": 68,
     "metadata": {},
     "output_type": "execute_result"
    }
   ],
   "source": [
    "country[0:6:1] #[start : end : steps]"
   ]
  },
  {
   "cell_type": "code",
   "execution_count": 72,
   "id": "38475a09-216b-464b-9960-8cbae3de27cf",
   "metadata": {},
   "outputs": [
    {
     "data": {
      "text/plain": [
       "'Pksa'"
      ]
     },
     "execution_count": 72,
     "metadata": {},
     "output_type": "execute_result"
    }
   ],
   "source": [
    "country[0:7:2]"
   ]
  },
  {
   "cell_type": "markdown",
   "id": "2d876a93-370a-4222-a8e4-c3d19089338a",
   "metadata": {},
   "source": [
    "# Python Collections/Data Structures\n",
    "- String\n",
    "- List\n",
    "- Tuple\n",
    "- Dictionary\n",
    "- Set\n",
    "    "
   ]
  },
  {
   "cell_type": "markdown",
   "id": "703c51ce-e0df-4a99-84e6-d467a6c95316",
   "metadata": {},
   "source": [
    "# List\n",
    "- [ ]\n",
    "- many values\n",
    "- many type values\n",
    "- mutable\n",
    "- index\n",
    "- slice\n",
    "- copy"
   ]
  },
  {
   "cell_type": "code",
   "execution_count": 75,
   "id": "fa88d84b-0dd9-4ae7-8361-e90ac410c887",
   "metadata": {},
   "outputs": [],
   "source": [
    "#             0       1         2        3        4\n",
    "#            -5      -4        -3       -2      -1\n",
    "students = ['Ali', 'Basit', 'Kaleem', 'Nasir', 'Babar']"
   ]
  },
  {
   "cell_type": "code",
   "execution_count": 76,
   "id": "a5e8b013-a241-43c8-85be-92d581c7f92a",
   "metadata": {},
   "outputs": [
    {
     "name": "stdout",
     "output_type": "stream",
     "text": [
      "<class 'list'>\n"
     ]
    }
   ],
   "source": [
    "print(type(students))"
   ]
  },
  {
   "cell_type": "code",
   "execution_count": 78,
   "id": "f7ccc5e3-4a74-4c45-8a8d-9c9f33253349",
   "metadata": {},
   "outputs": [
    {
     "data": {
      "text/plain": [
       "'Kaleem'"
      ]
     },
     "execution_count": 78,
     "metadata": {},
     "output_type": "execute_result"
    }
   ],
   "source": [
    "students[2]"
   ]
  },
  {
   "cell_type": "code",
   "execution_count": 79,
   "id": "c334d5f7-477c-4c67-9e91-9a6a827024f5",
   "metadata": {},
   "outputs": [
    {
     "data": {
      "text/plain": [
       "'Nasir'"
      ]
     },
     "execution_count": 79,
     "metadata": {},
     "output_type": "execute_result"
    }
   ],
   "source": [
    "students[-2]"
   ]
  },
  {
   "cell_type": "code",
   "execution_count": null,
   "id": "037275ba-a9da-4b42-8e8a-2b162ff4e317",
   "metadata": {},
   "outputs": [],
   "source": []
  }
 ],
 "metadata": {
  "kernelspec": {
   "display_name": "Python 3 (ipykernel)",
   "language": "python",
   "name": "python3"
  },
  "language_info": {
   "codemirror_mode": {
    "name": "ipython",
    "version": 3
   },
   "file_extension": ".py",
   "mimetype": "text/x-python",
   "name": "python",
   "nbconvert_exporter": "python",
   "pygments_lexer": "ipython3",
   "version": "3.12.7"
  }
 },
 "nbformat": 4,
 "nbformat_minor": 5
}
