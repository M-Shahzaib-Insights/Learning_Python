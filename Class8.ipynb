{
 "cells": [
  {
   "cell_type": "markdown",
   "id": "558c5445-11eb-4f55-a7a3-a0e87fdcdb2e",
   "metadata": {},
   "source": [
    "# Loops:\n",
    "- For in (works on collection: iterables(string, list, dic, set, tuples))\n",
    "- While"
   ]
  },
  {
   "cell_type": "code",
   "execution_count": 1,
   "id": "070ebd29-d03d-4f37-b4e9-921db89a2af4",
   "metadata": {},
   "outputs": [
    {
     "name": "stdout",
     "output_type": "stream",
     "text": [
      "H\n",
      "E\n",
      "L\n",
      "L\n",
      "O\n"
     ]
    }
   ],
   "source": [
    "for a in \"hello\":\n",
    "    print (a.upper())"
   ]
  },
  {
   "cell_type": "code",
   "execution_count": 4,
   "id": "247e94ac-2383-4d36-aef2-ce6e9ee29295",
   "metadata": {},
   "outputs": [
    {
     "data": {
      "text/plain": [
       "range(0, 10)"
      ]
     },
     "execution_count": 4,
     "metadata": {},
     "output_type": "execute_result"
    }
   ],
   "source": [
    "range(10)"
   ]
  },
  {
   "cell_type": "code",
   "execution_count": 5,
   "id": "1530e46e-a834-435e-834d-bc5e1f50aa15",
   "metadata": {},
   "outputs": [
    {
     "data": {
      "text/plain": [
       "[0, 1, 2, 3, 4, 5, 6, 7, 8, 9]"
      ]
     },
     "execution_count": 5,
     "metadata": {},
     "output_type": "execute_result"
    }
   ],
   "source": [
    "list(range(10))"
   ]
  },
  {
   "cell_type": "code",
   "execution_count": 7,
   "id": "f2137dae-dd84-4445-8f71-f3f48366f971",
   "metadata": {},
   "outputs": [
    {
     "name": "stdout",
     "output_type": "stream",
     "text": [
      "0\n",
      "1\n",
      "2\n",
      "3\n",
      "4\n",
      "5\n",
      "6\n",
      "7\n",
      "8\n",
      "9\n"
     ]
    }
   ],
   "source": [
    "for num in range(10):\n",
    "    print(num)"
   ]
  },
  {
   "cell_type": "code",
   "execution_count": 8,
   "id": "3438eb62-6645-4887-8494-4c467588bed7",
   "metadata": {},
   "outputs": [
    {
     "name": "stdout",
     "output_type": "stream",
     "text": [
      "Num Sqr Cube\n",
      "0 0 0\n",
      "1 1 1\n",
      "2 4 8\n",
      "3 9 27\n",
      "4 16 64\n",
      "5 25 125\n",
      "6 36 216\n",
      "7 49 343\n",
      "8 64 512\n",
      "9 81 729\n"
     ]
    }
   ],
   "source": [
    "print(\"Num\", \"Sqr\", \"Cube\")\n",
    "for num in range(10):\n",
    "    print(num, num**2, num**3)"
   ]
  },
  {
   "cell_type": "code",
   "execution_count": 9,
   "id": "50efefbe-e650-4211-8688-fa4e52be7cc8",
   "metadata": {},
   "outputs": [
    {
     "name": "stdout",
     "output_type": "stream",
     "text": [
      "1\n",
      "2\n",
      "3\n",
      "4\n",
      "5\n",
      "6\n",
      "7\n",
      "8\n",
      "9\n",
      "10\n"
     ]
    }
   ],
   "source": [
    "for a in range(1,11):\n",
    "    print(a)"
   ]
  },
  {
   "cell_type": "code",
   "execution_count": 11,
   "id": "e2df9a5f-e7ac-4bf0-8b9f-32c8e041e883",
   "metadata": {},
   "outputs": [
    {
     "name": "stdout",
     "output_type": "stream",
     "text": [
      "13579"
     ]
    }
   ],
   "source": [
    "for a in range(1,11,2):\n",
    "    print(a,end=\"\")"
   ]
  },
  {
   "cell_type": "markdown",
   "id": "50dd936b-fc9a-4ad3-acd7-a437d3e55e04",
   "metadata": {},
   "source": [
    "### Iterating over a dictionary:"
   ]
  },
  {
   "cell_type": "code",
   "execution_count": 12,
   "id": "5576238a-4fc2-4bb6-8778-550847a2c2d7",
   "metadata": {},
   "outputs": [],
   "source": [
    "easyload_shop = {\"charger\": 500, \"datacable\": 250, \"backcover\": 300,\n",
    "            \"handsfree\": 800, \"protector\": 200, \"sim\": 500, \"powerbank\": 1000,\n",
    "            \"usb\": 500, \"battery\": 1500, \"mouse\": 300, \"keyboard\":750}"
   ]
  },
  {
   "cell_type": "code",
   "execution_count": 13,
   "id": "b2d69234-2efa-44b0-84fe-6002d7271710",
   "metadata": {},
   "outputs": [
    {
     "name": "stdout",
     "output_type": "stream",
     "text": [
      "charger\n",
      "datacable\n",
      "backcover\n",
      "handsfree\n",
      "protector\n",
      "sim\n",
      "powerbank\n",
      "usb\n",
      "battery\n",
      "mouse\n",
      "keyboard\n"
     ]
    }
   ],
   "source": [
    "#by default loop iterated over keys in a dictionary\n",
    "for a in easyload_shop:\n",
    "    print(a)"
   ]
  },
  {
   "cell_type": "code",
   "execution_count": 14,
   "id": "ee1852c3-4702-4ff4-8faf-b135d10a4822",
   "metadata": {},
   "outputs": [
    {
     "name": "stdout",
     "output_type": "stream",
     "text": [
      "charger\n",
      "datacable\n",
      "backcover\n",
      "handsfree\n",
      "protector\n",
      "sim\n",
      "powerbank\n",
      "usb\n",
      "battery\n",
      "mouse\n",
      "keyboard\n"
     ]
    }
   ],
   "source": [
    "for a in easyload_shop.keys():\n",
    "    print(a)"
   ]
  },
  {
   "cell_type": "code",
   "execution_count": 15,
   "id": "c529528e-35df-4cf2-93b1-1f2ec5b807fe",
   "metadata": {},
   "outputs": [
    {
     "name": "stdout",
     "output_type": "stream",
     "text": [
      "500\n",
      "250\n",
      "300\n",
      "800\n",
      "200\n",
      "500\n",
      "1000\n",
      "500\n",
      "1500\n",
      "300\n",
      "750\n"
     ]
    }
   ],
   "source": [
    "for a in easyload_shop.values():\n",
    "    print(a)"
   ]
  },
  {
   "cell_type": "code",
   "execution_count": 16,
   "id": "701aa27f-5a4e-4d85-86c3-4368ac4cbb6e",
   "metadata": {},
   "outputs": [
    {
     "name": "stdout",
     "output_type": "stream",
     "text": [
      "('charger', 500)\n",
      "('datacable', 250)\n",
      "('backcover', 300)\n",
      "('handsfree', 800)\n",
      "('protector', 200)\n",
      "('sim', 500)\n",
      "('powerbank', 1000)\n",
      "('usb', 500)\n",
      "('battery', 1500)\n",
      "('mouse', 300)\n",
      "('keyboard', 750)\n"
     ]
    }
   ],
   "source": [
    "for a in easyload_shop.items():\n",
    "    print(a)"
   ]
  },
  {
   "cell_type": "markdown",
   "id": "cad9d28f-df0a-47e2-8de5-04d6d344436b",
   "metadata": {},
   "source": [
    "## Packing and Unpacking:"
   ]
  },
  {
   "cell_type": "code",
   "execution_count": 17,
   "id": "91d8ca9d-829b-4239-8635-21f20d91a232",
   "metadata": {},
   "outputs": [],
   "source": [
    "#Packing\n",
    "alist = [12,24,36,48]"
   ]
  },
  {
   "cell_type": "code",
   "execution_count": 18,
   "id": "ce07869d-5745-4a30-bd75-875f2af796b8",
   "metadata": {},
   "outputs": [],
   "source": [
    "#Unpacking\n",
    "mangoes, oranges, apples, banana = alist"
   ]
  },
  {
   "cell_type": "code",
   "execution_count": 19,
   "id": "8cd777e4-c563-456c-bc8d-8e28718a80ce",
   "metadata": {},
   "outputs": [
    {
     "data": {
      "text/plain": [
       "12"
      ]
     },
     "execution_count": 19,
     "metadata": {},
     "output_type": "execute_result"
    }
   ],
   "source": [
    "mangoes"
   ]
  },
  {
   "cell_type": "code",
   "execution_count": 20,
   "id": "cbb3fcd6-104e-4361-8365-e461070f2f15",
   "metadata": {},
   "outputs": [
    {
     "data": {
      "text/plain": [
       "36"
      ]
     },
     "execution_count": 20,
     "metadata": {},
     "output_type": "execute_result"
    }
   ],
   "source": [
    "apples"
   ]
  },
  {
   "cell_type": "code",
   "execution_count": 34,
   "id": "a87eb98e-6102-41bf-93db-78a361c7d388",
   "metadata": {},
   "outputs": [
    {
     "name": "stdout",
     "output_type": "stream",
     "text": [
      "charger 500\n",
      "datacable 250\n",
      "backcover 300\n",
      "handsfree 800\n",
      "protector 200\n",
      "sim 500\n",
      "powerbank 1000\n",
      "usb 500\n",
      "battery 1500\n",
      "mouse 300\n",
      "keyboard 750\n"
     ]
    }
   ],
   "source": [
    "for k,v in easyload_shop.items():\n",
    "    print(k,v)"
   ]
  },
  {
   "cell_type": "code",
   "execution_count": 28,
   "id": "3393e53e-6f74-4488-9de7-d7829ed2011b",
   "metadata": {},
   "outputs": [],
   "source": [
    "relatives = ['ali', 'asad', 'arih', 'umer', 'hashir', 'qasim']"
   ]
  },
  {
   "cell_type": "code",
   "execution_count": 29,
   "id": "6c44ee95-139f-4201-ba6e-40f7ba0ccbb2",
   "metadata": {},
   "outputs": [
    {
     "name": "stdout",
     "output_type": "stream",
     "text": [
      "ali\n",
      "asad\n",
      "arih\n",
      "umer\n",
      "hashir\n",
      "qasim\n"
     ]
    }
   ],
   "source": [
    "for relative in relatives:\n",
    "    print(relative)"
   ]
  },
  {
   "cell_type": "code",
   "execution_count": 31,
   "id": "168ab78e-a066-491b-830c-894b17be7c5f",
   "metadata": {},
   "outputs": [
    {
     "name": "stdout",
     "output_type": "stream",
     "text": [
      "ali you are invited.\n",
      "asad you are invited.\n",
      "arih you are invited.\n",
      "umer you are invited.\n",
      "hashir you are not invited.\n",
      "qasim you are invited.\n"
     ]
    }
   ],
   "source": [
    "for relative in relatives:\n",
    "    if relative == 'hashir':\n",
    "        print(f\"{relative} you are not invited.\")\n",
    "    else:\n",
    "        print(f\"{relative} you are invited.\")"
   ]
  },
  {
   "cell_type": "code",
   "execution_count": 32,
   "id": "b1287356-c439-4187-b8d5-b1f8f3752a2d",
   "metadata": {},
   "outputs": [
    {
     "name": "stdout",
     "output_type": "stream",
     "text": [
      "ali Invited\n",
      "asad Invited\n",
      "arih Invited\n",
      "umer not invited\n",
      "hashir not invited\n",
      "qasim not invited\n"
     ]
    }
   ],
   "source": [
    "for relative in relatives:\n",
    "    if relative.startswith(\"a\" or \"A\"):\n",
    "        print(relative, \"Invited\")\n",
    "    else:\n",
    "        print(relative, \"not invited\")"
   ]
  },
  {
   "cell_type": "code",
   "execution_count": 36,
   "id": "8c90f610-9415-4898-b185-67111a41a85e",
   "metadata": {},
   "outputs": [
    {
     "name": "stdout",
     "output_type": "stream",
     "text": [
      "charger 500\n",
      "datacable 250\n",
      "backcover 300\n",
      "protector 200\n",
      "sim 500\n",
      "usb 500\n",
      "mouse 300\n"
     ]
    }
   ],
   "source": [
    "# I need the price of item costing less than 500.\n",
    "for i,p in easyload_shop.items():\n",
    "    if p<=500:\n",
    "        print (i,p)"
   ]
  },
  {
   "cell_type": "code",
   "execution_count": 43,
   "id": "a12da430-8f12-4b7d-9c34-2375d12bc427",
   "metadata": {},
   "outputs": [],
   "source": [
    "easyload_shop = {\"charger\": 500, \"datacable\": 250, \"backcover\": 300,\n",
    "            \"handsfree\": 800, \"protector\": 200, \"sim\": 500, \"powerbank\": 1000,\n",
    "            \"usb\": 500, \"battery\": 1500, \"mouse\": 300, \"keyboard\":750}"
   ]
  },
  {
   "cell_type": "code",
   "execution_count": 45,
   "id": "ad5c08da-6a01-4e52-bc5c-5caf426d738e",
   "metadata": {},
   "outputs": [
    {
     "name": "stdin",
     "output_type": "stream",
     "text": [
      "What do you want to buy? usb\n"
     ]
    },
    {
     "name": "stdout",
     "output_type": "stream",
     "text": [
      "The price of the usb is 500\n"
     ]
    }
   ],
   "source": [
    "#Take user input\n",
    "prod = input(\"What do you want to buy?\")\n",
    "\n",
    "if prod in easyload_shop.keys():\n",
    "    print(f\"The price of the {prod} is {easyload_shop[prod]}\")\n",
    "else:\n",
    "    print (f\"{prod} is not in the shop\")\n"
   ]
  },
  {
   "cell_type": "markdown",
   "id": "222e8842-3137-48be-9b9e-a24d5b028a16",
   "metadata": {},
   "source": [
    "## While loop (Works on Condition)"
   ]
  },
  {
   "cell_type": "code",
   "execution_count": 46,
   "id": "61c824ed-6826-4652-b74b-ac6fa53c4329",
   "metadata": {},
   "outputs": [
    {
     "name": "stdout",
     "output_type": "stream",
     "text": [
      "Happy Birthday\n",
      "Happy Birthday\n",
      "Happy Birthday\n",
      "Happy Birthday\n",
      "Happy Birthday\n",
      "Happy Birthday\n",
      "Happy Birthday\n",
      "Happy Birthday\n",
      "Happy Birthday\n"
     ]
    }
   ],
   "source": [
    "age = 10\n",
    "count = 0\n",
    "while age < 100:\n",
    "    print(\"Happy Birthday\")\n",
    "    count\n",
    "    age += 10"
   ]
  },
  {
   "cell_type": "code",
   "execution_count": 1,
   "id": "eade42ed-1b49-426e-bab1-4f06a3aa3a81",
   "metadata": {},
   "outputs": [
    {
     "name": "stdout",
     "output_type": "stream",
     "text": [
      "0\n",
      "1\n",
      "2\n",
      "3\n",
      "4\n",
      "5\n",
      "6\n",
      "7\n",
      "8\n",
      "9\n"
     ]
    }
   ],
   "source": [
    "count = 0\n",
    "while count < 10:\n",
    "    print (count)\n",
    "    count +=1"
   ]
  },
  {
   "cell_type": "markdown",
   "id": "a335269a-e0f8-4b95-b42c-838a770d0cef",
   "metadata": {},
   "source": [
    "## Break and Continue"
   ]
  },
  {
   "cell_type": "code",
   "execution_count": 2,
   "id": "754d9a56-89c3-4b87-8d15-bc1c67c73a3b",
   "metadata": {},
   "outputs": [
    {
     "name": "stdout",
     "output_type": "stream",
     "text": [
      "0\n",
      "1\n",
      "2\n",
      "3\n",
      "4\n"
     ]
    }
   ],
   "source": [
    "#Break: to stop the loop if condition matches\n",
    "for a in range(10):\n",
    "    if a == 5:\n",
    "        break\n",
    "    else:\n",
    "        print(a)"
   ]
  },
  {
   "cell_type": "code",
   "execution_count": 3,
   "id": "9bdb7dc7-a862-4f7a-8f26-d383359d0824",
   "metadata": {},
   "outputs": [
    {
     "name": "stdout",
     "output_type": "stream",
     "text": [
      "0\n",
      "1\n",
      "2\n",
      "3\n",
      "4\n",
      "6\n",
      "7\n",
      "8\n",
      "9\n"
     ]
    }
   ],
   "source": [
    "#Continue: to stop the loop at given value and start again after the given value\n",
    "for a in range(10):\n",
    "    if a == 5:\n",
    "        continue\n",
    "    else:\n",
    "        print(a)"
   ]
  },
  {
   "cell_type": "code",
   "execution_count": 5,
   "id": "5fcef502-9be3-409e-8cf2-069bde48c0a0",
   "metadata": {},
   "outputs": [],
   "source": [
    "easyload_shop = {\"charger\": 500, \"datacable\": 250, \"backcover\": 300,\n",
    "            \"handsfree\": 800, \"protector\": 200, \"sim\": 500, \"powerbank\": 1000,\n",
    "            \"usb\": 500, \"battery\": 1500, \"mouse\": 300, \"keyboard\":750}"
   ]
  },
  {
   "cell_type": "code",
   "execution_count": 7,
   "id": "96efd51b-dbad-42d0-9a53-c78e312efa2a",
   "metadata": {},
   "outputs": [
    {
     "name": "stdin",
     "output_type": "stream",
     "text": [
      "What do you want to buy? mouse\n"
     ]
    },
    {
     "name": "stdout",
     "output_type": "stream",
     "text": [
      "The price of the mouse is 300\n",
      "Product added in the cart\n"
     ]
    },
    {
     "name": "stdin",
     "output_type": "stream",
     "text": [
      "What do you want to buy? Laptop\n"
     ]
    },
    {
     "name": "stdout",
     "output_type": "stream",
     "text": [
      "Sorry Laptop is not in shop\n"
     ]
    },
    {
     "name": "stdin",
     "output_type": "stream",
     "text": [
      "What do you want to buy? keyboard\n"
     ]
    },
    {
     "name": "stdout",
     "output_type": "stream",
     "text": [
      "The price of the keyboard is 750\n",
      "Product added in the cart\n"
     ]
    },
    {
     "name": "stdin",
     "output_type": "stream",
     "text": [
      "What do you want to buy? datacable\n"
     ]
    },
    {
     "name": "stdout",
     "output_type": "stream",
     "text": [
      "The price of the datacable is 250\n",
      "Product added in the cart\n"
     ]
    },
    {
     "name": "stdin",
     "output_type": "stream",
     "text": [
      "What do you want to buy? usb\n"
     ]
    },
    {
     "name": "stdout",
     "output_type": "stream",
     "text": [
      "The price of the usb is 500\n",
      "Product added in the cart\n",
      "Total 1800\n",
      "Cart ['mouse', 'keyboard', 'datacable', 'usb']\n"
     ]
    }
   ],
   "source": [
    "count = 5\n",
    "cart = []\n",
    "amt = 0\n",
    "\n",
    "while count>0:\n",
    "    prod = input(\"What do you want to buy?\")\n",
    "    if prod in easyload_shop.keys():\n",
    "        print (f\"The price of the {prod} is {easyload_shop[prod]}\")\n",
    "        print (f\"Product added in the cart\")\n",
    "        amt += easyload_shop[prod]\n",
    "        cart.append(prod)\n",
    "    else:\n",
    "        print(f\"Sorry {prod} is not in shop\")\n",
    "    count -= 1\n",
    "\n",
    "print(\"Total\",amt)\n",
    "print(\"Cart\", cart)"
   ]
  },
  {
   "cell_type": "code",
   "execution_count": 13,
   "id": "aca32a02-c834-45e3-b275-ef3b7fb3e9f9",
   "metadata": {},
   "outputs": [
    {
     "name": "stdin",
     "output_type": "stream",
     "text": [
      "What do you want to buy? or press q to quit mouse\n"
     ]
    },
    {
     "name": "stdout",
     "output_type": "stream",
     "text": [
      "The price of the mouse is 300\n",
      "Product added in the cart\n"
     ]
    },
    {
     "name": "stdin",
     "output_type": "stream",
     "text": [
      "What do you want to buy? or press q to quit keyboard\n"
     ]
    },
    {
     "name": "stdout",
     "output_type": "stream",
     "text": [
      "The price of the keyboard is 750\n",
      "Product added in the cart\n"
     ]
    },
    {
     "name": "stdin",
     "output_type": "stream",
     "text": [
      "What do you want to buy? or press q to quit keyboard\n"
     ]
    },
    {
     "name": "stdout",
     "output_type": "stream",
     "text": [
      "keyboard already in cart\n"
     ]
    },
    {
     "name": "stdin",
     "output_type": "stream",
     "text": [
      "What do you want to buy? or press q to quit laptop\n"
     ]
    },
    {
     "name": "stdout",
     "output_type": "stream",
     "text": [
      "Sorry laptop is not in shop\n"
     ]
    },
    {
     "name": "stdin",
     "output_type": "stream",
     "text": [
      "What do you want to buy? or press q to quit q\n"
     ]
    },
    {
     "name": "stdout",
     "output_type": "stream",
     "text": [
      "Total 1050\n",
      "Cart ['mouse', 'keyboard']\n"
     ]
    }
   ],
   "source": [
    "cart = []\n",
    "amt = 0\n",
    "\n",
    "while True:\n",
    "    prod = input(\"What do you want to buy? or press q to quit\").lower()\n",
    "    if prod == 'q':\n",
    "        break\n",
    "    else:\n",
    "        if prod in easyload_shop.keys():\n",
    "            if prod in cart:\n",
    "                print (f\"{prod} already in cart\")\n",
    "            else:\n",
    "                print (f\"The price of the {prod} is {easyload_shop[prod]}\")\n",
    "                print (f\"Product added in the cart\")\n",
    "                amt += easyload_shop[prod]\n",
    "                cart.append(prod)\n",
    "        else:\n",
    "            print(f\"Sorry {prod} is not in shop\")\n",
    "            count -= 1\n",
    "\n",
    "print(\"Total\",amt)\n",
    "print(\"Cart\", cart)"
   ]
  },
  {
   "cell_type": "code",
   "execution_count": null,
   "id": "90d15a5c-d4f9-464c-a376-8046b5a55087",
   "metadata": {},
   "outputs": [],
   "source": []
  },
  {
   "cell_type": "code",
   "execution_count": null,
   "id": "abd1c5f1-04cf-4c40-ad8a-16442e070379",
   "metadata": {},
   "outputs": [],
   "source": []
  },
  {
   "cell_type": "code",
   "execution_count": null,
   "id": "4a956fb5-02db-4350-adac-64e4716422fb",
   "metadata": {},
   "outputs": [],
   "source": []
  },
  {
   "cell_type": "code",
   "execution_count": null,
   "id": "f8c725bd-2cba-4946-af90-a13513d83f68",
   "metadata": {},
   "outputs": [],
   "source": []
  },
  {
   "cell_type": "code",
   "execution_count": null,
   "id": "a34cc4a3-beed-4be7-b1d2-ccc88095b1b5",
   "metadata": {},
   "outputs": [],
   "source": []
  }
 ],
 "metadata": {
  "kernelspec": {
   "display_name": "Python 3 (ipykernel)",
   "language": "python",
   "name": "python3"
  },
  "language_info": {
   "codemirror_mode": {
    "name": "ipython",
    "version": 3
   },
   "file_extension": ".py",
   "mimetype": "text/x-python",
   "name": "python",
   "nbconvert_exporter": "python",
   "pygments_lexer": "ipython3",
   "version": "3.12.7"
  }
 },
 "nbformat": 4,
 "nbformat_minor": 5
}
