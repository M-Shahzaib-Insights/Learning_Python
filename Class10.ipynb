{
 "cells": [
  {
   "cell_type": "markdown",
   "id": "e3775a09-c4cb-40ef-9f63-d2388e2842cf",
   "metadata": {},
   "source": [
    "### \n",
    "- return\n",
    "- local and global function "
   ]
  },
  {
   "cell_type": "code",
   "execution_count": null,
   "id": "3d0eaeba-a761-49ae-92be-4929f2d16713",
   "metadata": {},
   "outputs": [],
   "source": [
    "name = test #global Variable"
   ]
  },
  {
   "cell_type": "code",
   "execution_count": 7,
   "id": "bacf5844-42a3-4997-b4ec-170a40264e0b",
   "metadata": {},
   "outputs": [],
   "source": [
    "def profile_builder(name, age, qualification, income, **other_info): # ** To save the input as dictionary\n",
    "    profile = {} #Local Variable\n",
    "    profile['Name'] = name\n",
    "    profile['Age'] = age\n",
    "    profile['Qualification'] = qualification\n",
    "    profile['Income'] = income\n",
    "    profile.update(other_info)\n",
    "    return (profile)\n"
   ]
  },
  {
   "cell_type": "code",
   "execution_count": 8,
   "id": "e972456d-cbec-4c40-acbe-eea7aaa3851d",
   "metadata": {},
   "outputs": [
    {
     "data": {
      "text/plain": [
       "{'Name': 'Arish',\n",
       " 'Age': 24,\n",
       " 'Qualification': 'Graduate',\n",
       " 'Income': 40000,\n",
       " 'City': 'Karachi',\n",
       " 'Height': '5.8\"',\n",
       " 'Color': 'Fair',\n",
       " 'Profession': 'Data Scientist'}"
      ]
     },
     "execution_count": 8,
     "metadata": {},
     "output_type": "execute_result"
    }
   ],
   "source": [
    "profile_builder('Arish', 24, 'Graduate', 40000, City = 'Karachi', Height = '5.8\"', Color = 'Fair', Profession = 'Data Scientist')"
   ]
  },
  {
   "cell_type": "code",
   "execution_count": 4,
   "id": "625a2840-bb2e-4af3-9a80-f32f06214f54",
   "metadata": {},
   "outputs": [
    {
     "ename": "NameError",
     "evalue": "name 'profile' is not defined",
     "output_type": "error",
     "traceback": [
      "\u001b[1;31m---------------------------------------------------------------------------\u001b[0m",
      "\u001b[1;31mNameError\u001b[0m                                 Traceback (most recent call last)",
      "Cell \u001b[1;32mIn[4], line 1\u001b[0m\n\u001b[1;32m----> 1\u001b[0m \u001b[38;5;28mprint\u001b[39m(profile)\n",
      "\u001b[1;31mNameError\u001b[0m: name 'profile' is not defined"
     ]
    }
   ],
   "source": [
    "print(profile)"
   ]
  },
  {
   "cell_type": "code",
   "execution_count": 10,
   "id": "22aaaef0-56c9-4901-b7d4-1a59482b5c42",
   "metadata": {},
   "outputs": [],
   "source": [
    "def add (a,b):\n",
    "    print (a+b)"
   ]
  },
  {
   "cell_type": "code",
   "execution_count": 14,
   "id": "6e203339-18c7-469c-bab5-274e895ffa8c",
   "metadata": {},
   "outputs": [
    {
     "name": "stdout",
     "output_type": "stream",
     "text": [
      "30\n"
     ]
    },
    {
     "ename": "TypeError",
     "evalue": "unsupported operand type(s) for +: 'NoneType' and 'int'",
     "output_type": "error",
     "traceback": [
      "\u001b[1;31m---------------------------------------------------------------------------\u001b[0m",
      "\u001b[1;31mTypeError\u001b[0m                                 Traceback (most recent call last)",
      "Cell \u001b[1;32mIn[14], line 3\u001b[0m\n\u001b[0;32m      1\u001b[0m \u001b[38;5;66;03m# Values can not be access outside of the functions as they are Nonetype and there is no return function applied\u001b[39;00m\n\u001b[0;32m      2\u001b[0m \u001b[38;5;66;03m#Print Function only display the values that cannot be used further However return provides the value to utilize\u001b[39;00m\n\u001b[1;32m----> 3\u001b[0m add(\u001b[38;5;241m10\u001b[39m,\u001b[38;5;241m20\u001b[39m) \u001b[38;5;241m+\u001b[39m \u001b[38;5;241m30\u001b[39m\n",
      "\u001b[1;31mTypeError\u001b[0m: unsupported operand type(s) for +: 'NoneType' and 'int'"
     ]
    }
   ],
   "source": [
    "# Values can not be access outside of the functions as they are Nonetype and there is no return function applied\n",
    "#Print Function only display the values that cannot be used further However return provides the value to utilize\n",
    "add(10,20) + 30"
   ]
  },
  {
   "cell_type": "code",
   "execution_count": 15,
   "id": "aa032993-9761-4892-80c6-ea3e3404be3c",
   "metadata": {},
   "outputs": [
    {
     "name": "stdout",
     "output_type": "stream",
     "text": [
      "4\n",
      "None\n"
     ]
    }
   ],
   "source": [
    "print(add(1,3))"
   ]
  },
  {
   "cell_type": "code",
   "execution_count": 18,
   "id": "a26d0e6d-4eb3-463e-b2b2-27517b4bc8af",
   "metadata": {},
   "outputs": [],
   "source": [
    "def add (a,b):\n",
    "    return (a+b)"
   ]
  },
  {
   "cell_type": "code",
   "execution_count": 19,
   "id": "7bd61d6a-6c1f-4e32-b455-975dc4373ba3",
   "metadata": {},
   "outputs": [
    {
     "name": "stdout",
     "output_type": "stream",
     "text": [
      "4\n"
     ]
    }
   ],
   "source": [
    "print(add(1,3))"
   ]
  },
  {
   "cell_type": "code",
   "execution_count": 20,
   "id": "e5e7a35f-7cef-4d7a-b34e-5fb4ac04759d",
   "metadata": {},
   "outputs": [],
   "source": [
    "def add (a,b):\n",
    "    return a+b, \"Pakistan Zindabad\""
   ]
  },
  {
   "cell_type": "code",
   "execution_count": 21,
   "id": "c171997a-0f6c-4d90-b9f4-ef373a4509d4",
   "metadata": {},
   "outputs": [
    {
     "data": {
      "text/plain": [
       "(9, 'Pakistan Zindabad')"
      ]
     },
     "execution_count": 21,
     "metadata": {},
     "output_type": "execute_result"
    }
   ],
   "source": [
    "add(5,4)"
   ]
  },
  {
   "cell_type": "code",
   "execution_count": 22,
   "id": "4e93d791-8786-4083-9eb0-c251465cba26",
   "metadata": {},
   "outputs": [],
   "source": [
    "# Salesman: Commission calculator\n",
    "# Tax calculator\n",
    "# Payment"
   ]
  },
  {
   "cell_type": "code",
   "execution_count": 37,
   "id": "39303d2f-e18b-48f1-86d4-a6a508cb5649",
   "metadata": {},
   "outputs": [],
   "source": [
    "def commissionCalc(units_sold):\n",
    "    if units_sold >= 500:\n",
    "        return 10000\n",
    "    elif units_sold >= 250:\n",
    "        return 5000\n",
    "    elif units_sold >= 100:\n",
    "        return 2000\n",
    "    else:\n",
    "        return 1000"
   ]
  },
  {
   "cell_type": "code",
   "execution_count": 44,
   "id": "c9174c92-e998-493d-8dca-132da8cc1d2b",
   "metadata": {},
   "outputs": [],
   "source": [
    "def taxCalc(income):\n",
    "    if income >= 50000:\n",
    "        return income * 0.10\n",
    "    elif income >= 40000:\n",
    "        return income * 0.05\n",
    "    elif income >= 30000:\n",
    "        return income * 0.03\n",
    "    else:\n",
    "        return income * 0"
   ]
  },
  {
   "cell_type": "code",
   "execution_count": 45,
   "id": "cfbf7c8d-aa93-454f-961b-de4e282cd145",
   "metadata": {},
   "outputs": [],
   "source": [
    "def salaryCalc(basic, unit_sold):\n",
    "    commission = commissionCalc(unit_sold)\n",
    "    total = basic + commission\n",
    "    tax = taxCalc(total)\n",
    "    net = total - tax\n",
    "    return net"
   ]
  },
  {
   "cell_type": "code",
   "execution_count": 46,
   "id": "9967d7ae-0cc6-4a4b-8b42-1c6920186f72",
   "metadata": {},
   "outputs": [
    {
     "data": {
      "text/plain": [
       "58500.0"
      ]
     },
     "execution_count": 46,
     "metadata": {},
     "output_type": "execute_result"
    }
   ],
   "source": [
    "salaryCalc(60000,250)"
   ]
  },
  {
   "cell_type": "code",
   "execution_count": 49,
   "id": "8c37e458-49d1-41d8-b64e-e4d0400880e5",
   "metadata": {},
   "outputs": [],
   "source": [
    "#functions can be created for lists too"
   ]
  },
  {
   "cell_type": "code",
   "execution_count": 61,
   "id": "1d0ce528-5c11-49ef-b7c3-efc14c1037e1",
   "metadata": {},
   "outputs": [],
   "source": [
    "#defined function sum:\n",
    "def sum_list1(lst):\n",
    "    return(sum(lst))"
   ]
  },
  {
   "cell_type": "code",
   "execution_count": 62,
   "id": "fc6ee5b3-8d9f-4b2a-8db3-de452e5d2d07",
   "metadata": {},
   "outputs": [
    {
     "data": {
      "text/plain": [
       "44"
      ]
     },
     "execution_count": 62,
     "metadata": {},
     "output_type": "execute_result"
    }
   ],
   "source": [
    "sum_list1([1,3,4,5,6,2,7,7,7,2])"
   ]
  },
  {
   "cell_type": "code",
   "execution_count": 63,
   "id": "7987363c-9e15-4821-ac00-8f89d9f796bd",
   "metadata": {},
   "outputs": [],
   "source": [
    "def sum_list(lst):\n",
    "    s = 0\n",
    "    for a in lst:\n",
    "        s = s+a\n",
    "    return s"
   ]
  },
  {
   "cell_type": "code",
   "execution_count": 64,
   "id": "9425b4b4-c06b-4e20-9c6f-ffd560975c1d",
   "metadata": {},
   "outputs": [
    {
     "data": {
      "text/plain": [
       "113"
      ]
     },
     "execution_count": 64,
     "metadata": {},
     "output_type": "execute_result"
    }
   ],
   "source": [
    "sum_list([2,6,5,8,88,1,3])"
   ]
  },
  {
   "cell_type": "code",
   "execution_count": 65,
   "id": "6fc603ab-6016-407d-9a8d-5e7c2687df1b",
   "metadata": {},
   "outputs": [],
   "source": [
    "def max_list(lst):\n",
    "    max_num = lst[0]\n",
    "    for n in lst:\n",
    "        if n > max_num:\n",
    "            max_num = n\n",
    "    return max_num"
   ]
  },
  {
   "cell_type": "code",
   "execution_count": 67,
   "id": "f9bc5b06-193a-4bfc-ab21-279254cb7576",
   "metadata": {},
   "outputs": [
    {
     "data": {
      "text/plain": [
       "74"
      ]
     },
     "execution_count": 67,
     "metadata": {},
     "output_type": "execute_result"
    }
   ],
   "source": [
    "max_list([2,5,6,44,33,66,23,74,21,22])"
   ]
  },
  {
   "cell_type": "code",
   "execution_count": 68,
   "id": "1fdc9021-afca-4ca1-83a4-a0ba2d49bb6e",
   "metadata": {},
   "outputs": [],
   "source": [
    "def min_list(lst):\n",
    "    min_num = lst[0]\n",
    "    for n in lst:\n",
    "        if n < min_num:\n",
    "            min_num = n\n",
    "    return min_num"
   ]
  },
  {
   "cell_type": "code",
   "execution_count": 70,
   "id": "460cd00b-117b-4374-8be3-1b8c044908ec",
   "metadata": {},
   "outputs": [
    {
     "data": {
      "text/plain": [
       "1"
      ]
     },
     "execution_count": 70,
     "metadata": {},
     "output_type": "execute_result"
    }
   ],
   "source": [
    "min_list([7,2,1,5,43,22,53,4,55,2])"
   ]
  },
  {
   "cell_type": "code",
   "execution_count": 71,
   "id": "44ba270e-2044-4e85-8473-16d74a927888",
   "metadata": {},
   "outputs": [],
   "source": [
    "def square_dict(n):\n",
    "    sq = {} #Empty Dictionary\n",
    "    for a in range(1,n+1):\n",
    "        square = a**2\n",
    "        sq[a] = square\n",
    "    return sq"
   ]
  },
  {
   "cell_type": "code",
   "execution_count": 72,
   "id": "7488adf4-7bbf-4218-97b3-4bb2dfa39e79",
   "metadata": {},
   "outputs": [
    {
     "data": {
      "text/plain": [
       "{1: 1, 2: 4, 3: 9, 4: 16, 5: 25, 6: 36, 7: 49, 8: 64}"
      ]
     },
     "execution_count": 72,
     "metadata": {},
     "output_type": "execute_result"
    }
   ],
   "source": [
    "square_dict(8)"
   ]
  },
  {
   "cell_type": "code",
   "execution_count": 77,
   "id": "400b8208-43c1-4bc2-ba60-cf030e667b63",
   "metadata": {},
   "outputs": [
    {
     "name": "stdin",
     "output_type": "stream",
     "text": [
      "Enter 4 comma separated binary numbers 1001,1000,1100,1111\n"
     ]
    }
   ],
   "source": [
    "bn = input(\"Enter 4 comma separated binary numbers\").split(\",\")"
   ]
  },
  {
   "cell_type": "code",
   "execution_count": 78,
   "id": "8447ece7-915d-492b-bb65-d6beea6701c8",
   "metadata": {},
   "outputs": [
    {
     "data": {
      "text/plain": [
       "['1001', '1000', '1100', '1111']"
      ]
     },
     "execution_count": 78,
     "metadata": {},
     "output_type": "execute_result"
    }
   ],
   "source": [
    "bn"
   ]
  },
  {
   "cell_type": "code",
   "execution_count": 79,
   "id": "d05f74de-0d55-4a09-91ef-57ceb097fdd6",
   "metadata": {},
   "outputs": [
    {
     "data": {
      "text/plain": [
       "11"
      ]
     },
     "execution_count": 79,
     "metadata": {},
     "output_type": "execute_result"
    }
   ],
   "source": [
    "int(0b1011)"
   ]
  },
  {
   "cell_type": "code",
   "execution_count": 80,
   "id": "15c2abc4-0ccc-402a-83fe-c7c15c9e8111",
   "metadata": {},
   "outputs": [
    {
     "data": {
      "text/plain": [
       "'0b1011'"
      ]
     },
     "execution_count": 80,
     "metadata": {},
     "output_type": "execute_result"
    }
   ],
   "source": [
    "bin(11)"
   ]
  },
  {
   "cell_type": "code",
   "execution_count": null,
   "id": "8a83b45a-12e3-4dbf-ae5d-162aa0a2c469",
   "metadata": {},
   "outputs": [],
   "source": []
  },
  {
   "cell_type": "code",
   "execution_count": null,
   "id": "214661e6-9638-4cb2-ba1d-748266a444e6",
   "metadata": {},
   "outputs": [],
   "source": []
  }
 ],
 "metadata": {
  "kernelspec": {
   "display_name": "Python 3 (ipykernel)",
   "language": "python",
   "name": "python3"
  },
  "language_info": {
   "codemirror_mode": {
    "name": "ipython",
    "version": 3
   },
   "file_extension": ".py",
   "mimetype": "text/x-python",
   "name": "python",
   "nbconvert_exporter": "python",
   "pygments_lexer": "ipython3",
   "version": "3.12.7"
  }
 },
 "nbformat": 4,
 "nbformat_minor": 5
}
