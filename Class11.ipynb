{
 "cells": [
  {
   "cell_type": "code",
   "execution_count": 7,
   "id": "a1a834d5-d6ef-483d-950b-4f3fd25b5aba",
   "metadata": {},
   "outputs": [
    {
     "name": "stdout",
     "output_type": "stream",
     "text": [
      "-3.2928932188134525 -4.707106781186548\n"
     ]
    }
   ],
   "source": [
    "#quadratic formula\n",
    "\n",
    "a = 2\n",
    "b = 4\n",
    "c = 1\n",
    "x1,x2 = -b+(b**2-4*a*c)**0.5/(2*a),-b-(b**2-4*a*c)**0.5/(2*a)\n",
    "print (x1,x2)"
   ]
  },
  {
   "cell_type": "markdown",
   "id": "8ba38561-0572-4062-98c8-b0980d30cea8",
   "metadata": {},
   "source": [
    "## Modules\n",
    "- A module is a file containing Python definitions and statements.\n",
    "- The file name is the module name with the suffix .py appended."
   ]
  },
  {
   "cell_type": "code",
   "execution_count": 8,
   "id": "e8d02d6e-6e48-499d-84c5-b51b2282f926",
   "metadata": {},
   "outputs": [],
   "source": [
    "import math"
   ]
  },
  {
   "cell_type": "code",
   "execution_count": 12,
   "id": "7eaa7d3f-9d1c-461c-a798-6cc3b3606b35",
   "metadata": {},
   "outputs": [],
   "source": [
    "import mod"
   ]
  },
  {
   "cell_type": "code",
   "execution_count": 13,
   "id": "71f95cea-b1df-4ffa-bbd2-0a59bab55a2c",
   "metadata": {},
   "outputs": [],
   "source": [
    "from mod import salaryCalc"
   ]
  },
  {
   "cell_type": "code",
   "execution_count": 14,
   "id": "23c054b1-2fd4-4aac-bcd6-897277403bdf",
   "metadata": {},
   "outputs": [
    {
     "data": {
      "text/plain": [
       "20000"
      ]
     },
     "execution_count": 14,
     "metadata": {},
     "output_type": "execute_result"
    }
   ],
   "source": [
    "salaryCalc(10000,500)"
   ]
  },
  {
   "cell_type": "markdown",
   "id": "897334f6-3932-4099-aac3-0e5e8e1c3bff",
   "metadata": {},
   "source": [
    "## Exception Handling\n",
    "- Exception: Even if a statement or expression is syntactically correct, it may cause an error when an attempt is made to execute it.\n",
    "  Errors detected during execution are called exceptions\n",
    "- We can create exception handling that will show the error type.\n",
    "- Syntax: try:except"
   ]
  },
  {
   "cell_type": "code",
   "execution_count": 17,
   "id": "e49742bc-c971-4026-a5a1-3ba46493c635",
   "metadata": {},
   "outputs": [
    {
     "name": "stdin",
     "output_type": "stream",
     "text": [
      "Enter the number 1: 12\n",
      "Enter the number 2: 0\n"
     ]
    },
    {
     "ename": "ZeroDivisionError",
     "evalue": "division by zero",
     "output_type": "error",
     "traceback": [
      "\u001b[1;31m---------------------------------------------------------------------------\u001b[0m",
      "\u001b[1;31mZeroDivisionError\u001b[0m                         Traceback (most recent call last)",
      "Cell \u001b[1;32mIn[17], line 4\u001b[0m\n\u001b[0;32m      1\u001b[0m num1 \u001b[38;5;241m=\u001b[39m \u001b[38;5;28mint\u001b[39m(\u001b[38;5;28minput\u001b[39m(\u001b[38;5;124m\"\u001b[39m\u001b[38;5;124mEnter the number 1:\u001b[39m\u001b[38;5;124m\"\u001b[39m))\n\u001b[0;32m      2\u001b[0m num2 \u001b[38;5;241m=\u001b[39m \u001b[38;5;28mint\u001b[39m(\u001b[38;5;28minput\u001b[39m(\u001b[38;5;124m\"\u001b[39m\u001b[38;5;124mEnter the number 2:\u001b[39m\u001b[38;5;124m\"\u001b[39m))\n\u001b[1;32m----> 4\u001b[0m \u001b[38;5;28mprint\u001b[39m (num1\u001b[38;5;241m/\u001b[39mnum2)\n",
      "\u001b[1;31mZeroDivisionError\u001b[0m: division by zero"
     ]
    }
   ],
   "source": [
    "num1 = int(input(\"Enter the number 1:\"))\n",
    "num2 = int(input(\"Enter the number 2:\"))\n",
    "\n",
    "print (num1/num2)"
   ]
  },
  {
   "cell_type": "code",
   "execution_count": 19,
   "id": "9dfa54bd-8150-469a-a79e-04923ea004b4",
   "metadata": {},
   "outputs": [
    {
     "name": "stdin",
     "output_type": "stream",
     "text": [
      "Enter the 1st number: 26\n",
      "Enter the 2nd number: 0\n"
     ]
    },
    {
     "name": "stdout",
     "output_type": "stream",
     "text": [
      "You can't divide by zero\n"
     ]
    }
   ],
   "source": [
    "num1 = int(input(\"Enter the 1st number:\"))\n",
    "num2 = int(input(\"Enter the 2nd number:\"))\n",
    "\n",
    "try:\n",
    "    print (num1/num2)\n",
    "except ZeroDivisionError:\n",
    "    print (\"You can't divide by zero\")"
   ]
  },
  {
   "cell_type": "code",
   "execution_count": 20,
   "id": "9ca3e18e-2d50-4938-a9ae-6577c3bb7b69",
   "metadata": {},
   "outputs": [
    {
     "name": "stdin",
     "output_type": "stream",
     "text": [
      "Enter the 1st number: ten\n"
     ]
    },
    {
     "ename": "ValueError",
     "evalue": "invalid literal for int() with base 10: 'ten'",
     "output_type": "error",
     "traceback": [
      "\u001b[1;31m---------------------------------------------------------------------------\u001b[0m",
      "\u001b[1;31mValueError\u001b[0m                                Traceback (most recent call last)",
      "Cell \u001b[1;32mIn[20], line 1\u001b[0m\n\u001b[1;32m----> 1\u001b[0m num1 \u001b[38;5;241m=\u001b[39m \u001b[38;5;28mint\u001b[39m(\u001b[38;5;28minput\u001b[39m(\u001b[38;5;124m\"\u001b[39m\u001b[38;5;124mEnter the 1st number:\u001b[39m\u001b[38;5;124m\"\u001b[39m))\n\u001b[0;32m      2\u001b[0m num2 \u001b[38;5;241m=\u001b[39m \u001b[38;5;28mint\u001b[39m(\u001b[38;5;28minput\u001b[39m(\u001b[38;5;124m\"\u001b[39m\u001b[38;5;124mEnter the 2nd number:\u001b[39m\u001b[38;5;124m\"\u001b[39m))\n\u001b[0;32m      4\u001b[0m \u001b[38;5;28;01mtry\u001b[39;00m:\n",
      "\u001b[1;31mValueError\u001b[0m: invalid literal for int() with base 10: 'ten'"
     ]
    }
   ],
   "source": [
    "num1 = int(input(\"Enter the 1st number:\"))\n",
    "num2 = int(input(\"Enter the 2nd number:\"))\n",
    "\n",
    "try:\n",
    "    print (num1/num2)\n",
    "except ZeroDivisionError:\n",
    "    print (\"You can't divide by zero\")"
   ]
  },
  {
   "cell_type": "code",
   "execution_count": 22,
   "id": "254352ba-c894-42c8-9603-c833995e62da",
   "metadata": {},
   "outputs": [
    {
     "name": "stdin",
     "output_type": "stream",
     "text": [
      "Enter the 1st number: ten\n"
     ]
    },
    {
     "name": "stdout",
     "output_type": "stream",
     "text": [
      "You can't enter a string\n"
     ]
    }
   ],
   "source": [
    "try:\n",
    "    num1 = int(input(\"Enter the 1st number:\"))\n",
    "    num2 = int(input(\"Enter the 2nd number:\"))\n",
    "    print (num1/num2)\n",
    "except ZeroDivisionError:\n",
    "    print (\"You can't divide by zero\")\n",
    "except ValueError:\n",
    "    print (\"You can't enter a string\")"
   ]
  },
  {
   "cell_type": "code",
   "execution_count": 24,
   "id": "bca8f352-9379-45ae-b85b-9e8ffa32f607",
   "metadata": {},
   "outputs": [
    {
     "name": "stdin",
     "output_type": "stream",
     "text": [
      "Enter the 1st number: 12\n",
      "Enter the 2nd number: 0\n"
     ]
    },
    {
     "name": "stdout",
     "output_type": "stream",
     "text": [
      "division by zero\n"
     ]
    }
   ],
   "source": [
    "#Exception for all Errors:\n",
    "try:\n",
    "    num1 = int(input(\"Enter the 1st number:\"))\n",
    "    num2 = int(input(\"Enter the 2nd number:\"))\n",
    "    print (num1/num2)\n",
    "except Exception as e:\n",
    "    print (e)"
   ]
  },
  {
   "cell_type": "code",
   "execution_count": 25,
   "id": "bf82ad12-9cba-4f4c-bfca-a1eb7c966ff2",
   "metadata": {},
   "outputs": [
    {
     "name": "stdin",
     "output_type": "stream",
     "text": [
      "Enter the 1st number: d\n"
     ]
    },
    {
     "name": "stdout",
     "output_type": "stream",
     "text": [
      "Invalid input\n"
     ]
    }
   ],
   "source": [
    "#Exception for all Errors:\n",
    "try:\n",
    "    num1 = int(input(\"Enter the 1st number:\"))\n",
    "    num2 = int(input(\"Enter the 2nd number:\"))\n",
    "    print (num1/num2)\n",
    "except Exception as e:\n",
    "    print (\"Invalid input\")"
   ]
  },
  {
   "cell_type": "code",
   "execution_count": 43,
   "id": "eea216c8-5fc9-442e-aba1-a59c03c1749c",
   "metadata": {},
   "outputs": [
    {
     "ename": "SyntaxError",
     "evalue": "expected 'except' or 'finally' block (512124750.py, line 13)",
     "output_type": "error",
     "traceback": [
      "\u001b[1;36m  Cell \u001b[1;32mIn[43], line 13\u001b[1;36m\u001b[0m\n\u001b[1;33m    except Exception as e:\u001b[0m\n\u001b[1;37m                          ^\u001b[0m\n\u001b[1;31mSyntaxError\u001b[0m\u001b[1;31m:\u001b[0m expected 'except' or 'finally' block\n"
     ]
    }
   ],
   "source": [
    "try:\n",
    "    users = []\n",
    "\n",
    "    while True:\n",
    "        user_name = input(\"Enter a Username or press q to quit\")\n",
    "        if user_name == 'q':\n",
    "            break\n",
    "        try:\n",
    "            if user_name in users:\n",
    "                raise Exceptiom (\"Username already exists\")\n",
    "            users.append(user_name)\n",
    "   \n",
    "except Exception as e:\n",
    "    print (e)\n",
    "print(user)"
   ]
  },
  {
   "cell_type": "code",
   "execution_count": 36,
   "id": "9197d37e-e7f1-4ca2-9984-e7cb869b7d1b",
   "metadata": {},
   "outputs": [
    {
     "name": "stdin",
     "output_type": "stream",
     "text": [
      "Enter the name Talha\n",
      "Enter your age 16\n"
     ]
    },
    {
     "name": "stdout",
     "output_type": "stream",
     "text": [
      "Age ka masla hai\n"
     ]
    }
   ],
   "source": [
    "try:\n",
    "    name = input(\"Enter the name\")\n",
    "    age = int(input(\"Enter your age\"))\n",
    "    if age < 18:\n",
    "        raise Exception(\"you are not old enough\")\n",
    "    elif age > 60:\n",
    "        raise Exception(\"You are too old\")\n",
    "except Exception as e:\n",
    "    print(\"Age ka masla hai\")"
   ]
  },
  {
   "cell_type": "code",
   "execution_count": 45,
   "id": "2ad2e7a8-45e6-4417-a7a6-4bd08e1e0bcc",
   "metadata": {},
   "outputs": [
    {
     "name": "stdin",
     "output_type": "stream",
     "text": [
      "Enter a number 5\n",
      "Enter another number 0\n"
     ]
    },
    {
     "name": "stdout",
     "output_type": "stream",
     "text": [
      "division by zero\n",
      "Koi Chale na Chale finally toh chalega\n"
     ]
    }
   ],
   "source": [
    "try:\n",
    "    num1 = int(input(\"Enter a number\"))\n",
    "    num2 = int(input(\"Enter another number\"))\n",
    "    result = num1/num2\n",
    "\n",
    "except Exception as e:\n",
    "    print(e)\n",
    "\n",
    "else:\n",
    "    print(result)\n",
    "finally:\n",
    "    print(\"Koi Chale na Chale finally toh chalega\")"
   ]
  },
  {
   "cell_type": "code",
   "execution_count": null,
   "id": "0ddd7ab2-1d92-46fc-84b5-1ff95c47df67",
   "metadata": {},
   "outputs": [],
   "source": []
  },
  {
   "cell_type": "code",
   "execution_count": null,
   "id": "f1a6bb96-4dbc-43af-a0fb-a975261ca3f0",
   "metadata": {},
   "outputs": [],
   "source": []
  },
  {
   "cell_type": "code",
   "execution_count": null,
   "id": "6cb4296b-301a-46e9-a778-7eee0be45049",
   "metadata": {},
   "outputs": [],
   "source": []
  },
  {
   "cell_type": "code",
   "execution_count": null,
   "id": "74e89ec0-e80f-4a41-a161-4621fcbef341",
   "metadata": {},
   "outputs": [],
   "source": []
  },
  {
   "cell_type": "code",
   "execution_count": null,
   "id": "446b1b70-edfa-45c2-9544-ad0b88f491bb",
   "metadata": {},
   "outputs": [],
   "source": []
  },
  {
   "cell_type": "code",
   "execution_count": null,
   "id": "9aa4b02d-7bad-4268-ba7c-c5e1510b0203",
   "metadata": {},
   "outputs": [],
   "source": []
  },
  {
   "cell_type": "code",
   "execution_count": null,
   "id": "8aa78124-1287-4221-a5ff-0e6ee43d9f18",
   "metadata": {},
   "outputs": [],
   "source": []
  },
  {
   "cell_type": "code",
   "execution_count": null,
   "id": "4894af1c-fc42-4786-80c3-357b719c42b0",
   "metadata": {},
   "outputs": [],
   "source": [
    "\n"
   ]
  },
  {
   "cell_type": "code",
   "execution_count": null,
   "id": "6404e965-374b-4462-92e5-e139674504fe",
   "metadata": {},
   "outputs": [],
   "source": []
  },
  {
   "cell_type": "code",
   "execution_count": null,
   "id": "b3e57daf-5912-4097-b2a7-83479fbad367",
   "metadata": {},
   "outputs": [],
   "source": []
  },
  {
   "cell_type": "code",
   "execution_count": null,
   "id": "fe274bb8-b286-4676-a91b-0e16161c86d9",
   "metadata": {},
   "outputs": [],
   "source": []
  },
  {
   "cell_type": "code",
   "execution_count": null,
   "id": "b2aec0a7-9b63-45f1-9c87-e3d0e6437e59",
   "metadata": {},
   "outputs": [],
   "source": []
  },
  {
   "cell_type": "code",
   "execution_count": null,
   "id": "2bf6c85c-d027-442a-9b81-bfe43a0847f8",
   "metadata": {},
   "outputs": [],
   "source": []
  }
 ],
 "metadata": {
  "kernelspec": {
   "display_name": "Python 3 (ipykernel)",
   "language": "python",
   "name": "python3"
  },
  "language_info": {
   "codemirror_mode": {
    "name": "ipython",
    "version": 3
   },
   "file_extension": ".py",
   "mimetype": "text/x-python",
   "name": "python",
   "nbconvert_exporter": "python",
   "pygments_lexer": "ipython3",
   "version": "3.12.7"
  }
 },
 "nbformat": 4,
 "nbformat_minor": 5
}
