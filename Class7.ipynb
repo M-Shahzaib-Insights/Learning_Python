{
 "cells": [
  {
   "cell_type": "markdown",
   "id": "77a3b837-4fa2-4537-b07c-9e0a2651a4c1",
   "metadata": {},
   "source": [
    "## Nested if's:"
   ]
  },
  {
   "cell_type": "code",
   "execution_count": 5,
   "id": "791f3a2c-84f9-4627-a1e9-376ac3838064",
   "metadata": {},
   "outputs": [
    {
     "name": "stdin",
     "output_type": "stream",
     "text": [
      " Do you have a class today? yes\n",
      "Do you have your ID Card? yes\n",
      "Is your attendance complete? yes\n",
      "Have you done the assignement? yes\n"
     ]
    },
    {
     "name": "stdout",
     "output_type": "stream",
     "text": [
      "You can attend the class.\n"
     ]
    }
   ],
   "source": [
    "# Taking input\n",
    "class_day = input(\" Do you have a class today?\")\n",
    "\n",
    "# Using Nested if:\n",
    "if class_day == \"yes\":\n",
    "    id_card = input(\"Do you have your ID Card?\")\n",
    "    if id_card ==\"yes\":\n",
    "        attendance = input(\"Is your attendance complete?\")\n",
    "        if attendance ==\"yes\":\n",
    "            assignment = input(\"Have you done the assignement?\")\n",
    "            if assignment == \"yes\":\n",
    "                print(\"You can attend the class.\")\n",
    "            else:\n",
    "                print (\"You can not the class if your assignment is not done\")\n",
    "        else:\n",
    "            print (\"You can not the class if your attendance is not completed\")\n",
    "    else:\n",
    "        print (\"You can not the class if you don't have id card\")\n",
    "else:\n",
    "    print (\"You can not attend the class. If not a class day\")\n"
   ]
  },
  {
   "cell_type": "code",
   "execution_count": 14,
   "id": "acb6a7e7-d09a-4628-a471-16eb7d3d3ea5",
   "metadata": {},
   "outputs": [
    {
     "name": "stdin",
     "output_type": "stream",
     "text": [
      "Enter your subject 1 marks: 55\n",
      "Enter your subject 2 marks: 55\n",
      "Enter your subject 3 marks: 55\n",
      "Enter your subject 4 marks: 30\n",
      "Enter your subject 5 marks: 55\n"
     ]
    },
    {
     "name": "stdout",
     "output_type": "stream",
     "text": [
      "\n",
      "    Subject 1: 55.0\n",
      "    Subject 2: 55.0\n",
      "    Subject 3: 55.0\n",
      "    Subject 4: 30.0\n",
      "    Subject 5: 55.0\n",
      "\n",
      "    Total Marks: 250.0\n",
      "    Percentage: 50\n",
      "    Grade Acheived: D\n",
      "    Result: Fail\n",
      "\n"
     ]
    }
   ],
   "source": [
    "s1_marks = float(input(\"Enter your subject 1 marks:\"))\n",
    "s2_marks = float(input(\"Enter your subject 2 marks:\"))\n",
    "s3_marks = float(input(\"Enter your subject 3 marks:\"))\n",
    "s4_marks = float(input(\"Enter your subject 4 marks:\"))\n",
    "s5_marks = float(input(\"Enter your subject 5 marks:\"))\n",
    "\n",
    "#Calculation\n",
    "total_obt = s1_marks+s2_marks+s3_marks+s4_marks+s5_marks\n",
    "total = 500\n",
    "percentage = (total_obt/total)*100\n",
    "grade = None\n",
    "result = None\n",
    "\n",
    "#Conditional Nested if's Statment\n",
    "if s1_marks>=50:\n",
    "    if s2_marks >= 50:\n",
    "        if s3_marks >= 50:\n",
    "            if s4_marks >= 50:\n",
    "                if s5_marks >= 50:\n",
    "                    result = \"Pass\"\n",
    "                else:\n",
    "                    result = \"Fail\"\n",
    "            else:\n",
    "                result = \"Fail\"\n",
    "        else:\n",
    "            result = \"Fail\"\n",
    "    else:\n",
    "        result = \"Fail\"\n",
    "else:\n",
    "    result = \"Fail\"\n",
    "\n",
    "#Conditional Statment\n",
    "if percentage >= 90:\n",
    "    grade = \"A+\"\n",
    "elif percentage >= 80:\n",
    "    grade = \"A\"\n",
    "elif percentage >= 70:\n",
    "    grade = \"B\"\n",
    "elif percentage >= 60:\n",
    "    grade = \"C\"\n",
    "elif percentage >= 50:\n",
    "    grade = \"D\"\n",
    "else:\n",
    "    grade = \"Fail\"\n",
    "\n",
    "#Printing the Result\n",
    "print (f\"\"\"\n",
    "    Subject 1: {s1_marks}\n",
    "    Subject 2: {s2_marks}\n",
    "    Subject 3: {s3_marks}\n",
    "    Subject 4: {s4_marks}\n",
    "    Subject 5: {s5_marks}\n",
    "\n",
    "    Total Marks: {total_obt}\n",
    "    Percentage: {round(percentage)}\n",
    "    Grade Acheived: {grade}\n",
    "    Result: {result}\n",
    "\"\"\")"
   ]
  },
  {
   "cell_type": "code",
   "execution_count": 8,
   "id": "c83861c6-f965-400c-bd7d-cc899af6aad0",
   "metadata": {},
   "outputs": [
    {
     "name": "stdin",
     "output_type": "stream",
     "text": [
      "Enter the member list Ali, Ahmed, Tariq\n"
     ]
    },
    {
     "name": "stdout",
     "output_type": "stream",
     "text": [
      "['Ali', ' Ahmed', ' Tariq']\n"
     ]
    }
   ],
   "source": [
    "lst = input(\"Enter the member list\").split(\",\")\n",
    "print (lst)"
   ]
  },
  {
   "cell_type": "code",
   "execution_count": 9,
   "id": "bb96b6e0-92e9-481e-884a-8418e01f5b9f",
   "metadata": {},
   "outputs": [],
   "source": [
    "lst = [\"Ali\", \"Ahmed\", \"Farooq\"]"
   ]
  },
  {
   "cell_type": "code",
   "execution_count": 10,
   "id": "f71c6e43-f743-4e19-bc76-d6637dad695d",
   "metadata": {},
   "outputs": [
    {
     "data": {
      "text/plain": [
       "'Ali,Ahmed,Farooq'"
      ]
     },
     "execution_count": 10,
     "metadata": {},
     "output_type": "execute_result"
    }
   ],
   "source": [
    "\",\".join(lst)"
   ]
  },
  {
   "cell_type": "code",
   "execution_count": 15,
   "id": "75dead12-8b08-4276-a3a6-50d9572adc97",
   "metadata": {},
   "outputs": [
    {
     "data": {
      "text/plain": [
       "['1', '2', '3', '4', '5', '6', '6']"
      ]
     },
     "execution_count": 15,
     "metadata": {},
     "output_type": "execute_result"
    }
   ],
   "source": [
    "'1*2*3*4*5*6*6'.split(\"*\")"
   ]
  },
  {
   "cell_type": "code",
   "execution_count": 17,
   "id": "788b7205-5df2-4f79-bf1e-5b7607d34219",
   "metadata": {},
   "outputs": [],
   "source": [
    "easyload_shop = {\"charger\": 500, \"datacable\": 250, \"backcover\": 300,\n",
    "            \"handsfree\": 800, \"protector\": 200, \"sim\": 500, \"powerbank\": 1000,\n",
    "            \"usb\": 500, \"battery\": 1500, \"mouse\": 300, \"keyboard\":750}"
   ]
  },
  {
   "cell_type": "code",
   "execution_count": 18,
   "id": "cb8be051-281e-40e3-a9cb-ca1094aad371",
   "metadata": {},
   "outputs": [
    {
     "name": "stdin",
     "output_type": "stream",
     "text": [
      "What do you need? charger\n",
      "How many charger 3\n"
     ]
    },
    {
     "ename": "KeyError",
     "evalue": "'item_name'",
     "output_type": "error",
     "traceback": [
      "\u001b[1;31m---------------------------------------------------------------------------\u001b[0m",
      "\u001b[1;31mKeyError\u001b[0m                                  Traceback (most recent call last)",
      "Cell \u001b[1;32mIn[18], line 7\u001b[0m\n\u001b[0;32m      5\u001b[0m \u001b[38;5;28;01mif\u001b[39;00m item_name \u001b[38;5;129;01min\u001b[39;00m easyload_shop:\n\u001b[0;32m      6\u001b[0m     quantity \u001b[38;5;241m=\u001b[39m \u001b[38;5;28mint\u001b[39m(\u001b[38;5;28minput\u001b[39m(\u001b[38;5;124mf\u001b[39m\u001b[38;5;124m\"\u001b[39m\u001b[38;5;124mHow many \u001b[39m\u001b[38;5;132;01m{\u001b[39;00mitem_name\u001b[38;5;132;01m}\u001b[39;00m\u001b[38;5;124m\"\u001b[39m))\n\u001b[1;32m----> 7\u001b[0m     total \u001b[38;5;241m=\u001b[39m quantity \u001b[38;5;241m*\u001b[39m easyload_shop[\u001b[38;5;124m'\u001b[39m\u001b[38;5;124mitem_name\u001b[39m\u001b[38;5;124m'\u001b[39m]\n\u001b[0;32m      8\u001b[0m     \u001b[38;5;28mprint\u001b[39m (\u001b[38;5;124mf\u001b[39m\u001b[38;5;124m\"\"\"\u001b[39m\u001b[38;5;124mItem Name: \u001b[39m\u001b[38;5;132;01m{\u001b[39;00mitem_name\u001b[38;5;132;01m}\u001b[39;00m\n\u001b[0;32m      9\u001b[0m \u001b[38;5;124m                Total Price: \u001b[39m\u001b[38;5;132;01m{\u001b[39;00mtotal\u001b[38;5;132;01m}\u001b[39;00m\n\u001b[0;32m     10\u001b[0m \u001b[38;5;124m                \u001b[39m\u001b[38;5;124m\"\"\"\u001b[39m)\n\u001b[0;32m     11\u001b[0m \u001b[38;5;28;01melse\u001b[39;00m:\n",
      "\u001b[1;31mKeyError\u001b[0m: 'item_name'"
     ]
    }
   ],
   "source": [
    "#Taking input\n",
    "item_name = input(\"What do you need?\")\n",
    "\n",
    "#Condition Statement\n",
    "if item_name in easyload_shop:\n",
    "    quantity = int(input(f\"How many {item_name}\"))\n",
    "    total = quantity * easyload_shop['item_name']\n",
    "    print (f\"\"\"Item Name: {item_name}\n",
    "                Total quantity: {total}\n",
    "                \"\"\")\n",
    "else:\n",
    "    print (\"Sorry Baji\")\n",
    "    "
   ]
  },
  {
   "cell_type": "code",
   "execution_count": null,
   "id": "7a8d505a-746b-45d5-a5cc-d496c40de7c4",
   "metadata": {},
   "outputs": [],
   "source": []
  }
 ],
 "metadata": {
  "kernelspec": {
   "display_name": "Python 3 (ipykernel)",
   "language": "python",
   "name": "python3"
  },
  "language_info": {
   "codemirror_mode": {
    "name": "ipython",
    "version": 3
   },
   "file_extension": ".py",
   "mimetype": "text/x-python",
   "name": "python",
   "nbconvert_exporter": "python",
   "pygments_lexer": "ipython3",
   "version": "3.12.7"
  }
 },
 "nbformat": 4,
 "nbformat_minor": 5
}
