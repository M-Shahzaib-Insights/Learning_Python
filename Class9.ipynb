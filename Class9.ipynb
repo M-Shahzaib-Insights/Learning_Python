{
 "cells": [
  {
   "cell_type": "code",
   "execution_count": 1,
   "id": "d690a71a-967b-4401-a494-05c628d55806",
   "metadata": {},
   "outputs": [
    {
     "data": {
      "text/plain": [
       "[1, 4, 9, 16, 25, 36, 49, 64, 81, 100]"
      ]
     },
     "execution_count": 1,
     "metadata": {},
     "output_type": "execute_result"
    }
   ],
   "source": [
    "squared_alist = []\n",
    "alist = [1,2,3,4,5,6,7,8,9,10]\n",
    "\n",
    "#using for loop\n",
    "for i in alist:\n",
    "    squared_alist.append(i**2)\n",
    "\n",
    "squared_alist"
   ]
  },
  {
   "cell_type": "code",
   "execution_count": 2,
   "id": "b3afdde4-2aa3-4856-a7a6-8561da28cc81",
   "metadata": {},
   "outputs": [
    {
     "data": {
      "text/plain": [
       "[121, 144, 169, 196, 225, 256, 289, 324, 361, 400]"
      ]
     },
     "execution_count": 2,
     "metadata": {},
     "output_type": "execute_result"
    }
   ],
   "source": [
    "squared_alist = []\n",
    "alist = [11,12,13,14,15,16,17,18,19,20]\n",
    "\n",
    "#using while loop\n",
    "a = 0\n",
    "while a<len(alist):\n",
    "    squared_alist.append(alist[a]**2)\n",
    "    a+=1\n",
    "squared_alist"
   ]
  },
  {
   "cell_type": "code",
   "execution_count": 4,
   "id": "91c2213f-d743-4395-aa5c-f6f40c7d5683",
   "metadata": {},
   "outputs": [
    {
     "name": "stdin",
     "output_type": "stream",
     "text": [
      "Favourite Food:  Biryani\n",
      "Favourite Food:  q\n",
      "Favourite Food:  q\n",
      "Favourite Food:  q\n",
      "Favourite Food:  q\n"
     ]
    },
    {
     "data": {
      "text/plain": [
       "['Biryani', 'q', 'q', 'q', 'q']"
      ]
     },
     "execution_count": 4,
     "metadata": {},
     "output_type": "execute_result"
    }
   ],
   "source": [
    "favourite_food = []\n",
    "for a in range(5):\n",
    "    ff = input(\"Favourite Food: \")\n",
    "    favourite_food.append(ff)\n",
    "favourite_food"
   ]
  },
  {
   "cell_type": "code",
   "execution_count": 5,
   "id": "fdd5b488-badc-4b16-90ec-8f9af6cac2bf",
   "metadata": {},
   "outputs": [
    {
     "name": "stdin",
     "output_type": "stream",
     "text": [
      "Favourite Food:  Biryani\n",
      "Favourite Food:  q\n"
     ]
    },
    {
     "data": {
      "text/plain": [
       "['Biryani']"
      ]
     },
     "execution_count": 5,
     "metadata": {},
     "output_type": "execute_result"
    }
   ],
   "source": [
    "favourite_food = []\n",
    "for a in range(5):\n",
    "    ff = input(\"Favourite Food: \")\n",
    "    if ff == 'q':\n",
    "        break\n",
    "    else:\n",
    "        favourite_food.append(ff)\n",
    "favourite_food"
   ]
  },
  {
   "cell_type": "code",
   "execution_count": 8,
   "id": "2fb52850-a6a0-4550-930f-3c4e348f701e",
   "metadata": {},
   "outputs": [
    {
     "name": "stdin",
     "output_type": "stream",
     "text": [
      "Favourite Food:  Biryani\n",
      "Favourite Food:  Custard\n",
      "Favourite Food:  q\n"
     ]
    },
    {
     "data": {
      "text/plain": [
       "['Biryani', 'Custard']"
      ]
     },
     "execution_count": 8,
     "metadata": {},
     "output_type": "execute_result"
    }
   ],
   "source": [
    "favourite_food = []\n",
    "a = 0\n",
    "while a < 5:\n",
    "    ff = input(\"Favourite Food: \")\n",
    "    if ff == 'q':\n",
    "        break\n",
    "    else:\n",
    "        favourite_food.append(ff)\n",
    "        a+1\n",
    "favourite_food"
   ]
  },
  {
   "cell_type": "code",
   "execution_count": 9,
   "id": "3e66184d-a3ae-42b5-b94d-c08fd1df0efa",
   "metadata": {},
   "outputs": [
    {
     "name": "stdin",
     "output_type": "stream",
     "text": [
      "Favourite Food:  Custard\n",
      "Favourite Food:  Labe Sheerein\n",
      "Favourite Food:  q\n"
     ]
    },
    {
     "data": {
      "text/plain": [
       "['Custard', 'Labe Sheerein']"
      ]
     },
     "execution_count": 9,
     "metadata": {},
     "output_type": "execute_result"
    }
   ],
   "source": [
    "favourite_food = []\n",
    "a = 0\n",
    "flag = True\n",
    "while flag:\n",
    "    ff = input(\"Favourite Food: \")\n",
    "    if ff == 'q':\n",
    "        flag = False\n",
    "    else:\n",
    "        favourite_food.append(ff)\n",
    "        a+1\n",
    "favourite_food"
   ]
  },
  {
   "cell_type": "markdown",
   "id": "b8e2dad7-d1e0-495a-9c03-0e57bb3a2336",
   "metadata": {},
   "source": [
    "# Functions\n",
    " - Open Functions >> print, type, input, len, range, id\n",
    " - Class Functions >> list function, dic, set, tuple, string\n",
    " - User defined Function: def function_name():"
   ]
  },
  {
   "cell_type": "code",
   "execution_count": 10,
   "id": "1c9c6423-f26d-4d57-8eab-629161031914",
   "metadata": {},
   "outputs": [],
   "source": [
    "def greeting():\n",
    "    print(\"Welcome!\")"
   ]
  },
  {
   "cell_type": "code",
   "execution_count": 11,
   "id": "a2c2d564-6556-423c-8833-3060348ea83a",
   "metadata": {},
   "outputs": [
    {
     "name": "stdout",
     "output_type": "stream",
     "text": [
      "Welcome!\n"
     ]
    }
   ],
   "source": [
    "greeting()"
   ]
  },
  {
   "cell_type": "code",
   "execution_count": 12,
   "id": "2309baa4-37ed-4043-987f-9c1fd1fae27d",
   "metadata": {},
   "outputs": [],
   "source": [
    "#parameter less function\n",
    "def add():\n",
    "    a = 10\n",
    "    b = 20\n",
    "    print (a+b)"
   ]
  },
  {
   "cell_type": "code",
   "execution_count": 13,
   "id": "fad42887-fdf2-4f50-8110-502041d247d6",
   "metadata": {},
   "outputs": [
    {
     "name": "stdout",
     "output_type": "stream",
     "text": [
      "30\n"
     ]
    }
   ],
   "source": [
    "add()"
   ]
  },
  {
   "cell_type": "code",
   "execution_count": 14,
   "id": "8f019044-89f4-4dd6-9427-e97e85e9be89",
   "metadata": {},
   "outputs": [],
   "source": [
    "#parameterized function\n",
    "def add(num1,num2):\n",
    "    a = num1\n",
    "    b = num2\n",
    "    print (a+b)"
   ]
  },
  {
   "cell_type": "code",
   "execution_count": 15,
   "id": "25c8f65f-b16d-4246-b843-d5b84bd4a8ba",
   "metadata": {},
   "outputs": [
    {
     "name": "stdout",
     "output_type": "stream",
     "text": [
      "7\n"
     ]
    }
   ],
   "source": [
    "add(2,5)"
   ]
  },
  {
   "cell_type": "code",
   "execution_count": 20,
   "id": "b12ed1b4-910e-4d19-8759-ff38082c1635",
   "metadata": {},
   "outputs": [],
   "source": [
    "def greeting(name): #parameter\n",
    "    print(f\"Welcome! {name}\")"
   ]
  },
  {
   "cell_type": "code",
   "execution_count": 21,
   "id": "b451db7f-2fa1-4336-8745-a837c0bd0321",
   "metadata": {},
   "outputs": [
    {
     "name": "stdout",
     "output_type": "stream",
     "text": [
      "Welcome! Arsalan\n"
     ]
    }
   ],
   "source": [
    "greeting(\"Arsalan\") #argument"
   ]
  },
  {
   "cell_type": "code",
   "execution_count": 22,
   "id": "7bb15a43-47dc-4dcc-87c3-012478a4421c",
   "metadata": {},
   "outputs": [],
   "source": [
    "def add(a,b):\n",
    "    print (a+b)"
   ]
  },
  {
   "cell_type": "code",
   "execution_count": 23,
   "id": "b373112f-d530-47d8-83e8-08f9c104ec90",
   "metadata": {},
   "outputs": [
    {
     "name": "stdout",
     "output_type": "stream",
     "text": [
      "11\n"
     ]
    }
   ],
   "source": [
    "add(5,6)"
   ]
  },
  {
   "cell_type": "code",
   "execution_count": 24,
   "id": "23a583da-8274-4ce1-90bb-598083ec353b",
   "metadata": {},
   "outputs": [],
   "source": [
    "def add(a,b,d,c=100): #c is the default value that must be in the end\n",
    "    print(a+b+c+d)"
   ]
  },
  {
   "cell_type": "code",
   "execution_count": 25,
   "id": "92cc70bf-a434-4fe3-ae65-44d6ba1243a9",
   "metadata": {},
   "outputs": [
    {
     "name": "stdout",
     "output_type": "stream",
     "text": [
      "10\n"
     ]
    }
   ],
   "source": [
    "add(1,2,3,4)"
   ]
  },
  {
   "cell_type": "code",
   "execution_count": 26,
   "id": "9fce36b9-b4d1-493a-93ff-76057f39a0eb",
   "metadata": {},
   "outputs": [
    {
     "name": "stdout",
     "output_type": "stream",
     "text": [
      "106\n"
     ]
    }
   ],
   "source": [
    "add(1,2,3) #c will come up as 100 if not call"
   ]
  },
  {
   "cell_type": "code",
   "execution_count": 28,
   "id": "6c56818d-48b1-4ec3-a6d9-bd7585581dac",
   "metadata": {},
   "outputs": [],
   "source": [
    "def add(a=0,b=0,c=0,d=0): #default values\n",
    "    print(a+b+c+d)"
   ]
  },
  {
   "cell_type": "code",
   "execution_count": 29,
   "id": "c4e217a6-b39e-4bf2-871e-d2bc5594161f",
   "metadata": {},
   "outputs": [
    {
     "name": "stdout",
     "output_type": "stream",
     "text": [
      "0\n"
     ]
    }
   ],
   "source": [
    "add()"
   ]
  },
  {
   "cell_type": "code",
   "execution_count": 30,
   "id": "2fc3d40f-6e57-4b7c-ba53-4654d1b2d72c",
   "metadata": {},
   "outputs": [
    {
     "name": "stdout",
     "output_type": "stream",
     "text": [
      "14\n"
     ]
    }
   ],
   "source": [
    "add(2,6,6)"
   ]
  },
  {
   "cell_type": "markdown",
   "id": "449d32e0-708a-40fe-98d5-48c2781a91a3",
   "metadata": {},
   "source": [
    "## Keyword Argument"
   ]
  },
  {
   "cell_type": "code",
   "execution_count": 32,
   "id": "58096125-09f0-43aa-82ed-6f720df4fda0",
   "metadata": {},
   "outputs": [],
   "source": [
    "def generate_profile(name, age, qual, prof, gender):\n",
    "    profile = {}\n",
    "    profile['Name'] = name\n",
    "    profile['Age'] = age\n",
    "    profile['Qualification'] = qual\n",
    "    profile['Profession'] = prof\n",
    "    profile['gender'] = gender"
   ]
  },
  {
   "cell_type": "code",
   "execution_count": 33,
   "id": "21598e98-3321-4072-9a4f-f1085b8c17e8",
   "metadata": {},
   "outputs": [],
   "source": [
    "def generate_profile(name, age, qual, prof, gender):\n",
    "    profile = {'Name':name, 'age':age, 'qualification':qual, 'profession':prof, 'gender':gender}\n",
    "    print(profile)"
   ]
  },
  {
   "cell_type": "code",
   "execution_count": 34,
   "id": "4ac03a5b-b1d9-4f07-a22d-e72166e3d1da",
   "metadata": {},
   "outputs": [
    {
     "name": "stdout",
     "output_type": "stream",
     "text": [
      "{'Name': 'Shabana', 'age': '23', 'qualification': 'MBBS', 'profession': 'Doctor', 'gender': 'Female'}\n"
     ]
    }
   ],
   "source": [
    "generate_profile(age = '23', name = 'Shabana', prof = 'Doctor', gender ='Female', qual = 'MBBS')"
   ]
  },
  {
   "cell_type": "code",
   "execution_count": 35,
   "id": "a3489c4a-115b-44f0-b25c-9298ad0a0f08",
   "metadata": {},
   "outputs": [
    {
     "ename": "SyntaxError",
     "evalue": "positional argument follows keyword argument (3879926794.py, line 1)",
     "output_type": "error",
     "traceback": [
      "\u001b[1;36m  Cell \u001b[1;32mIn[35], line 1\u001b[1;36m\u001b[0m\n\u001b[1;33m    generate_profile('Bilal', age = '23', 'Matric','PythonDev', gender ='Male')\u001b[0m\n\u001b[1;37m                                                                              ^\u001b[0m\n\u001b[1;31mSyntaxError\u001b[0m\u001b[1;31m:\u001b[0m positional argument follows keyword argument\n"
     ]
    }
   ],
   "source": [
    "generate_profile('Bilal', age = '23', 'Matric','PythonDev', gender ='Male')"
   ]
  },
  {
   "cell_type": "code",
   "execution_count": 36,
   "id": "8e65cc6b-637f-47c4-929e-37c004b67574",
   "metadata": {},
   "outputs": [
    {
     "ename": "TypeError",
     "evalue": "generate_profile() got multiple values for argument 'age'",
     "output_type": "error",
     "traceback": [
      "\u001b[1;31m---------------------------------------------------------------------------\u001b[0m",
      "\u001b[1;31mTypeError\u001b[0m                                 Traceback (most recent call last)",
      "Cell \u001b[1;32mIn[36], line 1\u001b[0m\n\u001b[1;32m----> 1\u001b[0m generate_profile(\u001b[38;5;124m'\u001b[39m\u001b[38;5;124mBilal\u001b[39m\u001b[38;5;124m'\u001b[39m, \u001b[38;5;124m'\u001b[39m\u001b[38;5;124mMatric\u001b[39m\u001b[38;5;124m'\u001b[39m,\u001b[38;5;124m'\u001b[39m\u001b[38;5;124mPythonDev\u001b[39m\u001b[38;5;124m'\u001b[39m, age \u001b[38;5;241m=\u001b[39m \u001b[38;5;124m'\u001b[39m\u001b[38;5;124m23\u001b[39m\u001b[38;5;124m'\u001b[39m, gender \u001b[38;5;241m=\u001b[39m\u001b[38;5;124m'\u001b[39m\u001b[38;5;124mMale\u001b[39m\u001b[38;5;124m'\u001b[39m)\n",
      "\u001b[1;31mTypeError\u001b[0m: generate_profile() got multiple values for argument 'age'"
     ]
    }
   ],
   "source": [
    "generate_profile('Bilal', 'Matric','PythonDev', age = '23', gender ='Male') #Default Argument should be at the end"
   ]
  },
  {
   "cell_type": "markdown",
   "id": "7a878ab8-0bd0-4dfb-bd27-f4772dfbbba3",
   "metadata": {},
   "source": [
    "# Arbitrary Arguments:"
   ]
  },
  {
   "cell_type": "code",
   "execution_count": 43,
   "id": "3113eca9-c5b2-438d-aea9-7a2c9dab5ea9",
   "metadata": {},
   "outputs": [],
   "source": [
    "def add(a,b=0, *other):\n",
    "    print (a)\n",
    "    print (b)\n",
    "    print (other)"
   ]
  },
  {
   "cell_type": "code",
   "execution_count": 44,
   "id": "2b09f810-0349-40bd-a86e-8198543897ff",
   "metadata": {},
   "outputs": [
    {
     "name": "stdout",
     "output_type": "stream",
     "text": [
      "1\n",
      "0\n",
      "()\n"
     ]
    }
   ],
   "source": [
    "add(1)"
   ]
  },
  {
   "cell_type": "code",
   "execution_count": 45,
   "id": "93e1fa0c-d105-4c67-9e22-f10c9e176441",
   "metadata": {},
   "outputs": [
    {
     "name": "stdout",
     "output_type": "stream",
     "text": [
      "1\n",
      "2\n",
      "(3, 4, 5, 6, 7, 8, 9)\n"
     ]
    }
   ],
   "source": [
    "add(1,2,3,4,5,6,7,8,9)"
   ]
  },
  {
   "cell_type": "code",
   "execution_count": 48,
   "id": "5cda2d40-3eb9-432b-8a7a-0daafb03e8f6",
   "metadata": {},
   "outputs": [
    {
     "name": "stdout",
     "output_type": "stream",
     "text": [
      "42\n"
     ]
    }
   ],
   "source": [
    "def add(a,b=0, *other):\n",
    "    print(a+b+sum(other))\n",
    "add(3,5,5,8,6,9,4,2)"
   ]
  },
  {
   "cell_type": "code",
   "execution_count": 46,
   "id": "8e7f77b7-c1e5-4ca9-950b-36b03c49234f",
   "metadata": {},
   "outputs": [
    {
     "data": {
      "text/plain": [
       "42"
      ]
     },
     "execution_count": 46,
     "metadata": {},
     "output_type": "execute_result"
    }
   ],
   "source": [
    "sum((3,4,5,6,7,8,9))"
   ]
  },
  {
   "cell_type": "code",
   "execution_count": 51,
   "id": "ba356963-bef4-4d93-bca5-e1c4ab151189",
   "metadata": {},
   "outputs": [],
   "source": [
    "def profile_builder(name, age, qualification, income, *other_info):\n",
    "    profile = {}\n",
    "    profile['Name'] = name\n",
    "    profile['Age'] = age\n",
    "    profile['Qualification'] = qualification\n",
    "    profile['Income'] = income\n",
    "    profile['Other Info'] = other_info\n",
    "\n",
    "    print(profile)"
   ]
  },
  {
   "cell_type": "code",
   "execution_count": 53,
   "id": "879c288a-ec92-4773-99f0-bcbf8ab60a6f",
   "metadata": {},
   "outputs": [
    {
     "ename": "TypeError",
     "evalue": "profile_builder() got an unexpected keyword argument 'City'",
     "output_type": "error",
     "traceback": [
      "\u001b[1;31m---------------------------------------------------------------------------\u001b[0m",
      "\u001b[1;31mTypeError\u001b[0m                                 Traceback (most recent call last)",
      "Cell \u001b[1;32mIn[53], line 1\u001b[0m\n\u001b[1;32m----> 1\u001b[0m profile_builder(\u001b[38;5;124m'\u001b[39m\u001b[38;5;124mArish\u001b[39m\u001b[38;5;124m'\u001b[39m, \u001b[38;5;241m24\u001b[39m, \u001b[38;5;124m'\u001b[39m\u001b[38;5;124mGraduate\u001b[39m\u001b[38;5;124m'\u001b[39m, \u001b[38;5;241m40000\u001b[39m, City \u001b[38;5;241m=\u001b[39m \u001b[38;5;124m'\u001b[39m\u001b[38;5;124mKarachi\u001b[39m\u001b[38;5;124m'\u001b[39m, Height \u001b[38;5;241m=\u001b[39m \u001b[38;5;124m'\u001b[39m\u001b[38;5;124m5.8\u001b[39m\u001b[38;5;124m\"\u001b[39m\u001b[38;5;124m'\u001b[39m, Color \u001b[38;5;241m=\u001b[39m \u001b[38;5;124m'\u001b[39m\u001b[38;5;124mFair\u001b[39m\u001b[38;5;124m'\u001b[39m, Profession \u001b[38;5;241m=\u001b[39m \u001b[38;5;124m'\u001b[39m\u001b[38;5;124mData Scientist\u001b[39m\u001b[38;5;124m'\u001b[39m)\n",
      "\u001b[1;31mTypeError\u001b[0m: profile_builder() got an unexpected keyword argument 'City'"
     ]
    }
   ],
   "source": [
    "profile_builder('Arish', 24, 'Graduate', 40000, City = 'Karachi', Height = '5.8\"', Color = 'Fair', Profession = 'Data Scientist')"
   ]
  },
  {
   "cell_type": "code",
   "execution_count": 61,
   "id": "13f0d127-06bb-4e3a-8de8-357da65818ca",
   "metadata": {},
   "outputs": [],
   "source": [
    "def profile_builder(name, age, qualification, income, **other_info): # ** To save the input as dictionary\n",
    "    profile = {}\n",
    "    profile['Name'] = name\n",
    "    profile['Age'] = age\n",
    "    profile['Qualification'] = qualification\n",
    "    profile['Income'] = income\n",
    "    profile['Other Info'] = other_info\n",
    "\n",
    "    print(profile)"
   ]
  },
  {
   "cell_type": "code",
   "execution_count": 62,
   "id": "6e4bb839-9ca1-4ce5-8ae1-842e6e20f302",
   "metadata": {},
   "outputs": [
    {
     "name": "stdout",
     "output_type": "stream",
     "text": [
      "{'Name': 'Arish', 'Age': 24, 'Qualification': 'Graduate', 'Income': 40000, 'Other Info': {'City': 'Karachi', 'Height': '5.8\"', 'Color': 'Fair', 'Profession': 'Data Scientist'}}\n"
     ]
    }
   ],
   "source": [
    "profile_builder('Arish', 24, 'Graduate', 40000, City = 'Karachi', Height = '5.8\"', Color = 'Fair', Profession = 'Data Scientist')"
   ]
  },
  {
   "cell_type": "code",
   "execution_count": 65,
   "id": "ed1e9832-04e3-486b-865d-95a28f943a6c",
   "metadata": {},
   "outputs": [],
   "source": [
    "def profile_builder(name, age, qualification, income, **other_info): # ** To save the input as dictionary\n",
    "    profile = {}\n",
    "    profile['Name'] = name\n",
    "    profile['Age'] = age\n",
    "    profile['Qualification'] = qualification\n",
    "    profile['Income'] = income\n",
    "    profile.update(other_info)\n",
    "\n",
    "    print(profile)"
   ]
  },
  {
   "cell_type": "code",
   "execution_count": 66,
   "id": "ad59f623-ab7f-4b11-98e9-b325ad91938d",
   "metadata": {},
   "outputs": [
    {
     "name": "stdout",
     "output_type": "stream",
     "text": [
      "{'Name': 'Arish', 'Age': 24, 'Qualification': 'Graduate', 'Income': 40000, 'City': 'Karachi', 'Height': '5.8\"', 'Color': 'Fair', 'Profession': 'Data Scientist'}\n"
     ]
    }
   ],
   "source": [
    "profile_builder('Arish', 24, 'Graduate', 40000, City = 'Karachi', Height = '5.8\"', Color = 'Fair', Profession = 'Data Scientist')"
   ]
  },
  {
   "cell_type": "code",
   "execution_count": null,
   "id": "c52ab2b6-2f75-4337-a49a-8fb3dc2f1ac1",
   "metadata": {},
   "outputs": [],
   "source": []
  }
 ],
 "metadata": {
  "kernelspec": {
   "display_name": "Python 3 (ipykernel)",
   "language": "python",
   "name": "python3"
  },
  "language_info": {
   "codemirror_mode": {
    "name": "ipython",
    "version": 3
   },
   "file_extension": ".py",
   "mimetype": "text/x-python",
   "name": "python",
   "nbconvert_exporter": "python",
   "pygments_lexer": "ipython3",
   "version": "3.12.7"
  }
 },
 "nbformat": 4,
 "nbformat_minor": 5
}
